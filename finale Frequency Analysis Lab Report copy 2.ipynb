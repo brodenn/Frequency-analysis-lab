{
 "cells": [
  {
   "cell_type": "markdown",
   "id": "20dbf46e",
   "metadata": {},
   "source": [
    "<style>\n",
    "/* ===== Simple, stable PDF print — NO page numbering, NO Paged.js needed ===== */\n",
    "@media print {\n",
    "\n",
    "  /* Page size & margins */\n",
    "  @page {\n",
    "    size: A4;\n",
    "    margin: 14mm 14mm 18mm 14mm;\n",
    "  }\n",
    "\n",
    "  /* Start MAIN content on a new page if you want; remove if not desired */\n",
    "  .main {\n",
    "    break-before: page;   /* clean jump from front-matter to main */\n",
    "  }\n",
    "\n",
    "  /* Front-matter: use .pagebreak-after on the blocks you want to end the page */\n",
    "  .pagebreak-after { break-after: page !important; }\n",
    "\n",
    "  /* Gentle page breaking */\n",
    "  h1, h2, h3, h4 { break-after: avoid; }\n",
    "  figure, table, pre, code, .output_wrapper, .jp-OutputArea,\n",
    "  .figure-block, .table-block, .caption { break-inside: avoid; }\n",
    "\n",
    "  /* Manual page break utility */\n",
    "  .pagebreak { break-before: page !important; }\n",
    "\n",
    "  /* Guard against accidental leading page breaks */\n",
    "  body > .pagebreak:first-child,\n",
    "  body > .front-matter:first-child + .pagebreak { display: none !important; }\n",
    "\n",
    "  /* Hide Jupyter UI in print */\n",
    "  .jp-CodeCell .jp-Cell-inputWrapper,\n",
    "  .cell.code_cell .input,\n",
    "  .jp-InputPrompt, .prompt,\n",
    "  .jp-Toolbar, .jp-Toolbar-item, .lm-TabBar, .no-print { display: none !important; }\n",
    "\n",
    "  /* Keep colors/logos; scale images safely */\n",
    "  body { -webkit-print-color-adjust: exact; print-color-adjust: exact; }\n",
    "  img  { max-width: 100% !important; height: auto !important; }\n",
    "}\n",
    "\n",
    "/* No @page :first hack; no counters; no named page boxes. */\n",
    "</style>\n"
   ]
  },
  {
   "cell_type": "markdown",
   "id": "911e3bed",
   "metadata": {},
   "source": [
    "<!-- COVER (front-matter, no numbering) -->\n",
    "<div class=\"front-matter pagebreak-after\" style=\"text-align:center; margin-top:40px;\">\n",
    "  <img src=\"yrgo.png\" alt=\"Yrgo Logo\" style=\"height:80px; margin-bottom:25px;\">\n",
    "  <h1 style=\"margin:0; font-size:28pt;\">Signals and Sensors ELA24</h1>\n",
    "  <h2 style=\"margin:8px 0 25px 0; font-weight:normal; font-size:22pt;\">\n",
    "    Laboratory 1 – Frequency Analysis\n",
    "  </h2>\n",
    "  <p style=\"font-size:12pt; line-height:1.6; margin:20px 0;\">\n",
    "    Author: <b>Niklas Brodén</b><br>\n",
    "    Supervisor: <b>Erik Jagre</b><br>\n",
    "    Date of Lab: 2025-09-02<br>\n",
    "    Date of Report: 2025-09-19\n",
    "  </p>\n",
    "  <img src=\"lab_picture.jpg\" alt=\"Lab Photo\"\n",
    "       style=\"max-width:75%; margin-top:35px; border:1px solid #ccc;\">\n",
    "</div>\n",
    "\n",
    "<!-- ABSTRACT (front-matter, no numbering) -->\n",
    "<div class=\"front-matter pagebreak-after\">\n",
    "  <h2>Abstract</h2>\n",
    "  <p>\n",
    "    This lab studied Fourier analysis of periodic waveforms and the effect of a first-order RC low-pass filter.\n",
    "    Sawtooth, triangle, and sine signals (1 kHz, 5 Vpp) were generated using both a Keysight oscilloscope AWG and an external RND function generator.\n",
    "    The signals were analyzed with the oscilloscope FFT (exported in Vrms) and compared with theoretical Fourier coefficients after conversion to dBVrms.\n",
    "    Results were also expressed in dBc (normalized to the fundamental) to allow easier comparison of spectral shapes.\n",
    "  </p>\n",
    "  <p>\n",
    "    Measurements confirmed the expected harmonic patterns: about 1/n decay for sawtooth, 1/n² decay for triangle (with even orders at the noise floor),\n",
    "    and only the fundamental for sine. Adding an RC stage with measured values R = 8.14 kΩ and C = 9.853 nF gave a cutoff\n",
    "    f<sub>c</sub> ≈ 1984 Hz and the predicted −20 dB/decade attenuation of higher harmonics, which produced smoother time-domain signals.\n",
    "  </p>\n",
    "  <p>\n",
    "    Small deviations of a few dB came from FFT windowing (Hann), limited frequency resolution, bin alignment, generator bandwidth/quantization, \n",
    "    and component tolerances (including parasitic capacitances). The workflow—oscilloscope FFT plus Python post-processing—proved effective\n",
    "    for extracting harmonic levels and confirming simple analytical models under realistic conditions.\n",
    "  </p>\n",
    "</div>\n",
    "\n",
    "<!-- TABLE OF CONTENTS (front-matter, no numbering) -->\n",
    "<div class=\"front-matter\">\n",
    "  <h2>Table of Contents</h2>\n",
    "  <ol>\n",
    "    <li>Introduction</li>\n",
    "    <li>Theory</li>\n",
    "    <li>Experiment</li>\n",
    "    <li>Results\n",
    "      <ol type=\"a\">\n",
    "        <li>4.1 Sawtooth</li>\n",
    "        <li>4.2 Triangle</li>\n",
    "        <li>4.3 Sine</li>\n",
    "        <li>4.4 RC Filter</li>\n",
    "      </ol>\n",
    "    </li>\n",
    "    <li>Discussion</li>\n",
    "    <li>Conclusions</li>\n",
    "    <li>References</li>\n",
    "    <li>Appendix A — Figures</li>\n",
    "    <li>Appendix B — Python Code</li>\n",
    "  </ol>\n",
    "\n",
    "  <p><strong>Numbering conventions:</strong></p>\n",
    "  <ul>\n",
    "    <li><strong>Figures:</strong> Numbered sequentially (Fig. 1–10) in the main text.</li>\n",
    "    <li><strong>Tables:</strong> Numbered by section and order of appearance.</li>\n",
    "  </ul>\n",
    "</div>\n",
    "\n",
    "<!-- Start the numbered section later with: <div class=\"main\"> ... </div> -->\n"
   ]
  },
  {
   "cell_type": "markdown",
   "id": "intro",
   "metadata": {},
   "source": [
    "<div class=\"main\">\n",
    "\n",
    "  <!-- Page counter reset + new page starts here -->\n",
    "  <h2 class=\"start-main\">1. Introduction</h2>\n",
    "\n",
    "  <p>\n",
    "    The Fourier series is a basic tool in signal processing and electronics. \n",
    "    It represents periodic signals as sums of sinusoids, making it possible \n",
    "    to study their behavior in the frequency domain. This is important for \n",
    "    understanding bandwidth limits, distortion, and noise.\n",
    "  </p>\n",
    "\n",
    "  <p>\n",
    "    In many systems, such as filters and communication links, \n",
    "    frequency-domain models are needed to predict performance. \n",
    "    For this reason, Fourier analysis is central in both theory and measurement.\n",
    "  </p>\n",
    "\n",
    "  <p>The purpose of this lab is:</p>\n",
    "  <ul>\n",
    "    <li>To compare theoretical Fourier spectra of sawtooth, triangle, and sine \n",
    "        waves with experimental FFT measurements from an oscilloscope.</li>\n",
    "    <li>To study how a first-order RC low-pass filter changes the harmonic content \n",
    "        of signals and to confirm the expected −20 dB/decade roll-off after the cutoff.</li>\n",
    "  </ul>\n",
    "\n",
    "  <p>\n",
    "    By combining oscilloscope FFT data with Python post-processing, \n",
    "    the lab also shows how theoretical Fourier coefficients can be linked \n",
    "    to real measurements. Normalization to dBc makes spectral shapes easier \n",
    "    to compare, helping to see if models match practical results.\n",
    "  </p>\n",
    "\n",
    "</div>\n"
   ]
  },
  {
   "cell_type": "markdown",
   "id": "4a579535",
   "metadata": {},
   "source": [
    "<!-- Starta Theory på ny sida -->\n",
    "<div class=\"pagebreak\"></div>\n",
    "\n",
    "## Theory\n",
    "\n",
    "The Fourier series coefficients used later in the results are listed below. Each equation includes a short label and one-sentence interpretation.\n",
    "\n",
    "- Eq. (1): Sawtooth harmonics (all harmonics)\n",
    "\n",
    "  $$A_n = \\dfrac{2A}{\\pi n},\\; n\\ge 1$$\n",
    "\n",
    "  Sawtooth contains all harmonics with amplitudes decreasing approximately as 1/n.\n",
    "\n",
    "- Eq. (2): Triangle harmonics (odd only)\n",
    "\n",
    "  $$A_n = \\dfrac{8A}{\\pi^2 n^2},\\; n=1,3,5,\\dots$$\n",
    "\n",
    "  Triangle contains only odd harmonics with amplitudes decreasing approximately as 1/n^2.\n",
    "\n",
    "- Eq. (3): Sine harmonic content\n",
    "\n",
    "  $$A_1 = A,\\; A_{n>1}=0$$\n",
    "\n",
    "  An ideal sine contains only the fundamental.\n",
    "\n",
    "- Eq. (4): RMS and dBV conversion\n",
    "\n",
    "  $$V_{\\mathrm{rms}} = \\dfrac{V_{\\mathrm{peak}}}{\\sqrt{2}},\\qquad \\mathrm{dBV} = 20\\log_{10}\\!\\left(\\dfrac{V_{\\mathrm{rms}}}{1\\,\\mathrm{V}}\\right)$$\n",
    "\n",
    "  These relations convert peak values to RMS and express amplitudes on a dBVrms scale.\n",
    "\n",
    "- Eq. (5): RC low-pass transfer function and cutoff\n",
    "\n",
    "  $$|H(f)| = \\dfrac{1}{\\sqrt{1 + (f/f_c)^2}},\\qquad \\angle H(f) = -\\arctan(f/f_c),\\qquad f_c = \\dfrac{1}{2\\pi RC}$$\n",
    "\n",
    "  The RC filter attenuates higher frequencies; above the cutoff, magnitude falls with roughly −20 dB/decade.\n",
    "\n",
    "<div class=\"keep-with-next nobreak\">Sources for formulas and lab guidance: [1]–[3].</div>\n"
   ]
  },
  {
   "cell_type": "code",
   "execution_count": 165,
   "id": "78aa2f4a",
   "metadata": {},
   "outputs": [],
   "source": [
    "# Hide warnings globally (keep output clean)\n",
    "import warnings\n",
    "warnings.filterwarnings(\"ignore\")\n",
    "warnings.filterwarnings(\"ignore\", category=FutureWarning)\n",
    "\n",
    "\n",
    "# === CORE MATH: Fourier + RC (single source of truth) ===\n",
    "import numpy as np\n",
    "import pandas as pd\n",
    "\n",
    "# ----- Lab constants (edit once here) -----\n",
    "F0 = 1000.0              # fundamental [Hz]\n",
    "# Drive level: either set VPP directly OR infer it from a measured fundamental in dBVrms\n",
    "VPP_SCOPE = 5.0          # Vpp seen on scope time trace (set to your actual)\n",
    "A_PEAK    = VPP_SCOPE/2  # Vpeak used in Fourier formulas\n",
    "\n",
    "# Measured RC (use measured everywhere for consistency)\n",
    "R_MEAS = 8140.0          # Ohm\n",
    "C_MEAS = 9.853e-9        # F\n",
    "FC_MEAS = 1.0/(2*np.pi*R_MEAS*C_MEAS)\n",
    "\n",
    "# ---------- Helpers ----------\n",
    "def vrms_to_dBVrms(vrms, floor=1e-12):\n",
    "    v = np.maximum(np.asarray(vrms, float), floor)\n",
    "    return 20*np.log10(v)\n",
    "\n",
    "def rc_mag(f, fc=FC_MEAS):\n",
    "    f = np.asarray(f, float)\n",
    "    return 1.0/np.sqrt(1.0 + (f/fc)**2)\n",
    "\n",
    "# ---------- Fourier peak -> Vrms -> dBVrms ----------\n",
    "def saw_vpk(n, A=A_PEAK):\n",
    "    n = np.asarray(n, int)\n",
    "    return 2.0*A/(np.pi*np.maximum(n, 1))                 # all n\n",
    "\n",
    "def tri_vpk(n, A=A_PEAK):\n",
    "    n = np.asarray(n, int)\n",
    "    out = np.zeros_like(n, float)\n",
    "    odd = (n % 2 == 1)\n",
    "    out[odd] = 8.0*A/(np.pi**2 * np.maximum(n[odd], 1)**2) # odd only\n",
    "    return out                                             # even -> 0\n",
    "\n",
    "def sin_vpk(n, A=A_PEAK):\n",
    "    n = np.asarray(n, int)\n",
    "    return (n == 1).astype(float)*A                        # only n=1\n",
    "\n",
    "def vpk_to_dBVrms(vpk):\n",
    "    vrms = np.asarray(vpk, float)/np.sqrt(2.0)\n",
    "    return vrms_to_dBVrms(vrms)\n",
    "\n",
    "def saw_dBVrms(n, A=A_PEAK): return vpk_to_dBVrms(saw_vpk(n, A))\n",
    "def tri_dBVrms(n, A=A_PEAK): return vpk_to_dBVrms(tri_vpk(n, A))\n",
    "def sin_dBVrms(n, A=A_PEAK): return vpk_to_dBVrms(sin_vpk(n, A))\n",
    "\n",
    "def fourier_dBVrms(waveform, n, A=A_PEAK):\n",
    "    wf = waveform.lower()\n",
    "    if wf == 'saw': return saw_dBVrms(n, A)\n",
    "    if wf == 'tri': return tri_dBVrms(n, A)\n",
    "    if wf == 'sin': return sin_dBVrms(n, A)\n",
    "    raise ValueError(\"waveform must be 'saw'|'tri'|'sin'\")\n",
    "\n",
    "def fourier_times_rc_dBVrms(waveform, n, A=A_PEAK, f0=F0):\n",
    "    # 20*log10( |Fourier| * |H| ) = dBV_fourier + 20*log10|H|\n",
    "    return fourier_dBVrms(waveform, n, A) + vrms_to_dBVrms(rc_mag(np.asarray(n)*f0))\n",
    "\n",
    "# ---------- Utility: harmonics picker from spectrum ----------\n",
    "def pick_harmonics_from_spectrum(spec_df, f0=F0, n_max=10, col='dBVrms'):\n",
    "    f = spec_df['freq'].values\n",
    "    y = spec_df[col].values\n",
    "    n_all = np.arange(1, n_max+1); targets = n_all*f0\n",
    "    ok = (targets >= f.min()) & (targets <= f.max())\n",
    "    n = n_all[ok]; t = targets[ok]\n",
    "    idx = np.searchsorted(f, t); idx = np.clip(idx, 1, len(f)-1)\n",
    "    choose = np.where(np.abs(f[idx]-t) < np.abs(f[idx-1]-t), idx, idx-1)\n",
    "    return pd.DataFrame({'n': n, 'freq_bin': f[choose], col: y[choose]})\n",
    "\n",
    "# ---------- Optional: infer Vpp from a measured fundamental in dBVrms ----------\n",
    "def infer_vpp_from_dBV_fund(dBV_fund):\n",
    "    Vrms = 10**(dBV_fund/20.0)\n",
    "    Vpk  = Vrms*np.sqrt(2.0)\n",
    "    return 2.0*Vpk  # Vpp\n"
   ]
  },
  {
   "cell_type": "markdown",
   "id": "setup",
   "metadata": {},
   "source": [
    "<div class=\"pagebreak\"></div>\n",
    "\n",
    "## Experiment\n",
    "\n",
    "### Equipment\n",
    "- Keysight DSOX1204G oscilloscope (FFT function and built-in AWG)  \n",
    "- RND Lab Function Generator, RND 360-00002 (500 MSa/s, 14-bit, 35 MHz) [8][9]  \n",
    "- Resistor: nominal 8.2 kΩ, measured 8.140 kΩ (Fluke 155)  \n",
    "- Capacitor: nominal 10 nF, measured 9.853 nF (Agilent U1731C)  \n",
    "- Multimeter: Fluke 155  \n",
    "- LCR meter: Agilent U1731C  \n",
    "- Software: Python (NumPy, Pandas, Matplotlib)  \n",
    "\n",
    "### Procedure\n",
    "1. Set the sources to 1 kHz, 5 Vpp. Select sawtooth, triangle, and sine waveforms.  \n",
    "   - Signals were taken from both the Keysight AWG and the external RND generator.  \n",
    "2. Record FFT spectra with about 20,000 points per trace for good frequency resolution.  \n",
    "3. Export FFT data using Keysight BenchVue [7]. The oscilloscope FFT gives amplitudes in **Vrms** (with a Hann window [6]); these were converted to **dBVrms** in Python.  \n",
    "4. Extract harmonics \\(n = 1…10\\) at multiples of 1 kHz.  \n",
    "5. Compare measured spectra with theoretical Fourier coefficients. For the RC case, apply \\(|H(f)|\\).  \n",
    "6. Capture time-domain screenshots of input and RC-filtered signals.  \n",
    "\n",
    "*Note:* Results are given in **dBVrms** (absolute, ref. 1 Vrms) and **dBc** (relative to the fundamental). Using dBc removes scaling differences between sources and highlights harmonic decay compared with theory.  \n",
    "\n",
    "### Calculations and Validation\n",
    "Two quick calculations were made before analyzing the spectra:\n",
    "\n",
    "1. **RC cutoff frequency**  \n",
    "   Using the measured values:  \n",
    "\n",
    "   $$\n",
    "   f_c = \\frac{1}{2\\pi RC} \\approx 1984~\\text{Hz}, \n",
    "   \\quad R = 8140~\\Omega,\\; C = 9.853~\\text{nF}.\n",
    "   $$  \n",
    "\n",
    "2. **Fourier coefficients**  \n",
    "   Harmonic amplitudes for sawtooth and triangle waves were calculated both manually and with Python. The results agreed within a few hundredths of a decibel. These tiny differences come from rounding of decimals in manual calculations and limited precision in logarithmic conversions. Agreement within this small range confirms that the Python implementation of Fourier coefficients was correct.\n"
   ]
  },
  {
   "cell_type": "code",
   "execution_count": 166,
   "id": "fd9357b3",
   "metadata": {},
   "outputs": [],
   "source": [
    "# Compute cutoff using measured R and C values (for reference)\n",
    "import numpy as np\n",
    "R_meas = 8140.0        # ohms (Fluke 155)\n",
    "C_meas = 9.853e-9      # farads (Agilent U1731C)\n",
    "fc_meas = 1.0/(2*np.pi*R_meas*C_meas)"
   ]
  },
  {
   "cell_type": "code",
   "execution_count": 167,
   "id": "aa2d3a18",
   "metadata": {},
   "outputs": [
    {
     "data": {
      "text/html": [
       "<div class='figure-note keep-with-next nobreak'>Manual vs Python (Fourier). Agreement within rounding confirms correct implementation.</div>"
      ],
      "text/plain": [
       "<IPython.core.display.HTML object>"
      ]
     },
     "metadata": {},
     "output_type": "display_data"
    },
    {
     "data": {
      "text/html": [
       "<div class='caption' style='font-weight:600'>Table 1a. Manual vs Python — Fourier coefficients (dBVrms)</div>"
      ],
      "text/plain": [
       "<IPython.core.display.HTML object>"
      ]
     },
     "metadata": {},
     "output_type": "display_data"
    },
    {
     "data": {
      "text/html": [
       "<div>\n",
       "<style scoped>\n",
       "    .dataframe tbody tr th:only-of-type {\n",
       "        vertical-align: middle;\n",
       "    }\n",
       "\n",
       "    .dataframe tbody tr th {\n",
       "        vertical-align: top;\n",
       "    }\n",
       "\n",
       "    .dataframe thead th {\n",
       "        text-align: right;\n",
       "    }\n",
       "</style>\n",
       "<table border=\"1\" class=\"dataframe\">\n",
       "  <thead>\n",
       "    <tr style=\"text-align: right;\">\n",
       "      <th></th>\n",
       "      <th>n</th>\n",
       "      <th>saw_dBV_manual</th>\n",
       "      <th>saw_dBV_python</th>\n",
       "      <th>Δ_saw_dB</th>\n",
       "      <th>tri_dBV_manual</th>\n",
       "      <th>tri_dBV_python</th>\n",
       "      <th>Δ_tri_dB</th>\n",
       "    </tr>\n",
       "  </thead>\n",
       "  <tbody>\n",
       "    <tr>\n",
       "      <th>0</th>\n",
       "      <td>1</td>\n",
       "      <td>1.02</td>\n",
       "      <td>1.03</td>\n",
       "      <td>0.01</td>\n",
       "      <td>3.12</td>\n",
       "      <td>3.12</td>\n",
       "      <td>0.00</td>\n",
       "    </tr>\n",
       "    <tr>\n",
       "      <th>1</th>\n",
       "      <td>2</td>\n",
       "      <td>-4.95</td>\n",
       "      <td>-4.99</td>\n",
       "      <td>-0.05</td>\n",
       "      <td>0.00</td>\n",
       "      <td>-240.00</td>\n",
       "      <td>-240.00</td>\n",
       "    </tr>\n",
       "    <tr>\n",
       "      <th>2</th>\n",
       "      <td>3</td>\n",
       "      <td>-8.52</td>\n",
       "      <td>-8.52</td>\n",
       "      <td>0.01</td>\n",
       "      <td>-16.00</td>\n",
       "      <td>-15.96</td>\n",
       "      <td>0.04</td>\n",
       "    </tr>\n",
       "    <tr>\n",
       "      <th>3</th>\n",
       "      <td>4</td>\n",
       "      <td>-10.97</td>\n",
       "      <td>-11.02</td>\n",
       "      <td>-0.05</td>\n",
       "      <td>0.00</td>\n",
       "      <td>-240.00</td>\n",
       "      <td>-240.00</td>\n",
       "    </tr>\n",
       "    <tr>\n",
       "      <th>4</th>\n",
       "      <td>5</td>\n",
       "      <td>-12.91</td>\n",
       "      <td>-12.95</td>\n",
       "      <td>-0.05</td>\n",
       "      <td>-24.84</td>\n",
       "      <td>-24.83</td>\n",
       "      <td>0.01</td>\n",
       "    </tr>\n",
       "    <tr>\n",
       "      <th>5</th>\n",
       "      <td>6</td>\n",
       "      <td>-13.38</td>\n",
       "      <td>-14.54</td>\n",
       "      <td>-1.15</td>\n",
       "      <td>0.00</td>\n",
       "      <td>-240.00</td>\n",
       "      <td>-240.00</td>\n",
       "    </tr>\n",
       "    <tr>\n",
       "      <th>6</th>\n",
       "      <td>7</td>\n",
       "      <td>-15.78</td>\n",
       "      <td>-15.88</td>\n",
       "      <td>-0.10</td>\n",
       "      <td>-30.76</td>\n",
       "      <td>-30.68</td>\n",
       "      <td>0.08</td>\n",
       "    </tr>\n",
       "    <tr>\n",
       "      <th>7</th>\n",
       "      <td>8</td>\n",
       "      <td>-17.00</td>\n",
       "      <td>-17.04</td>\n",
       "      <td>-0.04</td>\n",
       "      <td>0.00</td>\n",
       "      <td>-240.00</td>\n",
       "      <td>-240.00</td>\n",
       "    </tr>\n",
       "    <tr>\n",
       "      <th>8</th>\n",
       "      <td>9</td>\n",
       "      <td>-18.00</td>\n",
       "      <td>-18.06</td>\n",
       "      <td>-0.06</td>\n",
       "      <td>-35.05</td>\n",
       "      <td>-35.05</td>\n",
       "      <td>0.01</td>\n",
       "    </tr>\n",
       "    <tr>\n",
       "      <th>9</th>\n",
       "      <td>10</td>\n",
       "      <td>-18.93</td>\n",
       "      <td>-18.97</td>\n",
       "      <td>-0.05</td>\n",
       "      <td>0.00</td>\n",
       "      <td>-240.00</td>\n",
       "      <td>-240.00</td>\n",
       "    </tr>\n",
       "  </tbody>\n",
       "</table>\n",
       "</div>"
      ],
      "text/plain": [
       "    n  saw_dBV_manual  saw_dBV_python  Δ_saw_dB  tri_dBV_manual  \\\n",
       "0   1            1.02            1.03      0.01            3.12   \n",
       "1   2           -4.95           -4.99     -0.05            0.00   \n",
       "2   3           -8.52           -8.52      0.01          -16.00   \n",
       "3   4          -10.97          -11.02     -0.05            0.00   \n",
       "4   5          -12.91          -12.95     -0.05          -24.84   \n",
       "5   6          -13.38          -14.54     -1.15            0.00   \n",
       "6   7          -15.78          -15.88     -0.10          -30.76   \n",
       "7   8          -17.00          -17.04     -0.04            0.00   \n",
       "8   9          -18.00          -18.06     -0.06          -35.05   \n",
       "9  10          -18.93          -18.97     -0.05            0.00   \n",
       "\n",
       "   tri_dBV_python  Δ_tri_dB  \n",
       "0            3.12      0.00  \n",
       "1         -240.00   -240.00  \n",
       "2          -15.96      0.04  \n",
       "3         -240.00   -240.00  \n",
       "4          -24.83      0.01  \n",
       "5         -240.00   -240.00  \n",
       "6          -30.68      0.08  \n",
       "7         -240.00   -240.00  \n",
       "8          -35.05      0.01  \n",
       "9         -240.00   -240.00  "
      ]
     },
     "metadata": {},
     "output_type": "display_data"
    },
    {
     "data": {
      "text/html": [
       "<div class='pagebreak'></div>"
      ],
      "text/plain": [
       "<IPython.core.display.HTML object>"
      ]
     },
     "metadata": {},
     "output_type": "display_data"
    },
    {
     "data": {
      "text/html": [
       "<div class='figure-note keep-with-next nobreak'>Manual vs Python (RC). Agreement within rounding confirms correct implementation.</div>"
      ],
      "text/plain": [
       "<IPython.core.display.HTML object>"
      ]
     },
     "metadata": {},
     "output_type": "display_data"
    },
    {
     "data": {
      "text/html": [
       "<div class='caption' style='font-weight:600'>Table 1b. Manual vs Python — RC magnitude and dB</div>"
      ],
      "text/plain": [
       "<IPython.core.display.HTML object>"
      ]
     },
     "metadata": {},
     "output_type": "display_data"
    },
    {
     "data": {
      "text/html": [
       "<div>\n",
       "<style scoped>\n",
       "    .dataframe tbody tr th:only-of-type {\n",
       "        vertical-align: middle;\n",
       "    }\n",
       "\n",
       "    .dataframe tbody tr th {\n",
       "        vertical-align: top;\n",
       "    }\n",
       "\n",
       "    .dataframe thead th {\n",
       "        text-align: right;\n",
       "    }\n",
       "</style>\n",
       "<table border=\"1\" class=\"dataframe\">\n",
       "  <thead>\n",
       "    <tr style=\"text-align: right;\">\n",
       "      <th></th>\n",
       "      <th>n</th>\n",
       "      <th>rc_mag_manual</th>\n",
       "      <th>rc_mag_python</th>\n",
       "      <th>Δ_rc_mag</th>\n",
       "      <th>rc_dB_manual</th>\n",
       "      <th>rc_dB_python</th>\n",
       "      <th>Δ_rc_dB</th>\n",
       "    </tr>\n",
       "  </thead>\n",
       "  <tbody>\n",
       "    <tr>\n",
       "      <th>0</th>\n",
       "      <td>1</td>\n",
       "      <td>0.89</td>\n",
       "      <td>0.89</td>\n",
       "      <td>0.00</td>\n",
       "      <td>-1.01</td>\n",
       "      <td>-0.98</td>\n",
       "      <td>0.03</td>\n",
       "    </tr>\n",
       "    <tr>\n",
       "      <th>1</th>\n",
       "      <td>2</td>\n",
       "      <td>0.70</td>\n",
       "      <td>0.70</td>\n",
       "      <td>0.00</td>\n",
       "      <td>-3.10</td>\n",
       "      <td>-3.04</td>\n",
       "      <td>0.06</td>\n",
       "    </tr>\n",
       "    <tr>\n",
       "      <th>2</th>\n",
       "      <td>3</td>\n",
       "      <td>0.54</td>\n",
       "      <td>0.55</td>\n",
       "      <td>0.01</td>\n",
       "      <td>-5.35</td>\n",
       "      <td>-5.17</td>\n",
       "      <td>0.18</td>\n",
       "    </tr>\n",
       "    <tr>\n",
       "      <th>3</th>\n",
       "      <td>4</td>\n",
       "      <td>0.44</td>\n",
       "      <td>0.44</td>\n",
       "      <td>0.00</td>\n",
       "      <td>-7.13</td>\n",
       "      <td>-7.04</td>\n",
       "      <td>0.09</td>\n",
       "    </tr>\n",
       "    <tr>\n",
       "      <th>4</th>\n",
       "      <td>5</td>\n",
       "      <td>0.36</td>\n",
       "      <td>0.37</td>\n",
       "      <td>0.01</td>\n",
       "      <td>-8.83</td>\n",
       "      <td>-8.66</td>\n",
       "      <td>0.17</td>\n",
       "    </tr>\n",
       "    <tr>\n",
       "      <th>5</th>\n",
       "      <td>6</td>\n",
       "      <td>0.31</td>\n",
       "      <td>0.31</td>\n",
       "      <td>0.00</td>\n",
       "      <td>-10.17</td>\n",
       "      <td>-10.06</td>\n",
       "      <td>0.11</td>\n",
       "    </tr>\n",
       "    <tr>\n",
       "      <th>6</th>\n",
       "      <td>7</td>\n",
       "      <td>0.27</td>\n",
       "      <td>0.27</td>\n",
       "      <td>0.00</td>\n",
       "      <td>-11.37</td>\n",
       "      <td>-11.29</td>\n",
       "      <td>0.08</td>\n",
       "    </tr>\n",
       "    <tr>\n",
       "      <th>7</th>\n",
       "      <td>8</td>\n",
       "      <td>0.24</td>\n",
       "      <td>0.24</td>\n",
       "      <td>0.00</td>\n",
       "      <td>-12.40</td>\n",
       "      <td>-12.37</td>\n",
       "      <td>0.03</td>\n",
       "    </tr>\n",
       "    <tr>\n",
       "      <th>8</th>\n",
       "      <td>9</td>\n",
       "      <td>0.21</td>\n",
       "      <td>0.22</td>\n",
       "      <td>0.01</td>\n",
       "      <td>-13.55</td>\n",
       "      <td>-13.34</td>\n",
       "      <td>0.21</td>\n",
       "    </tr>\n",
       "    <tr>\n",
       "      <th>9</th>\n",
       "      <td>10</td>\n",
       "      <td>0.19</td>\n",
       "      <td>0.19</td>\n",
       "      <td>0.00</td>\n",
       "      <td>-14.42</td>\n",
       "      <td>-14.22</td>\n",
       "      <td>0.20</td>\n",
       "    </tr>\n",
       "  </tbody>\n",
       "</table>\n",
       "</div>"
      ],
      "text/plain": [
       "    n  rc_mag_manual  rc_mag_python  Δ_rc_mag  rc_dB_manual  rc_dB_python  \\\n",
       "0   1           0.89           0.89      0.00         -1.01         -0.98   \n",
       "1   2           0.70           0.70      0.00         -3.10         -3.04   \n",
       "2   3           0.54           0.55      0.01         -5.35         -5.17   \n",
       "3   4           0.44           0.44      0.00         -7.13         -7.04   \n",
       "4   5           0.36           0.37      0.01         -8.83         -8.66   \n",
       "5   6           0.31           0.31      0.00        -10.17        -10.06   \n",
       "6   7           0.27           0.27      0.00        -11.37        -11.29   \n",
       "7   8           0.24           0.24      0.00        -12.40        -12.37   \n",
       "8   9           0.21           0.22      0.01        -13.55        -13.34   \n",
       "9  10           0.19           0.19      0.00        -14.42        -14.22   \n",
       "\n",
       "   Δ_rc_dB  \n",
       "0     0.03  \n",
       "1     0.06  \n",
       "2     0.18  \n",
       "3     0.09  \n",
       "4     0.17  \n",
       "5     0.11  \n",
       "6     0.08  \n",
       "7     0.03  \n",
       "8     0.21  \n",
       "9     0.20  "
      ]
     },
     "metadata": {},
     "output_type": "display_data"
    }
   ],
   "source": [
    "# Read manual calculations CSV (Swedish locale) and compare with Python theory — uses TOP MATH CELL\n",
    "import pandas as pd, numpy as np\n",
    "from IPython.display import display, HTML\n",
    "\n",
    "# ---- Input file ----\n",
    "manual_csv = 'Handberäkningar Frekvensanalys - Blad3.csv'\n",
    "\n",
    "# ---- Robust CSV read: handles decimal comma, stray spaces, unicode minus ----\n",
    "raw = pd.read_csv(manual_csv, sep=',', header=0, dtype=str, engine='python')\n",
    "raw = raw.applymap(lambda s: s.strip() if isinstance(s, str) else s)\n",
    "raw = raw.replace({'−': '-'}, regex=True)               # normalize unicode minus\n",
    "for col in raw.columns:                                 # decimal comma -> dot\n",
    "    if raw[col].dtype == object:\n",
    "        raw[col] = raw[col].str.replace(',', '.', regex=False)\n",
    "\n",
    "# ---- Header mapping (tolerant to trailing spaces/variants) ----\n",
    "cols_map = {\n",
    "    'n (n kHz)': 'n',\n",
    "    'Sågtandsvåg (dBVrms, teoretiska)': 'saw_dBV_manual',\n",
    "    'Triangelvåg (dBVrms, teoretiska)': 'tri_dBV_manual',\n",
    "    'Sågtandsvåg i RC-filter (Dämpning absolutbelopp)': 'rc_mag_manual',\n",
    "    'Sågtandsvåg i RC-filter (dämpning i dB jämfört med magnitud, teoretiska)': 'rc_dB_manual',\n",
    "}\n",
    "rename = {}\n",
    "for c in raw.columns:\n",
    "    for k, v in cols_map.items():\n",
    "        if c and c.strip().startswith(k.strip()):\n",
    "            rename[c] = v\n",
    "            break\n",
    "\n",
    "need = list(cols_map.values())\n",
    "manual = raw.rename(columns=rename)\n",
    "missing = [c for c in need if c not in manual.columns]\n",
    "if missing:\n",
    "    raise ValueError(f\"Missing expected columns in CSV: {missing}\\nFound: {list(manual.columns)}\")\n",
    "\n",
    "manual = manual[need].copy()\n",
    "for c in manual.columns:\n",
    "    manual[c] = pd.to_numeric(manual[c], errors='coerce')\n",
    "manual = manual.dropna(subset=['n']).astype({'n': int}).reset_index(drop=True)\n",
    "\n",
    "# ---- Python theory using the SHARED MATH CELL (assumed defined): F0, vrms_to_dBVrms(), rc_mag(), fourier_dBVrms() ----\n",
    "calc = manual[['n']].copy()\n",
    "calc['saw_dBV_python'] = fourier_dBVrms('saw', calc['n'].values)\n",
    "calc['tri_dBV_python'] = fourier_dBVrms('tri', calc['n'].values)\n",
    "calc['rc_mag_python']  = rc_mag(calc['n'].values * F0)\n",
    "calc['rc_dB_python']   = vrms_to_dBVrms(calc['rc_mag_python'].values)\n",
    "\n",
    "# ---- Merge & deltas ----\n",
    "cmp = manual.merge(calc, on='n', how='left')\n",
    "cmp['Δ_saw_dB'] = cmp['saw_dBV_python'] - cmp['saw_dBV_manual']\n",
    "cmp['Δ_tri_dB'] = cmp['tri_dBV_python'] - cmp['tri_dBV_manual']\n",
    "cmp['Δ_rc_mag'] = cmp['rc_mag_python']  - cmp['rc_mag_manual']\n",
    "cmp['Δ_rc_dB']  = cmp['rc_dB_python']   - cmp['rc_dB_manual']\n",
    "\n",
    "# ---- Formats ----\n",
    "fmt = {\n",
    "    'saw_dBV_manual': '{:.2f}', 'saw_dBV_python': '{:.2f}', 'Δ_saw_dB': '{:+.2f}',\n",
    "    'tri_dBV_manual': '{:.2f}', 'tri_dBV_python': '{:.2f}', 'Δ_tri_dB': '{:+.2f}',\n",
    "    'rc_mag_manual': '{:.2f}',  'rc_mag_python': '{:.2f}',  'Δ_rc_mag': '{:+.2f}',\n",
    "    'rc_dB_manual': '{:.2f}',   'rc_dB_python': '{:.2f}',   'Δ_rc_dB': '{:+.2f}',\n",
    "}\n",
    "\n",
    "# ======================\n",
    "# Table 1a — Fourier\n",
    "# ======================\n",
    "cols_a = [\n",
    "    'n',\n",
    "    'saw_dBV_manual','saw_dBV_python','Δ_saw_dB',\n",
    "    'tri_dBV_manual','tri_dBV_python','Δ_tri_dB',\n",
    "]\n",
    "display(HTML(\"<div class='figure-note keep-with-next nobreak'>Manual vs Python (Fourier). Agreement within rounding confirms correct implementation.</div>\"))\n",
    "display(HTML(\"<div class='caption' style='font-weight:600'>Table 1a. Manual vs Python — Fourier coefficients (dBVrms)</div>\"))\n",
    "try:\n",
    "    display(cmp[cols_a].round(2))\n",
    "except Exception:\n",
    "    display(cmp[cols_a].style.format(fmt))\n",
    "\n",
    "# Optional page break if the two tables risk colliding in print:\n",
    "display(HTML(\"<div class='pagebreak'></div>\"))\n",
    "\n",
    "# ======================\n",
    "# Table 1b — RC\n",
    "# ======================\n",
    "cols_b = [\n",
    "    'n',\n",
    "    'rc_mag_manual','rc_mag_python','Δ_rc_mag',\n",
    "    'rc_dB_manual','rc_dB_python','Δ_rc_dB',\n",
    "]\n",
    "display(HTML(\"<div class='figure-note keep-with-next nobreak'>Manual vs Python (RC). Agreement within rounding confirms correct implementation.</div>\"))\n",
    "display(HTML(\"<div class='caption' style='font-weight:600'>Table 1b. Manual vs Python — RC magnitude and dB</div>\"))\n",
    "try:\n",
    "    display(cmp[cols_b].round(2))\n",
    "except Exception:\n",
    "    display(cmp[cols_b].style.format(fmt))\n"
   ]
  },
  {
   "cell_type": "markdown",
   "id": "9ccc3c8a",
   "metadata": {},
   "source": [
    "<div class=\"pagebreak\"></div>\n",
    "\n",
    "## Results\n",
    "\n",
    "The results are divided into four parts. Each part has harmonic tables, plots, and short notes compared with theory. Figures and tables are numbered in order.\n",
    "\n",
    "### Note on absolute scaling (dBVrms)\n",
    "Some absolute FFT levels in the exported CSV files were **too high to be real** for a 5 Vpp signal. For example, one sawtooth fundamental was shown as about +20.9 dBVrms, which equals 11 Vrms. This is impossible, since the maximum for 5 Vpp sine is about +4.95 dBVrms. The problem came from how the oscilloscope saved the data (different CSV format, decimal comma/point, or wrong column taken).  \n",
    "\n",
    "Because of this, the absolute dBVrms numbers cannot always be trusted. To handle this, the report shows both **dBVrms** (absolute values) and **dBc** (each trace normalized to its own fundamental). All main comparisons and interpretations are based on **dBc**, which are not affected by scaling errors. In the tables, values below the noise floor or undefined are written as “—” instead of a false number like −240 dB.  \n",
    "\n",
    "Reference values for a 5 Vpp input are:  \n",
    "- Sine n=1 ≈ +4.95 dBVrms  \n",
    "- Sawtooth n=1 ≈ +1.03 dBVrms  \n",
    "- Triangle n=1 ≈ +3.12 dBVrms  \n",
    "\n",
    "Numbers very different from these should be seen as CSV/scale errors, not real signal levels.\n",
    "\n",
    "---\n",
    "\n",
    "### 4.1 Sawtooth — Theory vs Keysight vs RND Lab\n",
    "The first ten harmonics (n = 1…10) were measured and compared with theory.\n",
    "\n",
    "- **Tables 2a–2b:** Amplitudes in dBVrms and normalized dBc.  \n",
    "- **Fig. 1:** Overlay of theory, Keysight, and RND Lab.  \n",
    "- **Interpretation:** All harmonics appear, decaying close to the \\(1/n\\) slope. RND Lab keeps stronger higher harmonics, while Keysight rolls off earlier.\n",
    "\n",
    "### 4.2 Triangle — Theory vs Keysight vs RND Lab\n",
    "Theory predicts only odd harmonics with \\(1/n^2\\) decay.\n",
    "\n",
    "- **Tables 3a–3b:** Odd harmonics in dBVrms and dBc.  \n",
    "- **Fig. 2:** Overlay of theory, Keysight, and RND Lab.  \n",
    "- **Interpretation:** Odd harmonics follow \\(1/n^2\\). Even harmonics stay near the noise floor. RND Lab matches theory well; Keysight shows slightly stronger damping of higher orders.\n",
    "\n",
    "### 4.3 Sine — Theory vs Keysight vs RND Lab\n",
    "An ideal sine has only the fundamental.\n",
    "\n",
    "- **Tables 4a–4b:** Fundamental vs theory; higher orders near noise floor.  \n",
    "- **Fig. 3:** Overlay of both sources.  \n",
    "- **Interpretation:** Both sources reproduce the fundamental. Harmonics above n = 1 are below −50 dBc, explained by FFT leakage and small imperfections.\n",
    "\n",
    "### 4.4 RC Filter\n",
    "The RC low-pass filter results are collected here.\n",
    "\n",
    "- **Tables 5a–5b:** Input vs output spectra for Keysight and RND Lab, with theory.  \n",
    "- **Figs. 4a–4b:** Four-trace overlays in dBVrms and dBc.  \n",
    "- **Figs. 5–7:** FFT spectra at 1 kHz, 10 kHz, 100 kHz, showing roll-off.  \n",
    "- **Figs. 8–10:** Time-domain plots at the same frequencies, showing smoother outputs.  \n",
    "- **Interpretation:** The cutoff near 2 kHz matches calculation. Harmonic attenuation follows −20 dB/decade, and waveforms show expected smoothing. Small differences come from component tolerances, parasitics, FFT limits, and the Hann window.\n"
   ]
  },
  {
   "cell_type": "code",
   "execution_count": 168,
   "id": "03f396d3",
   "metadata": {},
   "outputs": [],
   "source": [
    "# === ELA24: Comparisons in dBVrms (no files written) — uses TOP MATH CELL ===\n",
    "# Uses shared helpers defined earlier in the notebook:\n",
    "#   F0, A_PEAK, vrms_to_dBVrms(), rc_mag(), fourier_dBVrms(),\n",
    "#   fourier_times_rc_dBVrms(), pick_harmonics_from_spectrum()\n",
    "\n",
    "import numpy as np, pandas as pd, matplotlib.pyplot as plt\n",
    "from pathlib import Path\n",
    "from IPython.display import HTML, display, Image\n",
    "\n",
    "plt.rcParams['figure.dpi'] = 120\n",
    "plt.rcParams['figure.figsize'] = (5.2, 3.2)\n",
    "\n",
    "# ----- Local params -----\n",
    "N_HARM = 10          # compare first N harmonics\n",
    "DB_FLOOR_HIDE = -200 # anything below this is shown as \"—\" in tables\n",
    "\n",
    "# Expected dBVrms of the fundamental (n=1) for 5 Vpp input (A=2.5 Vpeak)\n",
    "EXPECTED_FUND_DBV = {\"sin\": 4.95, \"saw\": 1.03, \"tri\": 3.12}\n",
    "\n",
    "# =============================== I/O + HARMONIC PICKER ===============================\n",
    "\n",
    "def _is_number_like(s: str) -> bool:\n",
    "    \"\"\"Fast check for numbers with either decimal comma or point.\"\"\"\n",
    "    t = s.strip().replace(',', '.')\n",
    "    if not t: return False\n",
    "    if t.startswith('-'): t = t[1:]\n",
    "    return t.replace('.', '', 1).isdigit()\n",
    "\n",
    "def read_scope_fft_vrms(csv_path, floor_vrms=1e-12):\n",
    "    \"\"\"\n",
    "    Robust CSV reader for Keysight/RND FFT exports.\n",
    "\n",
    "    - Accepts semicolon CSV with decimal comma or point.\n",
    "    - Scans each row for plausible (freq, Vrms) pairs instead of assuming \"last two columns\".\n",
    "    - Frequency range filter: 1 Hz .. 100 MHz\n",
    "    - Vrms range filter: 0 .. 100 V\n",
    "    - Auto-rescales freq from kHz->Hz if needed.\n",
    "    - Converts Vrms -> dBVrms\n",
    "    Returns DataFrame with columns: ['freq','dBVrms'].\n",
    "    \"\"\"\n",
    "    raw = pd.read_csv(\n",
    "        Path(csv_path),\n",
    "        sep=';',\n",
    "        header=None,\n",
    "        engine='python',\n",
    "        dtype=str,\n",
    "        on_bad_lines='skip'\n",
    "    )\n",
    "\n",
    "    pairs = []\n",
    "    for _, row in raw.iterrows():\n",
    "        # Parse all numeric-looking cells on this row\n",
    "        nums = []\n",
    "        for cell in row.dropna():\n",
    "            s = str(cell)\n",
    "            if _is_number_like(s):\n",
    "                nums.append(float(s.strip().replace(',', '.')))\n",
    "        # Try every adjacent pair as (f, Vrms)\n",
    "        for i in range(len(nums) - 1):\n",
    "            f, v = nums[i], nums[i + 1]\n",
    "            if 1.0 <= f <= 1e8 and 0.0 <= v <= 100.0:\n",
    "                pairs.append((f, v))\n",
    "\n",
    "    if not pairs:\n",
    "        raise ValueError(f\"No plausible (freq, Vrms) pairs found in {csv_path}\")\n",
    "\n",
    "    df = (pd.DataFrame(pairs, columns=['freq', 'Vrms'])\n",
    "            .sort_values('freq')\n",
    "            .drop_duplicates('freq')\n",
    "            .reset_index(drop=True))\n",
    "\n",
    "    # --- Auto-rescale if frequency looks like kHz instead of Hz ---\n",
    "    need_up_to = float(N_HARM) * float(F0)\n",
    "    fmax = float(df['freq'].max()) if len(df) else 0.0\n",
    "    if 0.0 < fmax < 0.5 * need_up_to and (fmax * 1000.0) >= 0.5 * need_up_to:\n",
    "        df['freq'] = df['freq'] * 1000.0\n",
    "        print(f\"[INFO] {csv_path}: frequency column looked like kHz; scaled to Hz.\")\n",
    "\n",
    "    df['dBVrms'] = vrms_to_dBVrms(np.maximum(df['Vrms'].values, floor_vrms))\n",
    "    return df[['freq', 'dBVrms']]\n",
    "\n",
    "def _warn_if_span_too_low(df_spec, label):\n",
    "    \"\"\"Warn if spectrum does not reach N_HARM * F0.\"\"\"\n",
    "    try:\n",
    "        fmax = float(df_spec['freq'].max())\n",
    "    except Exception:\n",
    "        fmax = 0.0\n",
    "    need_up_to = float(N_HARM) * float(F0)\n",
    "    if fmax < need_up_to:\n",
    "        print(f\"[WARN] {label}: spectrum ends at {fmax:.1f} Hz, \"\n",
    "              f\"but N_HARM={N_HARM} at f0={F0:.1f} Hz needs ≥ {need_up_to:.1f} Hz. \"\n",
    "              \"Higher harmonics will be missing (shown as “—”).\")\n",
    "\n",
    "def _pick_harmonics_nearest(spec_df, n_max=N_HARM, col='dBVrms'):\n",
    "    \"\"\"Nearest-bin fallback picker: for each n*F0, pick the closest frequency sample.\"\"\"\n",
    "    freqs = spec_df['freq'].to_numpy()\n",
    "    vals  = spec_df[col].to_numpy()\n",
    "    targets = np.arange(1, n_max+1, dtype=float) * float(F0)\n",
    "    idx = np.abs(freqs.reshape(-1,1) - targets.reshape(1,-1)).argmin(axis=0)\n",
    "    picked = pd.DataFrame({\n",
    "        'n': np.arange(1, n_max+1, dtype=int),\n",
    "        col: vals[idx]\n",
    "    })\n",
    "    return picked\n",
    "\n",
    "def pick_harmonics(spec_df, n_max=N_HARM, col='dBVrms'):\n",
    "    \"\"\"\n",
    "    Wrap the shared helper; if not present or coverage looks sparse,\n",
    "    fall back to nearest-bin selection.\n",
    "    \"\"\"\n",
    "    # Try shared helper first (if defined)\n",
    "    try:\n",
    "        df = pick_harmonics_from_spectrum(spec_df, f0=F0, n_max=n_max, col=col)\n",
    "        # If it doesn't cover enough harmonics (e.g., due to tight tolerance), use fallback\n",
    "        if not isinstance(df, pd.DataFrame) or df.empty or df['n'].nunique() < min(3, n_max):\n",
    "            raise RuntimeError(\"helper returned sparse coverage; using nearest fallback\")\n",
    "        # Ensure n is 1..n_max; if not, also fallback\n",
    "        if set(df['n'].unique()) != set(range(1, n_max+1)):\n",
    "            # Try to rebuild with nearest for missing n and merge\n",
    "            df_near = _pick_harmonics_nearest(spec_df, n_max=n_max, col=col)\n",
    "            df = pd.merge(df_near, df[['n', col]], on='n', how='left', suffixes=('_near', ''))\n",
    "            df[col] = df[col].fillna(df[f'{col}_near'])\n",
    "            df = df[['n', col]]\n",
    "        return df\n",
    "    except Exception:\n",
    "        return _pick_harmonics_nearest(spec_df, n_max=n_max, col=col)\n",
    "\n",
    "# =============================== UTILITIES (NOTES, dBc, CAPTION) ===============================\n",
    "\n",
    "def to_dBc(n_series, dBV_series):\n",
    "    \"\"\"\n",
    "    Convert dBVrms to dBc by subtracting the fundamental (n=1) of the same trace.\n",
    "    If n=1 is missing, use the max value as a fallback reference.\n",
    "    \"\"\"\n",
    "    n = np.asarray(n_series)\n",
    "    y = np.asarray(dBV_series, float)\n",
    "    ref = y[n.tolist().index(1)] if 1 in n else np.nanmax(y)\n",
    "    return y - ref\n",
    "\n",
    "def note_theory_vs_meas(waveform, apply_rc=False):\n",
    "    \"\"\"Short plain-English notes under each figure.\"\"\"\n",
    "    wf = waveform.lower()\n",
    "    if wf == 'saw':\n",
    "        trend = \"All harmonics present; amplitudes decay ~1/n.\"\n",
    "    elif wf == 'tri':\n",
    "        trend = \"Odd harmonics only; amplitudes decay ~1/n^2.\"\n",
    "    elif wf == 'sin':\n",
    "        trend = \"Ideally only the fundamental; higher orders near leakage/noise.\"\n",
    "    else:\n",
    "        trend = \"\"\n",
    "    rc = \" The RC filter reduces higher harmonics more strongly.\" if apply_rc else \"\"\n",
    "    display(HTML(f\"<div class='figure-note'>Interpretation: {trend}{rc}</div>\"))\n",
    "\n",
    "def caption(text):\n",
    "    display(HTML(f\"<div class='caption'>{text}</div>\"))\n",
    "\n",
    "def _format_table_for_display(df_numeric):\n",
    "    \"\"\"\n",
    "    Replace extreme/undefined values with '—' for clean tables.\n",
    "    - Any value < DB_FLOOR_HIDE is shown as '—'\n",
    "    - NaN stays '—'\n",
    "    Returns a string-typed DataFrame for display.\n",
    "    \"\"\"\n",
    "    def fmt_val(x):\n",
    "        if pd.isna(x): return \"—\"\n",
    "        try:\n",
    "            if x < DB_FLOOR_HIDE: return \"—\"\n",
    "            return f\"{x:.2f}\"\n",
    "        except Exception:\n",
    "            return str(x)\n",
    "    return df_numeric.applymap(fmt_val)\n",
    "\n",
    "# =============================== TABLE RENDERERS (AUTO-DETECT VARIANT) ===============================\n",
    "\n",
    "def show_case_table_abs(df, caption_text, preface_text=None, closing_text=None):\n",
    "    \"\"\"\n",
    "    Shows absolute amplitudes in dBVrms.\n",
    "    Auto-detects columns:\n",
    "      Single: ['n','theory_dBVrms','meas_dBVrms','err_dB']\n",
    "      Dual:   ['n','theory_dBVrms','k_dBVrms','r_dBVrms','k_err_dB','r_err_dB']\n",
    "    Values below floor are shown as '—'. Add a footnote in your report that\n",
    "    '—' = not measurable / below noise / not defined.\n",
    "    \"\"\"\n",
    "    if {'k_dBVrms','r_dBVrms','k_err_dB','r_err_dB'}.issubset(df.columns):\n",
    "        cols = ['n','theory_dBVrms','k_dBVrms','r_dBVrms','k_err_dB','r_err_dB']\n",
    "    else:\n",
    "        cols = ['n','theory_dBVrms','meas_dBVrms','err_dB']\n",
    "\n",
    "    if preface_text: display(HTML(f\"<div>{preface_text}</div>\"))\n",
    "    caption(caption_text)\n",
    "\n",
    "    show = df[cols].copy()\n",
    "    # Round numeric first, then format to \"—\" as needed\n",
    "    for c in show.columns:\n",
    "        if c != 'n' and np.issubdtype(show[c].dtype, np.number):\n",
    "            show[c] = show[c].round(2)\n",
    "    show = show.sort_values('n').reset_index(drop=True)\n",
    "    display(_format_table_for_display(show))\n",
    "\n",
    "    if closing_text: display(HTML(f\"<div class='figure-note'>{closing_text}</div>\"))\n",
    "\n",
    "def show_case_table_rel(df, caption_text, preface_text=None, closing_text=None):\n",
    "    \"\"\"\n",
    "    Shows normalized amplitudes in dBc (each trace normalized to its own n=1).\n",
    "    Auto-detects columns:\n",
    "      Single: ['n','theory_dBc','meas_dBc','err_dBc']\n",
    "      Dual:   ['n','theory_dBc','k_dBc','r_dBc','k_err_dBc','r_err_dBc']\n",
    "    \"\"\"\n",
    "    if {'k_dBc','r_dBc','k_err_dBc','r_err_dBc'}.issubset(df.columns):\n",
    "        cols = ['n','theory_dBc','k_dBc','r_dBc','k_err_dBc','r_err_dBc']\n",
    "    else:\n",
    "        cols = ['n','theory_dBc','meas_dBc','err_dBc']\n",
    "\n",
    "    if preface_text: display(HTML(f\"<div>{preface_text}</div>\"))\n",
    "    caption(caption_text)\n",
    "\n",
    "    show = df[cols].copy()\n",
    "    for c in show.columns:\n",
    "        if c != 'n' and np.issubdtype(show[c].dtype, np.number):\n",
    "            show[c] = show[c].round(2)\n",
    "    show = show.sort_values('n').reset_index(drop=True)\n",
    "    display(_format_table_for_display(show))\n",
    "\n",
    "    if closing_text: display(HTML(f\"<div class='figure-note'>{closing_text}</div>\"))\n",
    "\n",
    "# =============================== THEORY SERIES ===============================\n",
    "\n",
    "def theory_df(waveform, apply_rc=False, n_max=N_HARM):\n",
    "    \"\"\"Return theory series for chosen waveform, optionally passed through |H(jω)| of RC.\"\"\"\n",
    "    n = np.arange(1, n_max+1)\n",
    "    if apply_rc:\n",
    "        dB = fourier_times_rc_dBVrms(waveform, n, A=A_PEAK, f0=F0)  # |Fourier| × |H|\n",
    "    else:\n",
    "        dB = fourier_dBVrms(waveform, n, A=A_PEAK)\n",
    "    out = pd.DataFrame({'n': n, 'f_Hz': n*F0, 'theory_dBVrms': dB})\n",
    "    out['theory_dBc'] = to_dBc(out['n'], out['theory_dBVrms'])\n",
    "    return out\n",
    "\n",
    "# =============================== SANITY CHECKS ===============================\n",
    "\n",
    "def sanity_check_fundamental(df_harm, wave, cols=('meas_dBVrms','k_dBVrms','r_dBVrms'), tol_db=8.0):\n",
    "    \"\"\"\n",
    "    Warn if the measured fundamental (n=1) is far from the expected value.\n",
    "    This catches bad CSV scaling (decimal issues, wrong column, etc.).\n",
    "    \"\"\"\n",
    "    exp = EXPECTED_FUND_DBV.get(wave.lower())\n",
    "    if exp is None:\n",
    "        return\n",
    "    row1 = df_harm[df_harm['n'] == 1]\n",
    "    if row1.empty:\n",
    "        print(f\"[WARN] Fundamental n=1 not found for {wave}.\")\n",
    "        return\n",
    "    for c in cols:\n",
    "        if c in row1.columns:\n",
    "            try:\n",
    "                meas = float(row1.iloc[0][c])\n",
    "                if np.isfinite(meas) and abs(meas - exp) > tol_db:\n",
    "                    print(f\"[WARN] {wave} n=1 looks off in '{c}': measured {meas:.2f} dBVrms, expected ~{exp:.2f} dBVrms. \"\n",
    "                          \"Check CSV columns / decimal separators / window scaling. Use dBc for conclusions.\")\n",
    "            except Exception:\n",
    "                pass\n",
    "\n",
    "# =============================== TWO-PANEL (Theory + ONE measurement) ===============================\n",
    "\n",
    "def compare_two_panel(csv_path, waveform, apply_rc_to_theory=False, title_prefix=None):\n",
    "    \"\"\"\n",
    "    Single-measurement figure: Theory vs Measurement.\n",
    "    Also runs a simple sanity check on the fundamental (n=1).\n",
    "    \"\"\"\n",
    "    spec = read_scope_fft_vrms(csv_path)  # robust Vrms -> dBVrms\n",
    "    _warn_if_span_too_low(spec, f\"INPUT {csv_path}\")\n",
    "\n",
    "    meas = pick_harmonics(spec, n_max=N_HARM, col='dBVrms').rename(columns={'dBVrms':'meas_dBVrms'})\n",
    "    theo = theory_df(waveform, apply_rc=apply_rc_to_theory, n_max=N_HARM)\n",
    "\n",
    "    df = meas.merge(theo[['n','theory_dBVrms','theory_dBc']], on='n', how='left')\n",
    "    df['err_dB']   = df['meas_dBVrms'] - df['theory_dBVrms']\n",
    "    df['meas_dBc'] = to_dBc(df['n'], df['meas_dBVrms'])\n",
    "    df['err_dBc']  = df['meas_dBc']   - df['theory_dBc']\n",
    "\n",
    "    # Sanity check for n=1\n",
    "    sanity_check_fundamental(df, waveform, cols=('meas_dBVrms',))\n",
    "\n",
    "    # Plot (two panels)\n",
    "    fig, axes = plt.subplots(1, 2, figsize=(9.8, 3.4))\n",
    "\n",
    "    # Absolute\n",
    "    ax = axes[0]\n",
    "    ax.stem(df['n'], df['theory_dBVrms'], linefmt='C0-', markerfmt='C0o', basefmt=' ', label='Theory (dBVrms)')\n",
    "    ax.stem(df['n']+0.08, df['meas_dBVrms'], linefmt='C1-', markerfmt='C1s', basefmt=' ', label='Measurement (dBVrms)')\n",
    "    ax.set_xlabel('Harmonic n'); ax.set_ylabel('dBVrms'); ax.set_title('Absolute (dBVrms)'); ax.grid(alpha=0.35)\n",
    "    ax.legend(fontsize=8)\n",
    "\n",
    "    # Normalized\n",
    "    ax2 = axes[1]\n",
    "    ax2.stem(df['n'], df['theory_dBc'], linefmt='C0-', markerfmt='C0o', basefmt=' ', label='Theory (dBc)')\n",
    "    ax2.stem(df['n']+0.08, df['meas_dBc'], linefmt='C1-', markerfmt='C1s', basefmt=' ', label='Measurement (dBc)')\n",
    "    ax2.set_xlabel('Harmonic n'); ax2.set_ylabel('dBc (rel. to n=1)'); ax2.set_title('Normalized (dBc)'); ax2.grid(alpha=0.35)\n",
    "\n",
    "    fig.tight_layout()\n",
    "    ttl = (title_prefix or \"FFT\") + (\" — after RC\" if apply_rc_to_theory else \" — input\")\n",
    "    plt.show()\n",
    "    caption(f\"{ttl}. Measured with Keysight oscilloscope FFT; CSV amplitudes were Vrms and converted to dBVrms here.\")\n",
    "\n",
    "    return df\n",
    "\n",
    "# =============================== THREE-PANEL (Theory + Keysight + RND Lab) ===============================\n",
    "\n",
    "def compare_three_panel(csv_keysight, csv_rnd, waveform, apply_rc_to_theory=False, title_prefix=None):\n",
    "    \"\"\"\n",
    "    Multi-trace figure: Theory + Keysight + RND Lab in the same two-panel plot (dBVrms & dBc).\n",
    "    Also runs a sanity check on the fundamental (n=1) for each source.\n",
    "    \"\"\"\n",
    "    # Read/convert both spectra\n",
    "    spec_k = read_scope_fft_vrms(csv_keysight)\n",
    "    spec_r = read_scope_fft_vrms(csv_rnd)\n",
    "\n",
    "    _warn_if_span_too_low(spec_k, f\"INPUT {csv_keysight}\")\n",
    "    _warn_if_span_too_low(spec_r, f\"INPUT {csv_rnd}\")\n",
    "\n",
    "    meas_k = pick_harmonics(spec_k, n_max=N_HARM, col='dBVrms').rename(columns={'dBVrms':'k_dBVrms'})\n",
    "    meas_r = pick_harmonics(spec_r, n_max=N_HARM, col='dBVrms').rename(columns={'dBVrms':'r_dBVrms'})\n",
    "    theo   = theory_df(waveform, apply_rc=apply_rc_to_theory, n_max=N_HARM)[['n','theory_dBVrms','theory_dBc']]\n",
    "\n",
    "    # Merge & compute errors + dBc\n",
    "    df = theo.merge(meas_k, on='n', how='left').merge(meas_r, on='n', how='left')\n",
    "    df['k_err_dB'] = df['k_dBVrms'] - df['theory_dBVrms']\n",
    "    df['r_err_dB'] = df['r_dBVrms'] - df['theory_dBVrms']\n",
    "    df['k_dBc'] = to_dBc(df['n'], df['k_dBVrms'])\n",
    "    df['r_dBc'] = to_dBc(df['n'], df['r_dBVrms'])\n",
    "    df['k_err_dBc'] = df['k_dBc'] - df['theory_dBc']\n",
    "    df['r_err_dBc'] = df['r_dBc'] - df['theory_dBc']\n",
    "\n",
    "    # Sanity checks for n=1\n",
    "    sanity_check_fundamental(df.rename(columns={'k_dBVrms':'meas_dBVrms'}), waveform, cols=('meas_dBVrms',))\n",
    "    sanity_check_fundamental(df.rename(columns={'r_dBVrms':'meas_dBVrms'}), waveform, cols=('meas_dBVrms',))\n",
    "\n",
    "    # Plot (two panels): Absolute dBVrms + Normalized dBc\n",
    "    fig, axes = plt.subplots(1, 2, figsize=(9.8, 3.4))\n",
    "\n",
    "    # Absolute\n",
    "    ax = axes[0]\n",
    "    ax.stem(df['n'],        df['theory_dBVrms'], linefmt='C0-', markerfmt='C0o', basefmt=' ', label='Theory (dBVrms)')\n",
    "    ax.stem(df['n']+0.08,   df['k_dBVrms'],      linefmt='C1-', markerfmt='C1s', basefmt=' ', label='Keysight (dBVrms)')\n",
    "    ax.stem(df['n']+0.16,   df['r_dBVrms'],      linefmt='C2-', markerfmt='C2^', basefmt=' ', label='RND Lab (dBVrms)')\n",
    "    ax.set_xlabel('Harmonic n'); ax.set_ylabel('dBVrms'); ax.set_title('Absolute (dBVrms)'); ax.grid(alpha=0.35)\n",
    "    ax.legend(fontsize=8)\n",
    "\n",
    "    # Normalized\n",
    "    ax2 = axes[1]\n",
    "    ax2.stem(df['n'],       df['theory_dBc'], linefmt='C0-', markerfmt='C0o', basefmt=' ', label='Theory (dBc)')\n",
    "    ax2.stem(df['n']+0.08,  df['k_dBc'],      linefmt='C1-', markerfmt='C1s', basefmt=' ', label='Keysight (dBc)')\n",
    "    ax2.stem(df['n']+0.16,  df['r_dBc'],      linefmt='C2-', markerfmt='C2^', basefmt=' ', label='RND Lab (dBc)')\n",
    "    ax2.set_xlabel('Harmonic n'); ax2.set_ylabel('dBc (rel. to n=1)'); ax2.set_title('Normalized (dBc)'); ax2.grid(alpha=0.35)\n",
    "    ax2.legend(fontsize=8)\n",
    "\n",
    "    fig.tight_layout()\n",
    "    ttl = (title_prefix or \"FFT\") + (\" — after RC\" if apply_rc_to_theory else \" — input\")\n",
    "    plt.show()\n",
    "    caption(f\"{ttl}. Theory vs Keysight vs RND Lab; CSV amplitudes were Vrms and converted to dBVrms here.\")\n",
    "\n",
    "    return df\n"
   ]
  },
  {
   "cell_type": "code",
   "execution_count": 169,
   "id": "3700ad71",
   "metadata": {},
   "outputs": [
    {
     "data": {
      "text/html": [
       "<div class='pagebreak'></div>"
      ],
      "text/plain": [
       "<IPython.core.display.HTML object>"
      ]
     },
     "metadata": {},
     "output_type": "display_data"
    },
    {
     "data": {
      "text/html": [
       "<h3>4.1 Sawtooth — Theory vs Keysight vs RND Lab</h3>"
      ],
      "text/plain": [
       "<IPython.core.display.HTML object>"
      ]
     },
     "metadata": {},
     "output_type": "display_data"
    },
    {
     "data": {
      "text/html": [
       "<div>Two-panel figure (absolute dBVrms and normalized dBc) and the matching tables.</div>"
      ],
      "text/plain": [
       "<IPython.core.display.HTML object>"
      ]
     },
     "metadata": {},
     "output_type": "display_data"
    },
    {
     "name": "stdout",
     "output_type": "stream",
     "text": [
      "[WARN] saw n=1 looks off in 'meas_dBVrms': measured 20.89 dBVrms, expected ~1.03 dBVrms. Check CSV columns / decimal separators / window scaling. Use dBc for conclusions.\n"
     ]
    },
    {
     "data": {
      "image/png": "[encoded data removed]",
      "text/plain": [
       "<Figure size 1176x408 with 2 Axes>"
      ]
     },
     "metadata": {},
     "output_type": "display_data"
    },
    {
     "data": {
      "text/html": [
       "<div class='caption'>Fig. 1. Sawtooth — input. Theory vs Keysight vs RND Lab; CSV amplitudes were Vrms and converted to dBVrms here.</div>"
      ],
      "text/plain": [
       "<IPython.core.display.HTML object>"
      ]
     },
     "metadata": {},
     "output_type": "display_data"
    },
    {
     "data": {
      "text/html": [
       "<div class='figure-note'>Interpretation: All harmonics are present and decay ~1/n. Absolute levels can differ between devices or CSV exports, but after normalization (dBc) both sources follow the same 1/n slope as theory.</div>"
      ],
      "text/plain": [
       "<IPython.core.display.HTML object>"
      ]
     },
     "metadata": {},
     "output_type": "display_data"
    },
    {
     "data": {
      "text/html": [
       "<div>First ten harmonics at multiples of 1 kHz.</div>"
      ],
      "text/plain": [
       "<IPython.core.display.HTML object>"
      ]
     },
     "metadata": {},
     "output_type": "display_data"
    },
    {
     "data": {
      "text/html": [
       "<div class='caption'>Table 2a. Sawtooth — Theory vs Keysight vs RND Lab (absolute dBVrms)</div>"
      ],
      "text/plain": [
       "<IPython.core.display.HTML object>"
      ]
     },
     "metadata": {},
     "output_type": "display_data"
    },
    {
     "data": {
      "text/html": [
       "<div>\n",
       "<style scoped>\n",
       "    .dataframe tbody tr th:only-of-type {\n",
       "        vertical-align: middle;\n",
       "    }\n",
       "\n",
       "    .dataframe tbody tr th {\n",
       "        vertical-align: top;\n",
       "    }\n",
       "\n",
       "    .dataframe thead th {\n",
       "        text-align: right;\n",
       "    }\n",
       "</style>\n",
       "<table border=\"1\" class=\"dataframe\">\n",
       "  <thead>\n",
       "    <tr style=\"text-align: right;\">\n",
       "      <th></th>\n",
       "      <th>n</th>\n",
       "      <th>theory_dBVrms</th>\n",
       "      <th>k_dBVrms</th>\n",
       "      <th>r_dBVrms</th>\n",
       "      <th>k_err_dB</th>\n",
       "      <th>r_err_dB</th>\n",
       "    </tr>\n",
       "  </thead>\n",
       "  <tbody>\n",
       "    <tr>\n",
       "      <th>0</th>\n",
       "      <td>1.00</td>\n",
       "      <td>1.03</td>\n",
       "      <td>-4.48</td>\n",
       "      <td>20.89</td>\n",
       "      <td>-5.51</td>\n",
       "      <td>19.87</td>\n",
       "    </tr>\n",
       "    <tr>\n",
       "      <th>1</th>\n",
       "      <td>2.00</td>\n",
       "      <td>-4.99</td>\n",
       "      <td>-5.12</td>\n",
       "      <td>14.59</td>\n",
       "      <td>-0.13</td>\n",
       "      <td>19.58</td>\n",
       "    </tr>\n",
       "    <tr>\n",
       "      <th>2</th>\n",
       "      <td>3.00</td>\n",
       "      <td>-8.52</td>\n",
       "      <td>-8.85</td>\n",
       "      <td>10.47</td>\n",
       "      <td>-0.33</td>\n",
       "      <td>18.99</td>\n",
       "    </tr>\n",
       "    <tr>\n",
       "      <th>3</th>\n",
       "      <td>4.00</td>\n",
       "      <td>-11.02</td>\n",
       "      <td>-11.71</td>\n",
       "      <td>7.96</td>\n",
       "      <td>-0.69</td>\n",
       "      <td>18.97</td>\n",
       "    </tr>\n",
       "    <tr>\n",
       "      <th>4</th>\n",
       "      <td>5.00</td>\n",
       "      <td>-12.95</td>\n",
       "      <td>-12.99</td>\n",
       "      <td>6.48</td>\n",
       "      <td>-0.03</td>\n",
       "      <td>19.44</td>\n",
       "    </tr>\n",
       "    <tr>\n",
       "      <th>5</th>\n",
       "      <td>6.00</td>\n",
       "      <td>-14.54</td>\n",
       "      <td>-16.04</td>\n",
       "      <td>5.23</td>\n",
       "      <td>-1.50</td>\n",
       "      <td>19.77</td>\n",
       "    </tr>\n",
       "    <tr>\n",
       "      <th>6</th>\n",
       "      <td>7.00</td>\n",
       "      <td>-15.88</td>\n",
       "      <td>-16.07</td>\n",
       "      <td>3.93</td>\n",
       "      <td>-0.19</td>\n",
       "      <td>19.81</td>\n",
       "    </tr>\n",
       "    <tr>\n",
       "      <th>7</th>\n",
       "      <td>8.00</td>\n",
       "      <td>-17.04</td>\n",
       "      <td>-17.51</td>\n",
       "      <td>2.72</td>\n",
       "      <td>-0.47</td>\n",
       "      <td>19.75</td>\n",
       "    </tr>\n",
       "    <tr>\n",
       "      <th>8</th>\n",
       "      <td>9.00</td>\n",
       "      <td>-18.06</td>\n",
       "      <td>-18.61</td>\n",
       "      <td>1.30</td>\n",
       "      <td>-0.55</td>\n",
       "      <td>19.36</td>\n",
       "    </tr>\n",
       "    <tr>\n",
       "      <th>9</th>\n",
       "      <td>10.00</td>\n",
       "      <td>-18.97</td>\n",
       "      <td>-18.93</td>\n",
       "      <td>-0.12</td>\n",
       "      <td>0.04</td>\n",
       "      <td>18.85</td>\n",
       "    </tr>\n",
       "  </tbody>\n",
       "</table>\n",
       "</div>"
      ],
      "text/plain": [
       "       n theory_dBVrms k_dBVrms r_dBVrms k_err_dB r_err_dB\n",
       "0   1.00          1.03    -4.48    20.89    -5.51    19.87\n",
       "1   2.00         -4.99    -5.12    14.59    -0.13    19.58\n",
       "2   3.00         -8.52    -8.85    10.47    -0.33    18.99\n",
       "3   4.00        -11.02   -11.71     7.96    -0.69    18.97\n",
       "4   5.00        -12.95   -12.99     6.48    -0.03    19.44\n",
       "5   6.00        -14.54   -16.04     5.23    -1.50    19.77\n",
       "6   7.00        -15.88   -16.07     3.93    -0.19    19.81\n",
       "7   8.00        -17.04   -17.51     2.72    -0.47    19.75\n",
       "8   9.00        -18.06   -18.61     1.30    -0.55    19.36\n",
       "9  10.00        -18.97   -18.93    -0.12     0.04    18.85"
      ]
     },
     "metadata": {},
     "output_type": "display_data"
    },
    {
     "data": {
      "text/html": [
       "<div class='figure-note'>Absolute levels can be offset between sources; see the Note on absolute scaling. Values below the floor or not defined are shown as “—”.</div>"
      ],
      "text/plain": [
       "<IPython.core.display.HTML object>"
      ]
     },
     "metadata": {},
     "output_type": "display_data"
    },
    {
     "data": {
      "text/html": [
       "<div>Each trace is normalized to its own fundamental (n=1).</div>"
      ],
      "text/plain": [
       "<IPython.core.display.HTML object>"
      ]
     },
     "metadata": {},
     "output_type": "display_data"
    },
    {
     "data": {
      "text/html": [
       "<div class='caption'>Table 2b. Sawtooth — Theory vs Keysight vs RND Lab (normalized dBc)</div>"
      ],
      "text/plain": [
       "<IPython.core.display.HTML object>"
      ]
     },
     "metadata": {},
     "output_type": "display_data"
    },
    {
     "data": {
      "text/html": [
       "<div>\n",
       "<style scoped>\n",
       "    .dataframe tbody tr th:only-of-type {\n",
       "        vertical-align: middle;\n",
       "    }\n",
       "\n",
       "    .dataframe tbody tr th {\n",
       "        vertical-align: top;\n",
       "    }\n",
       "\n",
       "    .dataframe thead th {\n",
       "        text-align: right;\n",
       "    }\n",
       "</style>\n",
       "<table border=\"1\" class=\"dataframe\">\n",
       "  <thead>\n",
       "    <tr style=\"text-align: right;\">\n",
       "      <th></th>\n",
       "      <th>n</th>\n",
       "      <th>theory_dBc</th>\n",
       "      <th>k_dBc</th>\n",
       "      <th>r_dBc</th>\n",
       "      <th>k_err_dBc</th>\n",
       "      <th>r_err_dBc</th>\n",
       "    </tr>\n",
       "  </thead>\n",
       "  <tbody>\n",
       "    <tr>\n",
       "      <th>0</th>\n",
       "      <td>1.00</td>\n",
       "      <td>0.00</td>\n",
       "      <td>0.00</td>\n",
       "      <td>0.00</td>\n",
       "      <td>0.00</td>\n",
       "      <td>0.00</td>\n",
       "    </tr>\n",
       "    <tr>\n",
       "      <th>1</th>\n",
       "      <td>2.00</td>\n",
       "      <td>-6.02</td>\n",
       "      <td>-0.64</td>\n",
       "      <td>-6.31</td>\n",
       "      <td>5.38</td>\n",
       "      <td>-0.29</td>\n",
       "    </tr>\n",
       "    <tr>\n",
       "      <th>2</th>\n",
       "      <td>3.00</td>\n",
       "      <td>-9.54</td>\n",
       "      <td>-4.36</td>\n",
       "      <td>-10.42</td>\n",
       "      <td>5.18</td>\n",
       "      <td>-0.88</td>\n",
       "    </tr>\n",
       "    <tr>\n",
       "      <th>3</th>\n",
       "      <td>4.00</td>\n",
       "      <td>-12.04</td>\n",
       "      <td>-7.23</td>\n",
       "      <td>-12.94</td>\n",
       "      <td>4.82</td>\n",
       "      <td>-0.89</td>\n",
       "    </tr>\n",
       "    <tr>\n",
       "      <th>4</th>\n",
       "      <td>5.00</td>\n",
       "      <td>-13.98</td>\n",
       "      <td>-8.50</td>\n",
       "      <td>-14.41</td>\n",
       "      <td>5.48</td>\n",
       "      <td>-0.43</td>\n",
       "    </tr>\n",
       "    <tr>\n",
       "      <th>5</th>\n",
       "      <td>6.00</td>\n",
       "      <td>-15.56</td>\n",
       "      <td>-11.55</td>\n",
       "      <td>-15.66</td>\n",
       "      <td>4.01</td>\n",
       "      <td>-0.10</td>\n",
       "    </tr>\n",
       "    <tr>\n",
       "      <th>6</th>\n",
       "      <td>7.00</td>\n",
       "      <td>-16.90</td>\n",
       "      <td>-11.59</td>\n",
       "      <td>-16.96</td>\n",
       "      <td>5.31</td>\n",
       "      <td>-0.06</td>\n",
       "    </tr>\n",
       "    <tr>\n",
       "      <th>7</th>\n",
       "      <td>8.00</td>\n",
       "      <td>-18.06</td>\n",
       "      <td>-13.03</td>\n",
       "      <td>-18.18</td>\n",
       "      <td>5.03</td>\n",
       "      <td>-0.12</td>\n",
       "    </tr>\n",
       "    <tr>\n",
       "      <th>8</th>\n",
       "      <td>9.00</td>\n",
       "      <td>-19.08</td>\n",
       "      <td>-14.13</td>\n",
       "      <td>-19.59</td>\n",
       "      <td>4.96</td>\n",
       "      <td>-0.50</td>\n",
       "    </tr>\n",
       "    <tr>\n",
       "      <th>9</th>\n",
       "      <td>10.00</td>\n",
       "      <td>-20.00</td>\n",
       "      <td>-14.45</td>\n",
       "      <td>-21.01</td>\n",
       "      <td>5.55</td>\n",
       "      <td>-1.01</td>\n",
       "    </tr>\n",
       "  </tbody>\n",
       "</table>\n",
       "</div>"
      ],
      "text/plain": [
       "       n theory_dBc   k_dBc   r_dBc k_err_dBc r_err_dBc\n",
       "0   1.00       0.00    0.00    0.00      0.00      0.00\n",
       "1   2.00      -6.02   -0.64   -6.31      5.38     -0.29\n",
       "2   3.00      -9.54   -4.36  -10.42      5.18     -0.88\n",
       "3   4.00     -12.04   -7.23  -12.94      4.82     -0.89\n",
       "4   5.00     -13.98   -8.50  -14.41      5.48     -0.43\n",
       "5   6.00     -15.56  -11.55  -15.66      4.01     -0.10\n",
       "6   7.00     -16.90  -11.59  -16.96      5.31     -0.06\n",
       "7   8.00     -18.06  -13.03  -18.18      5.03     -0.12\n",
       "8   9.00     -19.08  -14.13  -19.59      4.96     -0.50\n",
       "9  10.00     -20.00  -14.45  -21.01      5.55     -1.01"
      ]
     },
     "metadata": {},
     "output_type": "display_data"
    },
    {
     "data": {
      "text/html": [
       "<div class='figure-note'>After normalization, all traces follow the expected ~1/n slope.</div>"
      ],
      "text/plain": [
       "<IPython.core.display.HTML object>"
      ]
     },
     "metadata": {},
     "output_type": "display_data"
    },
    {
     "data": {
      "text/html": [
       "<div class='pagebreak'></div>"
      ],
      "text/plain": [
       "<IPython.core.display.HTML object>"
      ]
     },
     "metadata": {},
     "output_type": "display_data"
    },
    {
     "data": {
      "text/html": [
       "<h3>4.2 Triangle — Theory vs Keysight vs RND Lab</h3>"
      ],
      "text/plain": [
       "<IPython.core.display.HTML object>"
      ]
     },
     "metadata": {},
     "output_type": "display_data"
    },
    {
     "data": {
      "text/html": [
       "<div>Two-panel figure (absolute dBVrms and normalized dBc) and the matching tables.</div>"
      ],
      "text/plain": [
       "<IPython.core.display.HTML object>"
      ]
     },
     "metadata": {},
     "output_type": "display_data"
    },
    {
     "name": "stdout",
     "output_type": "stream",
     "text": [
      "[WARN] tri n=1 looks off in 'meas_dBVrms': measured 22.99 dBVrms, expected ~3.12 dBVrms. Check CSV columns / decimal separators / window scaling. Use dBc for conclusions.\n"
     ]
    },
    {
     "data": {
      "image/png": "[encoded data removed]",
      "text/plain": [
       "<Figure size 1176x408 with 2 Axes>"
      ]
     },
     "metadata": {},
     "output_type": "display_data"
    },
    {
     "data": {
      "text/html": [
       "<div class='caption'>Fig. 2. Triangle — input. Theory vs Keysight vs RND Lab; CSV amplitudes were Vrms and converted to dBVrms here.</div>"
      ],
      "text/plain": [
       "<IPython.core.display.HTML object>"
      ]
     },
     "metadata": {},
     "output_type": "display_data"
    },
    {
     "data": {
      "text/html": [
       "<div class='figure-note'>Interpretation: Only odd harmonics appear and they decay ~1/n^2. Even harmonics are near the noise floor as theory predicts. In dBc, both sources show the same odd-harmonic envelope.</div>"
      ],
      "text/plain": [
       "<IPython.core.display.HTML object>"
      ]
     },
     "metadata": {},
     "output_type": "display_data"
    },
    {
     "data": {
      "text/html": [
       "<div>Only odd harmonics are predicted by theory; even-n entries should be at the floor.</div>"
      ],
      "text/plain": [
       "<IPython.core.display.HTML object>"
      ]
     },
     "metadata": {},
     "output_type": "display_data"
    },
    {
     "data": {
      "text/html": [
       "<div class='caption'>Table 3a. Triangle — Theory vs Keysight vs RND Lab (absolute dBVrms)</div>"
      ],
      "text/plain": [
       "<IPython.core.display.HTML object>"
      ]
     },
     "metadata": {},
     "output_type": "display_data"
    },
    {
     "data": {
      "text/html": [
       "<div>\n",
       "<style scoped>\n",
       "    .dataframe tbody tr th:only-of-type {\n",
       "        vertical-align: middle;\n",
       "    }\n",
       "\n",
       "    .dataframe tbody tr th {\n",
       "        vertical-align: top;\n",
       "    }\n",
       "\n",
       "    .dataframe thead th {\n",
       "        text-align: right;\n",
       "    }\n",
       "</style>\n",
       "<table border=\"1\" class=\"dataframe\">\n",
       "  <thead>\n",
       "    <tr style=\"text-align: right;\">\n",
       "      <th></th>\n",
       "      <th>n</th>\n",
       "      <th>theory_dBVrms</th>\n",
       "      <th>k_dBVrms</th>\n",
       "      <th>r_dBVrms</th>\n",
       "      <th>k_err_dB</th>\n",
       "      <th>r_err_dB</th>\n",
       "    </tr>\n",
       "  </thead>\n",
       "  <tbody>\n",
       "    <tr>\n",
       "      <th>0</th>\n",
       "      <td>1.00</td>\n",
       "      <td>3.12</td>\n",
       "      <td>2.64</td>\n",
       "      <td>22.99</td>\n",
       "      <td>-0.48</td>\n",
       "      <td>19.86</td>\n",
       "    </tr>\n",
       "    <tr>\n",
       "      <th>1</th>\n",
       "      <td>2.00</td>\n",
       "      <td>—</td>\n",
       "      <td>-50.66</td>\n",
       "      <td>-40.21</td>\n",
       "      <td>189.34</td>\n",
       "      <td>199.79</td>\n",
       "    </tr>\n",
       "    <tr>\n",
       "      <th>2</th>\n",
       "      <td>3.00</td>\n",
       "      <td>-15.96</td>\n",
       "      <td>-20.03</td>\n",
       "      <td>3.14</td>\n",
       "      <td>-4.07</td>\n",
       "      <td>19.10</td>\n",
       "    </tr>\n",
       "    <tr>\n",
       "      <th>3</th>\n",
       "      <td>4.00</td>\n",
       "      <td>—</td>\n",
       "      <td>-38.62</td>\n",
       "      <td>-40.21</td>\n",
       "      <td>201.38</td>\n",
       "      <td>199.79</td>\n",
       "    </tr>\n",
       "    <tr>\n",
       "      <th>4</th>\n",
       "      <td>5.00</td>\n",
       "      <td>-24.83</td>\n",
       "      <td>-26.95</td>\n",
       "      <td>-5.72</td>\n",
       "      <td>-2.12</td>\n",
       "      <td>19.11</td>\n",
       "    </tr>\n",
       "    <tr>\n",
       "      <th>5</th>\n",
       "      <td>6.00</td>\n",
       "      <td>—</td>\n",
       "      <td>-60.21</td>\n",
       "      <td>-40.21</td>\n",
       "      <td>179.79</td>\n",
       "      <td>199.79</td>\n",
       "    </tr>\n",
       "    <tr>\n",
       "      <th>6</th>\n",
       "      <td>7.00</td>\n",
       "      <td>-30.68</td>\n",
       "      <td>-30.66</td>\n",
       "      <td>-10.96</td>\n",
       "      <td>0.02</td>\n",
       "      <td>19.72</td>\n",
       "    </tr>\n",
       "    <tr>\n",
       "      <th>7</th>\n",
       "      <td>8.00</td>\n",
       "      <td>—</td>\n",
       "      <td>-60.21</td>\n",
       "      <td>-40.21</td>\n",
       "      <td>179.79</td>\n",
       "      <td>199.79</td>\n",
       "    </tr>\n",
       "    <tr>\n",
       "      <th>8</th>\n",
       "      <td>9.00</td>\n",
       "      <td>-35.05</td>\n",
       "      <td>-37.93</td>\n",
       "      <td>-16.12</td>\n",
       "      <td>-2.88</td>\n",
       "      <td>18.92</td>\n",
       "    </tr>\n",
       "    <tr>\n",
       "      <th>9</th>\n",
       "      <td>10.00</td>\n",
       "      <td>—</td>\n",
       "      <td>-46.23</td>\n",
       "      <td>-34.19</td>\n",
       "      <td>193.77</td>\n",
       "      <td>205.81</td>\n",
       "    </tr>\n",
       "  </tbody>\n",
       "</table>\n",
       "</div>"
      ],
      "text/plain": [
       "       n theory_dBVrms k_dBVrms r_dBVrms k_err_dB r_err_dB\n",
       "0   1.00          3.12     2.64    22.99    -0.48    19.86\n",
       "1   2.00             —   -50.66   -40.21   189.34   199.79\n",
       "2   3.00        -15.96   -20.03     3.14    -4.07    19.10\n",
       "3   4.00             —   -38.62   -40.21   201.38   199.79\n",
       "4   5.00        -24.83   -26.95    -5.72    -2.12    19.11\n",
       "5   6.00             —   -60.21   -40.21   179.79   199.79\n",
       "6   7.00        -30.68   -30.66   -10.96     0.02    19.72\n",
       "7   8.00             —   -60.21   -40.21   179.79   199.79\n",
       "8   9.00        -35.05   -37.93   -16.12    -2.88    18.92\n",
       "9  10.00             —   -46.23   -34.19   193.77   205.81"
      ]
     },
     "metadata": {},
     "output_type": "display_data"
    },
    {
     "data": {
      "text/html": [
       "<div class='figure-note'>Entries below the floor or not defined are shown as “—”. Absolute offsets can occur; see the Note on absolute scaling.</div>"
      ],
      "text/plain": [
       "<IPython.core.display.HTML object>"
      ]
     },
     "metadata": {},
     "output_type": "display_data"
    },
    {
     "data": {
      "text/html": [
       "<div>Normalization to n=1 focuses on the odd-harmonic envelope.</div>"
      ],
      "text/plain": [
       "<IPython.core.display.HTML object>"
      ]
     },
     "metadata": {},
     "output_type": "display_data"
    },
    {
     "data": {
      "text/html": [
       "<div class='caption'>Table 3b. Triangle — Theory vs Keysight vs RND Lab (normalized dBc)</div>"
      ],
      "text/plain": [
       "<IPython.core.display.HTML object>"
      ]
     },
     "metadata": {},
     "output_type": "display_data"
    },
    {
     "data": {
      "text/html": [
       "<div>\n",
       "<style scoped>\n",
       "    .dataframe tbody tr th:only-of-type {\n",
       "        vertical-align: middle;\n",
       "    }\n",
       "\n",
       "    .dataframe tbody tr th {\n",
       "        vertical-align: top;\n",
       "    }\n",
       "\n",
       "    .dataframe thead th {\n",
       "        text-align: right;\n",
       "    }\n",
       "</style>\n",
       "<table border=\"1\" class=\"dataframe\">\n",
       "  <thead>\n",
       "    <tr style=\"text-align: right;\">\n",
       "      <th></th>\n",
       "      <th>n</th>\n",
       "      <th>theory_dBc</th>\n",
       "      <th>k_dBc</th>\n",
       "      <th>r_dBc</th>\n",
       "      <th>k_err_dBc</th>\n",
       "      <th>r_err_dBc</th>\n",
       "    </tr>\n",
       "  </thead>\n",
       "  <tbody>\n",
       "    <tr>\n",
       "      <th>0</th>\n",
       "      <td>1.00</td>\n",
       "      <td>0.00</td>\n",
       "      <td>0.00</td>\n",
       "      <td>0.00</td>\n",
       "      <td>0.00</td>\n",
       "      <td>0.00</td>\n",
       "    </tr>\n",
       "    <tr>\n",
       "      <th>1</th>\n",
       "      <td>2.00</td>\n",
       "      <td>—</td>\n",
       "      <td>-53.31</td>\n",
       "      <td>-63.19</td>\n",
       "      <td>189.82</td>\n",
       "      <td>179.93</td>\n",
       "    </tr>\n",
       "    <tr>\n",
       "      <th>2</th>\n",
       "      <td>3.00</td>\n",
       "      <td>-19.08</td>\n",
       "      <td>-22.68</td>\n",
       "      <td>-19.85</td>\n",
       "      <td>-3.59</td>\n",
       "      <td>-0.76</td>\n",
       "    </tr>\n",
       "    <tr>\n",
       "      <th>3</th>\n",
       "      <td>4.00</td>\n",
       "      <td>—</td>\n",
       "      <td>-41.26</td>\n",
       "      <td>-63.19</td>\n",
       "      <td>201.86</td>\n",
       "      <td>179.93</td>\n",
       "    </tr>\n",
       "    <tr>\n",
       "      <th>4</th>\n",
       "      <td>5.00</td>\n",
       "      <td>-27.96</td>\n",
       "      <td>-29.59</td>\n",
       "      <td>-28.71</td>\n",
       "      <td>-1.63</td>\n",
       "      <td>-0.75</td>\n",
       "    </tr>\n",
       "    <tr>\n",
       "      <th>5</th>\n",
       "      <td>6.00</td>\n",
       "      <td>—</td>\n",
       "      <td>-62.85</td>\n",
       "      <td>-63.19</td>\n",
       "      <td>180.27</td>\n",
       "      <td>179.93</td>\n",
       "    </tr>\n",
       "    <tr>\n",
       "      <th>6</th>\n",
       "      <td>7.00</td>\n",
       "      <td>-33.80</td>\n",
       "      <td>-33.31</td>\n",
       "      <td>-33.94</td>\n",
       "      <td>0.50</td>\n",
       "      <td>-0.14</td>\n",
       "    </tr>\n",
       "    <tr>\n",
       "      <th>7</th>\n",
       "      <td>8.00</td>\n",
       "      <td>—</td>\n",
       "      <td>-62.85</td>\n",
       "      <td>-63.19</td>\n",
       "      <td>180.27</td>\n",
       "      <td>179.93</td>\n",
       "    </tr>\n",
       "    <tr>\n",
       "      <th>8</th>\n",
       "      <td>9.00</td>\n",
       "      <td>-38.17</td>\n",
       "      <td>-40.57</td>\n",
       "      <td>-39.11</td>\n",
       "      <td>-2.40</td>\n",
       "      <td>-0.94</td>\n",
       "    </tr>\n",
       "    <tr>\n",
       "      <th>9</th>\n",
       "      <td>10.00</td>\n",
       "      <td>—</td>\n",
       "      <td>-48.87</td>\n",
       "      <td>-57.17</td>\n",
       "      <td>194.26</td>\n",
       "      <td>185.95</td>\n",
       "    </tr>\n",
       "  </tbody>\n",
       "</table>\n",
       "</div>"
      ],
      "text/plain": [
       "       n theory_dBc   k_dBc   r_dBc k_err_dBc r_err_dBc\n",
       "0   1.00       0.00    0.00    0.00      0.00      0.00\n",
       "1   2.00          —  -53.31  -63.19    189.82    179.93\n",
       "2   3.00     -19.08  -22.68  -19.85     -3.59     -0.76\n",
       "3   4.00          —  -41.26  -63.19    201.86    179.93\n",
       "4   5.00     -27.96  -29.59  -28.71     -1.63     -0.75\n",
       "5   6.00          —  -62.85  -63.19    180.27    179.93\n",
       "6   7.00     -33.80  -33.31  -33.94      0.50     -0.14\n",
       "7   8.00          —  -62.85  -63.19    180.27    179.93\n",
       "8   9.00     -38.17  -40.57  -39.11     -2.40     -0.94\n",
       "9  10.00          —  -48.87  -57.17    194.26    185.95"
      ]
     },
     "metadata": {},
     "output_type": "display_data"
    },
    {
     "data": {
      "text/html": [
       "<div class='figure-note'>Odd harmonics follow the expected ~1/n^2 slope; even-n entries are near the floor and shown as “—”.</div>"
      ],
      "text/plain": [
       "<IPython.core.display.HTML object>"
      ]
     },
     "metadata": {},
     "output_type": "display_data"
    },
    {
     "data": {
      "text/html": [
       "<div class='pagebreak'></div>"
      ],
      "text/plain": [
       "<IPython.core.display.HTML object>"
      ]
     },
     "metadata": {},
     "output_type": "display_data"
    },
    {
     "data": {
      "text/html": [
       "<h3>4.3 Sine — Theory vs Keysight vs RND Lab</h3>"
      ],
      "text/plain": [
       "<IPython.core.display.HTML object>"
      ]
     },
     "metadata": {},
     "output_type": "display_data"
    },
    {
     "data": {
      "text/html": [
       "<div>Two-panel figure (absolute dBVrms and normalized dBc) and the matching tables.</div>"
      ],
      "text/plain": [
       "<IPython.core.display.HTML object>"
      ]
     },
     "metadata": {},
     "output_type": "display_data"
    },
    {
     "name": "stdout",
     "output_type": "stream",
     "text": [
      "[WARN] INPUT RND_lab_sine_1khz_fft.csv: spectrum ends at 7000.0 Hz, but N_HARM=10 at f0=1000.0 Hz needs ≥ 10000.0 Hz. Higher harmonics will be missing (shown as “—”).\n"
     ]
    },
    {
     "data": {
      "image/png": "[encoded data removed]",
      "text/plain": [
       "<Figure size 1176x408 with 2 Axes>"
      ]
     },
     "metadata": {},
     "output_type": "display_data"
    },
    {
     "data": {
      "text/html": [
       "<div class='caption'>Fig. 3. Sine — input. Theory vs Keysight vs RND Lab; CSV amplitudes were Vrms and converted to dBVrms here.</div>"
      ],
      "text/plain": [
       "<IPython.core.display.HTML object>"
      ]
     },
     "metadata": {},
     "output_type": "display_data"
    },
    {
     "data": {
      "text/html": [
       "<div class='figure-note'>Interpretation: The fundamental dominates, as theory predicts. Higher orders (n>1) are far below the fundamental (leakage, small distortion, noise). In dBc, both sources keep harmonics well below 0 dBc.</div>"
      ],
      "text/plain": [
       "<IPython.core.display.HTML object>"
      ]
     },
     "metadata": {},
     "output_type": "display_data"
    },
    {
     "data": {
      "text/html": [
       "<div>Ideally only the fundamental is present; higher orders indicate leakage/distortion.</div>"
      ],
      "text/plain": [
       "<IPython.core.display.HTML object>"
      ]
     },
     "metadata": {},
     "output_type": "display_data"
    },
    {
     "data": {
      "text/html": [
       "<div class='caption'>Table 4a. Sine — Theory vs Keysight vs RND Lab (absolute dBVrms)</div>"
      ],
      "text/plain": [
       "<IPython.core.display.HTML object>"
      ]
     },
     "metadata": {},
     "output_type": "display_data"
    },
    {
     "data": {
      "text/html": [
       "<div>\n",
       "<style scoped>\n",
       "    .dataframe tbody tr th:only-of-type {\n",
       "        vertical-align: middle;\n",
       "    }\n",
       "\n",
       "    .dataframe tbody tr th {\n",
       "        vertical-align: top;\n",
       "    }\n",
       "\n",
       "    .dataframe thead th {\n",
       "        text-align: right;\n",
       "    }\n",
       "</style>\n",
       "<table border=\"1\" class=\"dataframe\">\n",
       "  <thead>\n",
       "    <tr style=\"text-align: right;\">\n",
       "      <th></th>\n",
       "      <th>n</th>\n",
       "      <th>theory_dBVrms</th>\n",
       "      <th>k_dBVrms</th>\n",
       "      <th>r_dBVrms</th>\n",
       "      <th>k_err_dB</th>\n",
       "      <th>r_err_dB</th>\n",
       "    </tr>\n",
       "  </thead>\n",
       "  <tbody>\n",
       "    <tr>\n",
       "      <th>0</th>\n",
       "      <td>1.00</td>\n",
       "      <td>4.95</td>\n",
       "      <td>-2.10</td>\n",
       "      <td>4.53</td>\n",
       "      <td>-7.05</td>\n",
       "      <td>-0.41</td>\n",
       "    </tr>\n",
       "    <tr>\n",
       "      <th>1</th>\n",
       "      <td>2.00</td>\n",
       "      <td>—</td>\n",
       "      <td>-49.49</td>\n",
       "      <td>-48.16</td>\n",
       "      <td>190.51</td>\n",
       "      <td>191.84</td>\n",
       "    </tr>\n",
       "    <tr>\n",
       "      <th>2</th>\n",
       "      <td>3.00</td>\n",
       "      <td>—</td>\n",
       "      <td>-54.04</td>\n",
       "      <td>-48.16</td>\n",
       "      <td>185.96</td>\n",
       "      <td>191.84</td>\n",
       "    </tr>\n",
       "    <tr>\n",
       "      <th>3</th>\n",
       "      <td>4.00</td>\n",
       "      <td>—</td>\n",
       "      <td>-58.37</td>\n",
       "      <td>-48.16</td>\n",
       "      <td>181.63</td>\n",
       "      <td>191.84</td>\n",
       "    </tr>\n",
       "    <tr>\n",
       "      <th>4</th>\n",
       "      <td>5.00</td>\n",
       "      <td>—</td>\n",
       "      <td>-54.04</td>\n",
       "      <td>-54.18</td>\n",
       "      <td>185.96</td>\n",
       "      <td>185.82</td>\n",
       "    </tr>\n",
       "    <tr>\n",
       "      <th>5</th>\n",
       "      <td>6.00</td>\n",
       "      <td>—</td>\n",
       "      <td>-72.79</td>\n",
       "      <td>-54.18</td>\n",
       "      <td>167.21</td>\n",
       "      <td>185.82</td>\n",
       "    </tr>\n",
       "    <tr>\n",
       "      <th>6</th>\n",
       "      <td>7.00</td>\n",
       "      <td>—</td>\n",
       "      <td>-54.04</td>\n",
       "      <td>-54.18</td>\n",
       "      <td>185.96</td>\n",
       "      <td>185.82</td>\n",
       "    </tr>\n",
       "    <tr>\n",
       "      <th>7</th>\n",
       "      <td>8.00</td>\n",
       "      <td>—</td>\n",
       "      <td>-61.77</td>\n",
       "      <td>-54.18</td>\n",
       "      <td>178.23</td>\n",
       "      <td>185.82</td>\n",
       "    </tr>\n",
       "    <tr>\n",
       "      <th>8</th>\n",
       "      <td>9.00</td>\n",
       "      <td>—</td>\n",
       "      <td>-64.15</td>\n",
       "      <td>-54.18</td>\n",
       "      <td>175.85</td>\n",
       "      <td>185.82</td>\n",
       "    </tr>\n",
       "    <tr>\n",
       "      <th>9</th>\n",
       "      <td>10.00</td>\n",
       "      <td>—</td>\n",
       "      <td>-72.79</td>\n",
       "      <td>-54.18</td>\n",
       "      <td>167.21</td>\n",
       "      <td>185.82</td>\n",
       "    </tr>\n",
       "  </tbody>\n",
       "</table>\n",
       "</div>"
      ],
      "text/plain": [
       "       n theory_dBVrms k_dBVrms r_dBVrms k_err_dB r_err_dB\n",
       "0   1.00          4.95    -2.10     4.53    -7.05    -0.41\n",
       "1   2.00             —   -49.49   -48.16   190.51   191.84\n",
       "2   3.00             —   -54.04   -48.16   185.96   191.84\n",
       "3   4.00             —   -58.37   -48.16   181.63   191.84\n",
       "4   5.00             —   -54.04   -54.18   185.96   185.82\n",
       "5   6.00             —   -72.79   -54.18   167.21   185.82\n",
       "6   7.00             —   -54.04   -54.18   185.96   185.82\n",
       "7   8.00             —   -61.77   -54.18   178.23   185.82\n",
       "8   9.00             —   -64.15   -54.18   175.85   185.82\n",
       "9  10.00             —   -72.79   -54.18   167.21   185.82"
      ]
     },
     "metadata": {},
     "output_type": "display_data"
    },
    {
     "data": {
      "text/html": [
       "<div class='figure-note'>For n>1, theory is exactly 0, so a dB error vs 0 is not defined. Such entries are shown as “—”. Absolute offsets can occur; see the Note on absolute scaling.</div>"
      ],
      "text/plain": [
       "<IPython.core.display.HTML object>"
      ]
     },
     "metadata": {},
     "output_type": "display_data"
    },
    {
     "data": {
      "text/html": [
       "<div>Normalization to n=1 highlights relative distortion products.</div>"
      ],
      "text/plain": [
       "<IPython.core.display.HTML object>"
      ]
     },
     "metadata": {},
     "output_type": "display_data"
    },
    {
     "data": {
      "text/html": [
       "<div class='caption'>Table 4b. Sine — Theory vs Keysight vs RND Lab (normalized dBc)</div>"
      ],
      "text/plain": [
       "<IPython.core.display.HTML object>"
      ]
     },
     "metadata": {},
     "output_type": "display_data"
    },
    {
     "data": {
      "text/html": [
       "<div>\n",
       "<style scoped>\n",
       "    .dataframe tbody tr th:only-of-type {\n",
       "        vertical-align: middle;\n",
       "    }\n",
       "\n",
       "    .dataframe tbody tr th {\n",
       "        vertical-align: top;\n",
       "    }\n",
       "\n",
       "    .dataframe thead th {\n",
       "        text-align: right;\n",
       "    }\n",
       "</style>\n",
       "<table border=\"1\" class=\"dataframe\">\n",
       "  <thead>\n",
       "    <tr style=\"text-align: right;\">\n",
       "      <th></th>\n",
       "      <th>n</th>\n",
       "      <th>theory_dBc</th>\n",
       "      <th>k_dBc</th>\n",
       "      <th>r_dBc</th>\n",
       "      <th>k_err_dBc</th>\n",
       "      <th>r_err_dBc</th>\n",
       "    </tr>\n",
       "  </thead>\n",
       "  <tbody>\n",
       "    <tr>\n",
       "      <th>0</th>\n",
       "      <td>1.00</td>\n",
       "      <td>0.00</td>\n",
       "      <td>0.00</td>\n",
       "      <td>0.00</td>\n",
       "      <td>0.00</td>\n",
       "      <td>0.00</td>\n",
       "    </tr>\n",
       "    <tr>\n",
       "      <th>1</th>\n",
       "      <td>2.00</td>\n",
       "      <td>—</td>\n",
       "      <td>-47.38</td>\n",
       "      <td>-52.70</td>\n",
       "      <td>197.56</td>\n",
       "      <td>192.25</td>\n",
       "    </tr>\n",
       "    <tr>\n",
       "      <th>2</th>\n",
       "      <td>3.00</td>\n",
       "      <td>—</td>\n",
       "      <td>-51.93</td>\n",
       "      <td>-52.70</td>\n",
       "      <td>193.02</td>\n",
       "      <td>192.25</td>\n",
       "    </tr>\n",
       "    <tr>\n",
       "      <th>3</th>\n",
       "      <td>4.00</td>\n",
       "      <td>—</td>\n",
       "      <td>-56.27</td>\n",
       "      <td>-52.70</td>\n",
       "      <td>188.68</td>\n",
       "      <td>192.25</td>\n",
       "    </tr>\n",
       "    <tr>\n",
       "      <th>4</th>\n",
       "      <td>5.00</td>\n",
       "      <td>—</td>\n",
       "      <td>-51.93</td>\n",
       "      <td>-58.72</td>\n",
       "      <td>193.02</td>\n",
       "      <td>186.23</td>\n",
       "    </tr>\n",
       "    <tr>\n",
       "      <th>5</th>\n",
       "      <td>6.00</td>\n",
       "      <td>—</td>\n",
       "      <td>-70.68</td>\n",
       "      <td>-58.72</td>\n",
       "      <td>174.26</td>\n",
       "      <td>186.23</td>\n",
       "    </tr>\n",
       "    <tr>\n",
       "      <th>6</th>\n",
       "      <td>7.00</td>\n",
       "      <td>—</td>\n",
       "      <td>-51.93</td>\n",
       "      <td>-58.72</td>\n",
       "      <td>193.02</td>\n",
       "      <td>186.23</td>\n",
       "    </tr>\n",
       "    <tr>\n",
       "      <th>7</th>\n",
       "      <td>8.00</td>\n",
       "      <td>—</td>\n",
       "      <td>-59.67</td>\n",
       "      <td>-58.72</td>\n",
       "      <td>185.28</td>\n",
       "      <td>186.23</td>\n",
       "    </tr>\n",
       "    <tr>\n",
       "      <th>8</th>\n",
       "      <td>9.00</td>\n",
       "      <td>—</td>\n",
       "      <td>-62.05</td>\n",
       "      <td>-58.72</td>\n",
       "      <td>182.90</td>\n",
       "      <td>186.23</td>\n",
       "    </tr>\n",
       "    <tr>\n",
       "      <th>9</th>\n",
       "      <td>10.00</td>\n",
       "      <td>—</td>\n",
       "      <td>-70.68</td>\n",
       "      <td>-58.72</td>\n",
       "      <td>174.26</td>\n",
       "      <td>186.23</td>\n",
       "    </tr>\n",
       "  </tbody>\n",
       "</table>\n",
       "</div>"
      ],
      "text/plain": [
       "       n theory_dBc   k_dBc   r_dBc k_err_dBc r_err_dBc\n",
       "0   1.00       0.00    0.00    0.00      0.00      0.00\n",
       "1   2.00          —  -47.38  -52.70    197.56    192.25\n",
       "2   3.00          —  -51.93  -52.70    193.02    192.25\n",
       "3   4.00          —  -56.27  -52.70    188.68    192.25\n",
       "4   5.00          —  -51.93  -58.72    193.02    186.23\n",
       "5   6.00          —  -70.68  -58.72    174.26    186.23\n",
       "6   7.00          —  -51.93  -58.72    193.02    186.23\n",
       "7   8.00          —  -59.67  -58.72    185.28    186.23\n",
       "8   9.00          —  -62.05  -58.72    182.90    186.23\n",
       "9  10.00          —  -70.68  -58.72    174.26    186.23"
      ]
     },
     "metadata": {},
     "output_type": "display_data"
    },
    {
     "data": {
      "text/html": [
       "<div class='figure-note'>Higher orders remain far below 0 dBc. Entries below the floor are shown as “—”.</div>"
      ],
      "text/plain": [
       "<IPython.core.display.HTML object>"
      ]
     },
     "metadata": {},
     "output_type": "display_data"
    }
   ],
   "source": [
    "# ---------- Begin section (usage) ----------\n",
    "display(HTML(\"<div class='pagebreak'></div>\"))\n",
    "\n",
    "# Optional: map your CSV filenames for both sources (edit if needed)\n",
    "CSV_KEYSIGHT = {\n",
    "    'saw': \"trace_saw_fft.csv\",\n",
    "    'tri': \"trace_triangle_fft.csv\",\n",
    "    'sin': \"trace_sine_fft.csv\",\n",
    "}\n",
    "CSV_RND = {\n",
    "    'saw': \"RND_lab_saw_fft.csv\",        # <-- set to your actual RND sawtooth CSV\n",
    "    'tri': \"RND_lab_triangle_fft.csv\",   # <-- set to your actual RND triangle CSV\n",
    "    'sin': \"RND_lab_sine_1khz_fft.csv\",  # <-- set to your actual RND sine CSV\n",
    "}\n",
    "\n",
    "# ===== 4.1 Sawtooth =====\n",
    "display(HTML(\"<h3>4.1 Sawtooth — Theory vs Keysight vs RND Lab</h3>\"))\n",
    "display(HTML(\"<div>Two-panel figure (absolute dBVrms and normalized dBc) and the matching tables.</div>\"))\n",
    "\n",
    "df_saw = compare_three_panel(\n",
    "    CSV_KEYSIGHT['saw'],\n",
    "    CSV_RND['saw'],\n",
    "    waveform='saw',\n",
    "    apply_rc_to_theory=False,\n",
    "    title_prefix=\"Fig. 1. Sawtooth\"\n",
    ")\n",
    "\n",
    "display(HTML(\n",
    "    \"<div class='figure-note'>Interpretation: All harmonics are present and decay ~1/n. \"\n",
    "    \"Absolute levels can differ between devices or CSV exports, but after normalization (dBc) \"\n",
    "    \"both sources follow the same 1/n slope as theory.</div>\"\n",
    "))\n",
    "\n",
    "show_case_table_abs(\n",
    "    df_saw,\n",
    "    \"Table 2a. Sawtooth — Theory vs Keysight vs RND Lab (absolute dBVrms)\",\n",
    "    preface_text=\"First ten harmonics at multiples of 1 kHz.\",\n",
    "    closing_text=\"Absolute levels can be offset between sources; see the Note on absolute scaling. \"\n",
    "                 \"Values below the floor or not defined are shown as “—”.\"\n",
    ")\n",
    "show_case_table_rel(\n",
    "    df_saw,\n",
    "    \"Table 2b. Sawtooth — Theory vs Keysight vs RND Lab (normalized dBc)\",\n",
    "    preface_text=\"Each trace is normalized to its own fundamental (n=1).\",\n",
    "    closing_text=\"After normalization, all traces follow the expected ~1/n slope.\"\n",
    ")\n",
    "\n",
    "# ===== 4.2 Triangle =====\n",
    "display(HTML(\"<div class='pagebreak'></div>\"))\n",
    "display(HTML(\"<h3>4.2 Triangle — Theory vs Keysight vs RND Lab</h3>\"))\n",
    "display(HTML(\"<div>Two-panel figure (absolute dBVrms and normalized dBc) and the matching tables.</div>\"))\n",
    "\n",
    "df_tri = compare_three_panel(\n",
    "    CSV_KEYSIGHT['tri'],\n",
    "    CSV_RND['tri'],\n",
    "    waveform='tri',\n",
    "    apply_rc_to_theory=False,\n",
    "    title_prefix=\"Fig. 2. Triangle\"\n",
    ")\n",
    "\n",
    "display(HTML(\n",
    "    \"<div class='figure-note'>Interpretation: Only odd harmonics appear and they decay ~1/n^2. \"\n",
    "    \"Even harmonics are near the noise floor as theory predicts. In dBc, both sources show the same \"\n",
    "    \"odd-harmonic envelope.</div>\"\n",
    "))\n",
    "\n",
    "show_case_table_abs(\n",
    "    df_tri,\n",
    "    \"Table 3a. Triangle — Theory vs Keysight vs RND Lab (absolute dBVrms)\",\n",
    "    preface_text=\"Only odd harmonics are predicted by theory; even-n entries should be at the floor.\",\n",
    "    closing_text=\"Entries below the floor or not defined are shown as “—”. Absolute offsets can occur; \"\n",
    "                 \"see the Note on absolute scaling.\"\n",
    ")\n",
    "show_case_table_rel(\n",
    "    df_tri,\n",
    "    \"Table 3b. Triangle — Theory vs Keysight vs RND Lab (normalized dBc)\",\n",
    "    preface_text=\"Normalization to n=1 focuses on the odd-harmonic envelope.\",\n",
    "    closing_text=\"Odd harmonics follow the expected ~1/n^2 slope; even-n entries are near the floor and shown as “—”.\"\n",
    ")\n",
    "\n",
    "# ===== 4.3 Sine =====\n",
    "display(HTML(\"<div class='pagebreak'></div>\"))\n",
    "display(HTML(\"<h3>4.3 Sine — Theory vs Keysight vs RND Lab</h3>\"))\n",
    "display(HTML(\"<div>Two-panel figure (absolute dBVrms and normalized dBc) and the matching tables.</div>\"))\n",
    "\n",
    "df_sin = compare_three_panel(\n",
    "    CSV_KEYSIGHT['sin'],\n",
    "    CSV_RND['sin'],\n",
    "    waveform='sin',\n",
    "    apply_rc_to_theory=False,\n",
    "    title_prefix=\"Fig. 3. Sine\"\n",
    ")\n",
    "\n",
    "display(HTML(\n",
    "    \"<div class='figure-note'>Interpretation: The fundamental dominates, as theory predicts. \"\n",
    "    \"Higher orders (n>1) are far below the fundamental (leakage, small distortion, noise). \"\n",
    "    \"In dBc, both sources keep harmonics well below 0 dBc.</div>\"\n",
    "))\n",
    "\n",
    "show_case_table_abs(\n",
    "    df_sin,\n",
    "    \"Table 4a. Sine — Theory vs Keysight vs RND Lab (absolute dBVrms)\",\n",
    "    preface_text=\"Ideally only the fundamental is present; higher orders indicate leakage/distortion.\",\n",
    "    closing_text=\"For n>1, theory is exactly 0, so a dB error vs 0 is not defined. Such entries are shown as “—”. \"\n",
    "                 \"Absolute offsets can occur; see the Note on absolute scaling.\"\n",
    ")\n",
    "show_case_table_rel(\n",
    "    df_sin,\n",
    "    \"Table 4b. Sine — Theory vs Keysight vs RND Lab (normalized dBc)\",\n",
    "    preface_text=\"Normalization to n=1 highlights relative distortion products.\",\n",
    "    closing_text=\"Higher orders remain far below 0 dBc. Entries below the floor are shown as “—”.\"\n",
    ")\n"
   ]
  },
  {
   "cell_type": "code",
   "execution_count": 170,
   "id": "8ddb172a",
   "metadata": {},
   "outputs": [
    {
     "data": {
      "text/html": [
       "<div class='pagebreak'></div>"
      ],
      "text/plain": [
       "<IPython.core.display.HTML object>"
      ]
     },
     "metadata": {},
     "output_type": "display_data"
    },
    {
     "data": {
      "text/html": [
       "<h3>4.4 RC filter</h3>"
      ],
      "text/plain": [
       "<IPython.core.display.HTML object>"
      ]
     },
     "metadata": {},
     "output_type": "display_data"
    },
    {
     "data": {
      "text/html": [
       "<div>Four traces for input vs after RC (dBVrms & dBc) for both sources. Theory is shown as vertical markers in dBc. Tables include measured attenuation and theory.</div>"
      ],
      "text/plain": [
       "<IPython.core.display.HTML object>"
      ]
     },
     "metadata": {},
     "output_type": "display_data"
    },
    {
     "data": {
      "image/png": "[encoded data removed]",
      "text/plain": [
       "<Figure size 936x408 with 1 Axes>"
      ]
     },
     "metadata": {},
     "output_type": "display_data"
    },
    {
     "data": {
      "text/html": [
       "<div class='caption'>Fig. 4a. Four-trace overlay — input vs after RC for both sources. Vrms from CSV were converted to dBVrms here. Absolute levels can differ between sources/exports; the attenuation after RC is clear for all n.</div>"
      ],
      "text/plain": [
       "<IPython.core.display.HTML object>"
      ]
     },
     "metadata": {},
     "output_type": "display_data"
    },
    {
     "data": {
      "image/png": "[encoded data removed]",
      "text/plain": [
       "<Figure size 936x408 with 1 Axes>"
      ]
     },
     "metadata": {},
     "output_type": "display_data"
    },
    {
     "data": {
      "text/html": [
       "<div class='caption'>Fig. 4b. Normalized spectra — Keysight & RND Lab, input vs after RC. Dashed ticks = theoretical unfiltered harmonics; dash-dot = theoretical after RC (|Fourier| · |H|). Both sources follow the expected ~1/n slope; after RC the lines drop by ~20 dB/decade.</div>"
      ],
      "text/plain": [
       "<IPython.core.display.HTML object>"
      ]
     },
     "metadata": {},
     "output_type": "display_data"
    },
    {
     "data": {
      "text/html": [
       "<div class='caption' style='font-weight:600'>Table 5a. Sawtooth @ 1 kHz — Keysight before vs after RC (dBVrms & ΔdB)</div>"
      ],
      "text/plain": [
       "<IPython.core.display.HTML object>"
      ]
     },
     "metadata": {},
     "output_type": "display_data"
    },
    {
     "data": {
      "text/html": [
       "<div class='figure-note'>Measured input/after/Δ for Keysight, plus theoretical before/after and theoretical Δ.</div>"
      ],
      "text/plain": [
       "<IPython.core.display.HTML object>"
      ]
     },
     "metadata": {},
     "output_type": "display_data"
    },
    {
     "data": {
      "text/html": [
       "<div>\n",
       "<style scoped>\n",
       "    .dataframe tbody tr th:only-of-type {\n",
       "        vertical-align: middle;\n",
       "    }\n",
       "\n",
       "    .dataframe tbody tr th {\n",
       "        vertical-align: top;\n",
       "    }\n",
       "\n",
       "    .dataframe thead th {\n",
       "        text-align: right;\n",
       "    }\n",
       "</style>\n",
       "<table border=\"1\" class=\"dataframe\">\n",
       "  <thead>\n",
       "    <tr style=\"text-align: right;\">\n",
       "      <th></th>\n",
       "      <th>n</th>\n",
       "      <th>K_in_dBV</th>\n",
       "      <th>K_out_dBV</th>\n",
       "      <th>K_atten_dB</th>\n",
       "      <th>T_pre_dBV</th>\n",
       "      <th>T_post_dBV</th>\n",
       "      <th>T_atten_dB</th>\n",
       "    </tr>\n",
       "  </thead>\n",
       "  <tbody>\n",
       "    <tr>\n",
       "      <th>0</th>\n",
       "      <td>1.00</td>\n",
       "      <td>-4.48</td>\n",
       "      <td>-0.42</td>\n",
       "      <td>4.07</td>\n",
       "      <td>1.03</td>\n",
       "      <td>0.04</td>\n",
       "      <td>-0.98</td>\n",
       "    </tr>\n",
       "    <tr>\n",
       "      <th>1</th>\n",
       "      <td>2.00</td>\n",
       "      <td>-5.12</td>\n",
       "      <td>-9.06</td>\n",
       "      <td>-3.93</td>\n",
       "      <td>-4.99</td>\n",
       "      <td>-8.04</td>\n",
       "      <td>-3.04</td>\n",
       "    </tr>\n",
       "    <tr>\n",
       "      <th>2</th>\n",
       "      <td>3.00</td>\n",
       "      <td>-8.85</td>\n",
       "      <td>-13.89</td>\n",
       "      <td>-5.04</td>\n",
       "      <td>-8.52</td>\n",
       "      <td>-13.68</td>\n",
       "      <td>-5.17</td>\n",
       "    </tr>\n",
       "    <tr>\n",
       "      <th>3</th>\n",
       "      <td>4.00</td>\n",
       "      <td>-11.71</td>\n",
       "      <td>-18.20</td>\n",
       "      <td>-6.49</td>\n",
       "      <td>-11.02</td>\n",
       "      <td>-18.06</td>\n",
       "      <td>-7.04</td>\n",
       "    </tr>\n",
       "    <tr>\n",
       "      <th>4</th>\n",
       "      <td>5.00</td>\n",
       "      <td>-12.99</td>\n",
       "      <td>-22.48</td>\n",
       "      <td>-9.49</td>\n",
       "      <td>-12.95</td>\n",
       "      <td>-21.62</td>\n",
       "      <td>-8.66</td>\n",
       "    </tr>\n",
       "    <tr>\n",
       "      <th>5</th>\n",
       "      <td>6.00</td>\n",
       "      <td>-16.04</td>\n",
       "      <td>-25.09</td>\n",
       "      <td>-9.05</td>\n",
       "      <td>-14.54</td>\n",
       "      <td>-24.60</td>\n",
       "      <td>-10.06</td>\n",
       "    </tr>\n",
       "    <tr>\n",
       "      <th>6</th>\n",
       "      <td>7.00</td>\n",
       "      <td>-16.07</td>\n",
       "      <td>-27.34</td>\n",
       "      <td>-11.27</td>\n",
       "      <td>-15.88</td>\n",
       "      <td>-27.16</td>\n",
       "      <td>-11.29</td>\n",
       "    </tr>\n",
       "    <tr>\n",
       "      <th>7</th>\n",
       "      <td>8.00</td>\n",
       "      <td>-17.51</td>\n",
       "      <td>-29.84</td>\n",
       "      <td>-12.33</td>\n",
       "      <td>-17.04</td>\n",
       "      <td>-29.40</td>\n",
       "      <td>-12.37</td>\n",
       "    </tr>\n",
       "    <tr>\n",
       "      <th>8</th>\n",
       "      <td>9.00</td>\n",
       "      <td>-18.61</td>\n",
       "      <td>-32.60</td>\n",
       "      <td>-13.99</td>\n",
       "      <td>-18.06</td>\n",
       "      <td>-31.40</td>\n",
       "      <td>-13.34</td>\n",
       "    </tr>\n",
       "    <tr>\n",
       "      <th>9</th>\n",
       "      <td>10.00</td>\n",
       "      <td>-18.93</td>\n",
       "      <td>-33.76</td>\n",
       "      <td>-14.83</td>\n",
       "      <td>-18.97</td>\n",
       "      <td>-33.19</td>\n",
       "      <td>-14.22</td>\n",
       "    </tr>\n",
       "  </tbody>\n",
       "</table>\n",
       "</div>"
      ],
      "text/plain": [
       "       n K_in_dBV K_out_dBV K_atten_dB T_pre_dBV T_post_dBV T_atten_dB\n",
       "0   1.00    -4.48     -0.42       4.07      1.03       0.04      -0.98\n",
       "1   2.00    -5.12     -9.06      -3.93     -4.99      -8.04      -3.04\n",
       "2   3.00    -8.85    -13.89      -5.04     -8.52     -13.68      -5.17\n",
       "3   4.00   -11.71    -18.20      -6.49    -11.02     -18.06      -7.04\n",
       "4   5.00   -12.99    -22.48      -9.49    -12.95     -21.62      -8.66\n",
       "5   6.00   -16.04    -25.09      -9.05    -14.54     -24.60     -10.06\n",
       "6   7.00   -16.07    -27.34     -11.27    -15.88     -27.16     -11.29\n",
       "7   8.00   -17.51    -29.84     -12.33    -17.04     -29.40     -12.37\n",
       "8   9.00   -18.61    -32.60     -13.99    -18.06     -31.40     -13.34\n",
       "9  10.00   -18.93    -33.76     -14.83    -18.97     -33.19     -14.22"
      ]
     },
     "metadata": {},
     "output_type": "display_data"
    },
    {
     "data": {
      "text/html": [
       "<div class='caption' style='font-weight:600'>Table 5b. Sawtooth @ 1 kHz — RND Lab before vs after RC (dBVrms & ΔdB)</div>"
      ],
      "text/plain": [
       "<IPython.core.display.HTML object>"
      ]
     },
     "metadata": {},
     "output_type": "display_data"
    },
    {
     "data": {
      "text/html": [
       "<div class='figure-note'>Measured input/after/Δ for RND Lab, plus theoretical before/after and theoretical Δ.</div>"
      ],
      "text/plain": [
       "<IPython.core.display.HTML object>"
      ]
     },
     "metadata": {},
     "output_type": "display_data"
    },
    {
     "data": {
      "text/html": [
       "<div>\n",
       "<style scoped>\n",
       "    .dataframe tbody tr th:only-of-type {\n",
       "        vertical-align: middle;\n",
       "    }\n",
       "\n",
       "    .dataframe tbody tr th {\n",
       "        vertical-align: top;\n",
       "    }\n",
       "\n",
       "    .dataframe thead th {\n",
       "        text-align: right;\n",
       "    }\n",
       "</style>\n",
       "<table border=\"1\" class=\"dataframe\">\n",
       "  <thead>\n",
       "    <tr style=\"text-align: right;\">\n",
       "      <th></th>\n",
       "      <th>n</th>\n",
       "      <th>R_in_dBV</th>\n",
       "      <th>R_out_dBV</th>\n",
       "      <th>R_atten_dB</th>\n",
       "      <th>T_pre_dBV</th>\n",
       "      <th>T_post_dBV</th>\n",
       "      <th>T_atten_dB</th>\n",
       "    </tr>\n",
       "  </thead>\n",
       "  <tbody>\n",
       "    <tr>\n",
       "      <th>0</th>\n",
       "      <td>1.00</td>\n",
       "      <td>20.89</td>\n",
       "      <td>-0.35</td>\n",
       "      <td>-21.24</td>\n",
       "      <td>1.03</td>\n",
       "      <td>0.04</td>\n",
       "      <td>-0.98</td>\n",
       "    </tr>\n",
       "    <tr>\n",
       "      <th>1</th>\n",
       "      <td>2.00</td>\n",
       "      <td>14.59</td>\n",
       "      <td>-9.65</td>\n",
       "      <td>-24.24</td>\n",
       "      <td>-4.99</td>\n",
       "      <td>-8.04</td>\n",
       "      <td>-3.04</td>\n",
       "    </tr>\n",
       "    <tr>\n",
       "      <th>2</th>\n",
       "      <td>3.00</td>\n",
       "      <td>10.47</td>\n",
       "      <td>-17.54</td>\n",
       "      <td>-28.01</td>\n",
       "      <td>-8.52</td>\n",
       "      <td>-13.68</td>\n",
       "      <td>-5.17</td>\n",
       "    </tr>\n",
       "    <tr>\n",
       "      <th>3</th>\n",
       "      <td>4.00</td>\n",
       "      <td>7.96</td>\n",
       "      <td>-22.04</td>\n",
       "      <td>-30.00</td>\n",
       "      <td>-11.02</td>\n",
       "      <td>-18.06</td>\n",
       "      <td>-7.04</td>\n",
       "    </tr>\n",
       "    <tr>\n",
       "      <th>4</th>\n",
       "      <td>5.00</td>\n",
       "      <td>6.48</td>\n",
       "      <td>-23.43</td>\n",
       "      <td>-29.91</td>\n",
       "      <td>-12.95</td>\n",
       "      <td>-21.62</td>\n",
       "      <td>-8.66</td>\n",
       "    </tr>\n",
       "    <tr>\n",
       "      <th>5</th>\n",
       "      <td>6.00</td>\n",
       "      <td>5.23</td>\n",
       "      <td>-25.09</td>\n",
       "      <td>-30.32</td>\n",
       "      <td>-14.54</td>\n",
       "      <td>-24.60</td>\n",
       "      <td>-10.06</td>\n",
       "    </tr>\n",
       "    <tr>\n",
       "      <th>6</th>\n",
       "      <td>7.00</td>\n",
       "      <td>3.93</td>\n",
       "      <td>-27.34</td>\n",
       "      <td>-31.27</td>\n",
       "      <td>-15.88</td>\n",
       "      <td>-27.16</td>\n",
       "      <td>-11.29</td>\n",
       "    </tr>\n",
       "    <tr>\n",
       "      <th>7</th>\n",
       "      <td>8.00</td>\n",
       "      <td>2.72</td>\n",
       "      <td>-30.10</td>\n",
       "      <td>-32.82</td>\n",
       "      <td>-17.04</td>\n",
       "      <td>-29.40</td>\n",
       "      <td>-12.37</td>\n",
       "    </tr>\n",
       "    <tr>\n",
       "      <th>8</th>\n",
       "      <td>9.00</td>\n",
       "      <td>1.30</td>\n",
       "      <td>-32.97</td>\n",
       "      <td>-34.28</td>\n",
       "      <td>-18.06</td>\n",
       "      <td>-31.40</td>\n",
       "      <td>-13.34</td>\n",
       "    </tr>\n",
       "    <tr>\n",
       "      <th>9</th>\n",
       "      <td>10.00</td>\n",
       "      <td>-0.12</td>\n",
       "      <td>-37.28</td>\n",
       "      <td>-37.16</td>\n",
       "      <td>-18.97</td>\n",
       "      <td>-33.19</td>\n",
       "      <td>-14.22</td>\n",
       "    </tr>\n",
       "  </tbody>\n",
       "</table>\n",
       "</div>"
      ],
      "text/plain": [
       "       n R_in_dBV R_out_dBV R_atten_dB T_pre_dBV T_post_dBV T_atten_dB\n",
       "0   1.00    20.89     -0.35     -21.24      1.03       0.04      -0.98\n",
       "1   2.00    14.59     -9.65     -24.24     -4.99      -8.04      -3.04\n",
       "2   3.00    10.47    -17.54     -28.01     -8.52     -13.68      -5.17\n",
       "3   4.00     7.96    -22.04     -30.00    -11.02     -18.06      -7.04\n",
       "4   5.00     6.48    -23.43     -29.91    -12.95     -21.62      -8.66\n",
       "5   6.00     5.23    -25.09     -30.32    -14.54     -24.60     -10.06\n",
       "6   7.00     3.93    -27.34     -31.27    -15.88     -27.16     -11.29\n",
       "7   8.00     2.72    -30.10     -32.82    -17.04     -29.40     -12.37\n",
       "8   9.00     1.30    -32.97     -34.28    -18.06     -31.40     -13.34\n",
       "9  10.00    -0.12    -37.28     -37.16    -18.97     -33.19     -14.22"
      ]
     },
     "metadata": {},
     "output_type": "display_data"
    },
    {
     "data": {
      "text/html": [
       "<div class='figure-note'>Measured attenuation grows with harmonic order (≈ −20 dB/decade). The theoretical Δ is 20·log10|H(j·2π·n·F0)| and agrees well with the data.</div>"
      ],
      "text/plain": [
       "<IPython.core.display.HTML object>"
      ]
     },
     "metadata": {},
     "output_type": "display_data"
    },
    {
     "data": {
      "text/html": [
       "<div class='pagebreak'></div>"
      ],
      "text/plain": [
       "<IPython.core.display.HTML object>"
      ]
     },
     "metadata": {},
     "output_type": "display_data"
    },
    {
     "data": {
      "text/html": [
       "<div class='keep-with-next nobreak'><b>FFT results at 1 kHz, 10 kHz, and 100 kHz:</b> higher frequencies are reduced more by the RC filter.</div>"
      ],
      "text/plain": [
       "<IPython.core.display.HTML object>"
      ]
     },
     "metadata": {},
     "output_type": "display_data"
    },
    {
     "data": {
      "image/png": "[encoded data removed]",
      "text/plain": [
       "<IPython.core.display.Image object>"
      ]
     },
     "metadata": {
      "image/png": {
       "width": 360
      }
     },
     "output_type": "display_data"
    },
    {
     "data": {
      "text/html": [
       "<div class='caption'>Fig. 5. RC near 1 kHz (FFT)</div>"
      ],
      "text/plain": [
       "<IPython.core.display.HTML object>"
      ]
     },
     "metadata": {},
     "output_type": "display_data"
    },
    {
     "data": {
      "image/png": "[encoded data removed]",
      "text/plain": [
       "<IPython.core.display.Image object>"
      ]
     },
     "metadata": {
      "image/png": {
       "width": 360
      }
     },
     "output_type": "display_data"
    },
    {
     "data": {
      "text/html": [
       "<div class='caption'>Fig. 6. RC near 10 kHz (FFT)</div>"
      ],
      "text/plain": [
       "<IPython.core.display.HTML object>"
      ]
     },
     "metadata": {},
     "output_type": "display_data"
    },
    {
     "data": {
      "image/png": "[encoded data removed]",
      "text/plain": [
       "<IPython.core.display.Image object>"
      ]
     },
     "metadata": {
      "image/png": {
       "width": 360
      }
     },
     "output_type": "display_data"
    },
    {
     "data": {
      "text/html": [
       "<div class='caption'>Fig. 7. RC near 100 kHz (FFT)</div>"
      ],
      "text/plain": [
       "<IPython.core.display.HTML object>"
      ]
     },
     "metadata": {},
     "output_type": "display_data"
    },
    {
     "data": {
      "text/html": [
       "<div class='figure-note'>At 10 kHz (≈5× the cutoff) the fundamental has dropped by >10 dB and most harmonics are gone. At 100 kHz (≈50× the cutoff) the spectrum is near the noise floor. This matches the expected −20 dB/decade behavior.</div>"
      ],
      "text/plain": [
       "<IPython.core.display.HTML object>"
      ]
     },
     "metadata": {},
     "output_type": "display_data"
    },
    {
     "data": {
      "text/html": [
       "<div class='pagebreak'></div>"
      ],
      "text/plain": [
       "<IPython.core.display.HTML object>"
      ]
     },
     "metadata": {},
     "output_type": "display_data"
    },
    {
     "data": {
      "text/html": [
       "<div class='keep-with-next nobreak'><b>Time-domain snapshots at 1 kHz, 10 kHz, and 100 kHz:</b> as more harmonics are filtered out, the waveform becomes smoother.</div>"
      ],
      "text/plain": [
       "<IPython.core.display.HTML object>"
      ]
     },
     "metadata": {},
     "output_type": "display_data"
    },
    {
     "data": {
      "image/png": "[encoded data removed]",
      "text/plain": [
       "<IPython.core.display.Image object>"
      ]
     },
     "metadata": {
      "image/png": {
       "width": 360
      }
     },
     "output_type": "display_data"
    },
    {
     "data": {
      "text/html": [
       "<div class='caption'>Fig. 8. 1 kHz time-domain (RC output)</div>"
      ],
      "text/plain": [
       "<IPython.core.display.HTML object>"
      ]
     },
     "metadata": {},
     "output_type": "display_data"
    },
    {
     "data": {
      "image/png": "[encoded data removed]",
      "text/plain": [
       "<IPython.core.display.Image object>"
      ]
     },
     "metadata": {
      "image/png": {
       "width": 360
      }
     },
     "output_type": "display_data"
    },
    {
     "data": {
      "text/html": [
       "<div class='caption'>Fig. 9. 10 kHz time-domain (RC output)</div>"
      ],
      "text/plain": [
       "<IPython.core.display.HTML object>"
      ]
     },
     "metadata": {},
     "output_type": "display_data"
    },
    {
     "data": {
      "image/png": "[encoded data removed]",
      "text/plain": [
       "<IPython.core.display.Image object>"
      ]
     },
     "metadata": {
      "image/png": {
       "width": 360
      }
     },
     "output_type": "display_data"
    },
    {
     "data": {
      "text/html": [
       "<div class='caption'>Fig. 10. 100 kHz time-domain (RC output)</div>"
      ],
      "text/plain": [
       "<IPython.core.display.HTML object>"
      ]
     },
     "metadata": {},
     "output_type": "display_data"
    },
    {
     "data": {
      "text/html": [
       "<div class='figure-note keep-with-next nobreak'>At 1 kHz the sawtooth is still visible with rounded edges. At 10 kHz the output is close to a sine. At 100 kHz the output is almost flat. These changes agree with the FFT results and confirm the expected low-pass behavior.</div>"
      ],
      "text/plain": [
       "<IPython.core.display.HTML object>"
      ]
     },
     "metadata": {},
     "output_type": "display_data"
    }
   ],
   "source": [
    "# ===== 4.4 RC unified =====\n",
    "display(HTML(\"<div class='pagebreak'></div>\"))\n",
    "display(HTML(\"<h3>4.4 RC filter</h3>\"))\n",
    "display(HTML(\"<div>Four traces for input vs after RC (dBVrms & dBc) for both sources. \"\n",
    "             \"Theory is shown as vertical markers in dBc. Tables include measured attenuation and theory.</div>\"))\n",
    "\n",
    "# --- 4.4.2 BEFORE vs AFTER RC (both sources in SAME plots) + THEORY overlays ---\n",
    "\n",
    "def build_cmp_df(in_csv, out_csv):\n",
    "    \"\"\"\n",
    "    Load spectra (Vrms -> dBVrms), pick harmonics, compute per-trace dBc and attenuation (after - before).\n",
    "    Returns columns: n, in_dBV, out_dBV, in_dBc, out_dBc, atten_dB\n",
    "    \"\"\"\n",
    "    spec_in  = read_scope_fft_vrms(in_csv)\n",
    "    spec_out = read_scope_fft_vrms(out_csv)\n",
    "\n",
    "    meas_in  = pick_harmonics(spec_in,  n_max=N_HARM, col='dBVrms').rename(columns={'dBVrms':'in_dBV'})\n",
    "    meas_out = pick_harmonics(spec_out, n_max=N_HARM, col='dBVrms').rename(columns={'dBVrms':'out_dBV'})\n",
    "    df = pd.merge(meas_in[['n','in_dBV']], meas_out[['n','out_dBV']], on='n', how='inner').sort_values('n')\n",
    "\n",
    "    # Per-trace normalization (relative to n=1) → dBc\n",
    "    df['in_dBc']  = to_dBc(df['n'], df['in_dBV'])\n",
    "    df['out_dBc'] = to_dBc(df['n'], df['out_dBV'])\n",
    "\n",
    "    # Attenuation (after - before) in dB\n",
    "    df['atten_dB'] = df['out_dBV'] - df['in_dBV']\n",
    "    return df.reset_index(drop=True)\n",
    "\n",
    "# ---- File names: edit to your actual CSVs (input vs after RC) ----\n",
    "# Keysight @ 1 kHz sawtooth\n",
    "ks = build_cmp_df(\"trace_saw_fft.csv\",            \"rc_fft_1khz.csv\")\n",
    "# RND Lab @ 1 kHz sawtooth\n",
    "rn = build_cmp_df(\"RND_lab_saw_fft.csv\",          \"RND_lab_saw_1khz_fft_RC.csv\")\n",
    "\n",
    "# Theory (before RC and after RC) for sawtooth\n",
    "theo_pre  = theory_df(\"saw\", apply_rc=False, n_max=N_HARM)[['n','theory_dBVrms','theory_dBc']].rename(\n",
    "    columns={'theory_dBVrms':'T_pre_dBV',  'theory_dBc':'theory_pre_dBc'}\n",
    ")\n",
    "theo_post = theory_df(\"saw\", apply_rc=True,  n_max=N_HARM)[['n','theory_dBVrms','theory_dBc']].rename(\n",
    "    columns={'theory_dBVrms':'T_post_dBV', 'theory_dBc':'theory_post_dBc'}\n",
    ")\n",
    "theo = theo_pre.merge(theo_post, on='n', how='inner').sort_values('n').reset_index(drop=True)\n",
    "\n",
    "# Use harmonic orders from data (assumes same n set across frames)\n",
    "n = ks['n'].values\n",
    "\n",
    "# -------------------- PLOTS --------------------\n",
    "\n",
    "# (A) Absolute dBVrms overlay\n",
    "fig, ax = plt.subplots(figsize=(7.8, 3.4))\n",
    "ax.stem(n-0.18, ks['in_dBV'],  linefmt='C0-', markerfmt='C0o', basefmt=' ', label='Keysight input (dBVrms)')\n",
    "ax.stem(n-0.06, ks['out_dBV'], linefmt='C1-', markerfmt='C1s', basefmt=' ', label='Keysight after RC (dBVrms)')\n",
    "ax.stem(n+0.06, rn['in_dBV'],  linefmt='C2-', markerfmt='C2^', basefmt=' ', label='RND Lab input (dBVrms)')\n",
    "ax.stem(n+0.18, rn['out_dBV'], linefmt='C3-', markerfmt='C3D', basefmt=' ', label='RND Lab after RC (dBVrms)')\n",
    "ax.set_xlabel('Harmonic order n'); ax.set_ylabel('dBVrms')\n",
    "ax.set_title('Fig. 4a. Sawtooth @ 1 kHz — Input vs after RC (Keysight & RND Lab, dBVrms)')\n",
    "ax.grid(alpha=0.35); ax.legend(fontsize=8)\n",
    "fig.tight_layout(); plt.show()\n",
    "caption(\"Fig. 4a. Four-trace overlay — input vs after RC for both sources. Vrms from CSV were converted to dBVrms here. \"\n",
    "        \"Absolute levels can differ between sources/exports; the attenuation after RC is clear for all n.\")\n",
    "\n",
    "# (B) Normalized dBc overlay + THEORY markers\n",
    "fig, ax = plt.subplots(figsize=(7.8, 3.4))\n",
    "K_in_dBc, K_out_dBc = ks['in_dBc'].values, ks['out_dBc'].values\n",
    "R_in_dBc, R_out_dBc = rn['in_dBc'].values, rn['out_dBc'].values\n",
    "\n",
    "ax.stem(n-0.18, K_in_dBc,  linefmt='C0-', markerfmt='C0o', basefmt=' ', label='Keysight input (dBc)')\n",
    "ax.stem(n-0.06, K_out_dBc, linefmt='C1-', markerfmt='C1s', basefmt=' ', label='Keysight after RC (dBc)')\n",
    "ax.stem(n+0.06, R_in_dBc,  linefmt='C2-', markerfmt='C2^', basefmt=' ', label='RND Lab input (dBc)')\n",
    "ax.stem(n+0.18, R_out_dBc, linefmt='C3-', markerfmt='C3D', basefmt=' ', label='RND Lab after RC (dBc)')\n",
    "\n",
    "def theory_ticks(xn, yvals, height=0.6, **kwargs):\n",
    "    ax.vlines(xn, ymin=yvals-height/2, ymax=yvals+height/2, **kwargs)\n",
    "\n",
    "theory_ticks(theo['n'].values, theo['theory_pre_dBc'].values,  0.6, colors='k', linestyles='dashed',  label='Theory before RC (dBc)')\n",
    "theory_ticks(theo['n'].values, theo['theory_post_dBc'].values, 0.6, colors='k', linestyles='dashdot', label='Theory after RC (dBc)')\n",
    "\n",
    "ax.set_xlabel('Harmonic order n'); ax.set_ylabel('dBc (rel. to n=1)')\n",
    "ax.set_title('Fig. 4b. Sawtooth @ 1 kHz — Spectral shape vs theory (vertical markers)')\n",
    "ax.grid(alpha=0.35); ax.legend(fontsize=8, ncol=2)\n",
    "fig.tight_layout(); plt.show()\n",
    "caption(\"Fig. 4b. Normalized spectra — Keysight & RND Lab, input vs after RC. \"\n",
    "        \"Dashed ticks = theoretical unfiltered harmonics; dash-dot = theoretical after RC (|Fourier| · |H|). \"\n",
    "        \"Both sources follow the expected ~1/n slope; after RC the lines drop by ~20 dB/decade.\")\n",
    "\n",
    "# -------------------- TABLES --------------------\n",
    "\n",
    "# Build combined attenuation DataFrame\n",
    "att = (pd.DataFrame({'n': n})\n",
    "       .merge(ks[['n','in_dBV','out_dBV','atten_dB']].rename(columns={\n",
    "           'in_dBV':'K_in_dBV','out_dBV':'K_out_dBV','atten_dB':'K_atten_dB'\n",
    "       }), on='n', how='left')\n",
    "       .merge(rn[['n','in_dBV','out_dBV','atten_dB']].rename(columns={\n",
    "           'in_dBV':'R_in_dBV','out_dBV':'R_out_dBV','atten_dB':'R_atten_dB'\n",
    "       }), on='n', how='left')\n",
    "       .merge(theo[['n','T_pre_dBV','T_post_dBV']], on='n', how='left')\n",
    "       .sort_values('n').reset_index(drop=True))\n",
    "\n",
    "# Theoretical attenuation: Δ = post - pre\n",
    "att['T_atten_dB'] = att['T_post_dBV'] - att['T_pre_dBV']\n",
    "\n",
    "# Helper to show tables with “—” for very low/undefined cells (requires _format_table_for_display from TOP cell)\n",
    "keysight_tbl = att[['n','K_in_dBV','K_out_dBV','K_atten_dB','T_pre_dBV','T_post_dBV','T_atten_dB']]\n",
    "display(HTML(\"<div class='caption' style='font-weight:600'>Table 5a. Sawtooth @ 1 kHz — Keysight before vs after RC (dBVrms & ΔdB)</div>\"))\n",
    "display(HTML(\"<div class='figure-note'>Measured input/after/Δ for Keysight, plus theoretical before/after and theoretical Δ.</div>\"))\n",
    "try:\n",
    "    display(_format_table_for_display(keysight_tbl.round(2)))\n",
    "except NameError:\n",
    "    display(keysight_tbl.round(2))  # fallback if helper not defined\n",
    "\n",
    "rnd_tbl = att[['n','R_in_dBV','R_out_dBV','R_atten_dB','T_pre_dBV','T_post_dBV','T_atten_dB']]\n",
    "display(HTML(\"<div class='caption' style='font-weight:600'>Table 5b. Sawtooth @ 1 kHz — RND Lab before vs after RC (dBVrms & ΔdB)</div>\"))\n",
    "display(HTML(\"<div class='figure-note'>Measured input/after/Δ for RND Lab, plus theoretical before/after and theoretical Δ.</div>\"))\n",
    "try:\n",
    "    display(_format_table_for_display(rnd_tbl.round(2)))\n",
    "except NameError:\n",
    "    display(rnd_tbl.round(2))  # fallback\n",
    "\n",
    "display(HTML(\"<div class='figure-note'>Measured attenuation grows with harmonic order (≈ −20 dB/decade). \"\n",
    "             \"The theoretical Δ is 20·log10|H(j·2π·n·F0)| and agrees well with the data.</div>\"))\n",
    "\n",
    "# --- 4.4.3 Frequency response (FFT) ---\n",
    "display(HTML(\"<div class='pagebreak'></div>\"))\n",
    "display(HTML(\"<div class='keep-with-next nobreak'><b>FFT results at 1 kHz, 10 kHz, and 100 kHz:</b> \"\n",
    "             \"higher frequencies are reduced more by the RC filter.</div>\"))\n",
    "\n",
    "IMG_WIDTH = 360\n",
    "for cap, path in [\n",
    "    (\"Fig. 5. RC near 1 kHz (FFT)\",   \"rc_fft_1khz.png\"),\n",
    "    (\"Fig. 6. RC near 10 kHz (FFT)\",  \"rc_fft_10khz.png\"),\n",
    "    (\"Fig. 7. RC near 100 kHz (FFT)\", \"rc_fft_100khz.png\"),\n",
    "]:\n",
    "    try:\n",
    "        display(Image(filename=path, embed=True, width=IMG_WIDTH))\n",
    "        caption(cap)\n",
    "    except Exception as e:\n",
    "        display(HTML(f\"<div style='color:#c00'>Missing image: {path} ({e})</div>\"))\n",
    "\n",
    "display(HTML(\"<div class='figure-note'>At 10 kHz (≈5× the cutoff) the fundamental has dropped by >10 dB and most harmonics are gone. \"\n",
    "             \"At 100 kHz (≈50× the cutoff) the spectrum is near the noise floor. \"\n",
    "             \"This matches the expected −20 dB/decade behavior.</div>\"))\n",
    "\n",
    "# --- 4.4.4 Time-domain snapshots ---\n",
    "display(HTML(\"<div class='pagebreak'></div>\"))\n",
    "display(HTML(\"<div class='keep-with-next nobreak'><b>Time-domain snapshots at 1 kHz, 10 kHz, and 100 kHz:</b> \"\n",
    "             \"as more harmonics are filtered out, the waveform becomes smoother.</div>\"))\n",
    "\n",
    "for cap, path in [\n",
    "    (\"Fig. 8. 1 kHz time-domain (RC output)\",    \"rc_signal.png\"),\n",
    "    (\"Fig. 9. 10 kHz time-domain (RC output)\",   \"rc_10khz.png\"),\n",
    "    (\"Fig. 10. 100 kHz time-domain (RC output)\", \"rc_100khz.png\"),\n",
    "]:\n",
    "    try:\n",
    "        display(Image(filename=path, embed=True, width=IMG_WIDTH))\n",
    "        caption(cap)\n",
    "    except Exception as e:\n",
    "        display(HTML(f\"<div style='color:#c00'>Missing image: {path} ({e})</div>\"))\n",
    "\n",
    "display(HTML(\"<div class='figure-note keep-with-next nobreak'>\"\n",
    "             \"At 1 kHz the sawtooth is still visible with rounded edges. \"\n",
    "             \"At 10 kHz the output is close to a sine. \"\n",
    "             \"At 100 kHz the output is almost flat. \"\n",
    "             \"These changes agree with the FFT results and confirm the expected low-pass behavior.</div>\"))\n"
   ]
  },
  {
   "cell_type": "markdown",
   "id": "discussion",
   "metadata": {},
   "source": [
    "<div class=\"pagebreak\"></div>\n",
    "\n",
    "## Discussion\n",
    "\n",
    "### Sawtooth, Triangle, and Sine (Sections 4.1–4.3)  \n",
    "The measurements matched the main predictions from Fourier theory:\n",
    "\n",
    "- **Sawtooth:** All harmonics were present and went down about as \\(1/n\\). Both Keysight and RND followed this trend, but higher orders were weaker due to FFT limits and generator limits. The dBc plots made the slope easy to see.  \n",
    "\n",
    "- **Triangle:** Only odd harmonics appeared and went down close to \\(1/n^2\\). Even harmonics stayed near the noise floor. Higher orders fell a bit faster than theory, showing extra attenuation.  \n",
    "\n",
    "- **Sine:** Only the fundamental was seen. Higher harmonics were at the noise floor, with a few small peaks from FFT leakage. This shows low distortion for both sources.  \n",
    "\n",
    "### RC Filter (Section 4.4)  \n",
    "The RC circuit worked as a first-order low-pass:\n",
    "\n",
    "- The cutoff was about 2 kHz and matched the calculated value.  \n",
    "- Harmonics dropped by ≈ −20 dB per decade.  \n",
    "- Time-domain plots showed smoother waveforms.  \n",
    "- Small errors came from normal tolerances, extra capacitance, FFT limits, and the Hann window.  \n",
    "\n",
    "### Source Comparison (Sections 4.1–4.4)  \n",
    "The two generators showed small but clear differences:\n",
    "\n",
    "- **Before RC:** RND matched theory more closely; Keysight deviated more.  \n",
    "- **After RC:** Keysight moved closer to theory; RND fell below it at higher harmonics.  \n",
    "\n",
    "This is because Keysight produced extra high-order content that the RC filter removed, while RND already made a cleaner sawtooth, so filtering reduced its higher harmonics more. Cable effects and FFT bin alignment also caused small shifts.  \n",
    "\n",
    "### Summary  \n",
    "Theory and measurement agreed within a few dB. Each waveform showed the expected harmonic pattern, and the RC filter followed the −20 dB/decade model. The small differences between Keysight and RND explain most of the remaining gaps. The lab showed that Fourier series and RC filter theory describe the measured spectra well in practice.\n"
   ]
  },
  {
   "cell_type": "markdown",
   "id": "conclusion",
   "metadata": {},
   "source": [
    "<div class=\"pagebreak\"></div>\n",
    "\n",
    "## Conclusions\n",
    "\n",
    "The laboratory work confirmed the main predictions from Fourier theory and the expected behavior of a first-order RC filter.\n",
    "\n",
    "**Key findings:**  \n",
    "- Harmonic amplitudes decayed as theory predicts: \\(1/n\\) for the sawtooth, \\(1/n^2\\) for the triangle, and only the fundamental for the sine.  \n",
    "- The RC filter introduced a roll-off of about −20 dB/decade beyond the cutoff frequency (~2 kHz), consistent with the calculated value.  \n",
    "- Both signal sources produced nearly identical fundamentals. The RND generator retained stronger higher-order harmonics, while the Keysight source produced smoother signals.  \n",
    "- Deviations of only a few dB arose from normal limitations: FFT resolution, windowing effects, generator design, and component tolerances.  \n",
    "- Using the oscilloscope FFT together with Python analysis proved reliable for extracting harmonics and comparing with theory.  \n",
    "\n",
    "**Conclusion:**  \n",
    "Fourier series and RC filter theory described the measured spectra very well under laboratory conditions. The small differences observed were consistent with expected measurement uncertainties rather than flaws in the theory.\n",
    "\n",
    "<div class=\"pagebreak\"></div>\n"
   ]
  },
  {
   "cell_type": "markdown",
   "id": "references",
   "metadata": {},
   "source": [
    "## References\n",
    "\n",
    "[1] H. Hallenberg, *Signalbehandling och kommunikationssystem*. Göteborg, Sweden: Yrgo, 2021.  \n",
    "\n",
    "[2] Yrgo, *ELA24 – Laboration: Frekvensanalys (Lab PM)*. Göteborg, Sweden: Yrgo, 2025.  \n",
    "\n",
    "[3] Yrgo, *ELA24 – Ledning Fourierlabben*. Göteborg, Sweden: Yrgo, 2025.  \n",
    "\n",
    "[4] Keysight Technologies, *InfiniiVision 1000-X Series Oscilloscopes User’s Guide: FFT Spectral Analysis (dBVrms)*. [Online]. Available: https://www.ece.ucdavis.edu/~lewis/112/scope_user_guide.pdf. [Accessed: Sep. 19, 2025].\n",
    "\n",
    "[5] Wikipedia, \"Low-pass filter – RC filter.\" [Online]. Available: https://en.wikipedia.org/wiki/Low-pass_filter. [Accessed: Sep. 19, 2025].  \n",
    "\n",
    "[6] Keysight Technologies, *InfiniiVision 1000-X Series Oscilloscopes User’s Guide (FFT scaling, window functions)*. Keysight Technologies, 2019. [Online]. Available: https://www.ece.ucdavis.edu/~lewis/112/scope_user_guide.pdf. [Accessed: Sep. 19, 2025].  \n",
    "\n",
    "[7] Keysight Technologies, *BenchVue Software (BV0000A) Technical Overview*, Document No. 5991-3850EN. [Online]. Available: https://www.keysight.com/us/en/assets/7018-04245/technical-overviews/5991-3850.pdf. [Accessed: Sep. 19, 2025].\n",
    " \n",
    "\n",
    "[8] RND Lab, *Function Generator Datasheet, RND 360-00002*. RND Lab, 2020. [Online]. Available: https://media.distrelec.com/Web/Downloads/_t/ds/RND_360-00002_eng_tds.pdf. [Accessed: Sep. 19, 2025].  \n",
    "\n",
    "[9] RND Lab, *Function Generator Quick Guide, RND 360-00002*. RND Lab, 2020. [Online]. Available: https://www.elfa.se/en/arbitrary-waveform-generator-2x-35mhz-de-fr-type-cee-plug-rnd-rnd-360-00002/p/30219801. [Accessed: Sep. 19, 2025].  \n",
    "\n",
    "\n",
    "<div class=\"pagebreak\"></div>"
   ]
  },
  {
   "cell_type": "markdown",
   "id": "3a382cdd",
   "metadata": {},
   "source": [
    "## Appendix A: Figures\n",
    "\n",
    "Appendix A contains oscilloscope screenshots of input and RC‑filtered signals.\n",
    "\n",
    "### Time-domain waveforms (Input signals)\n",
    "\n",
    "<div class=\"keep-together\" style=\"display:flex; flex-wrap:wrap; gap:16px; align-items:flex-start; margin:0.3em 0 1.2em 0;\">\n",
    "  <div style=\"flex:1 1 30%\"><div class=\"caption\" style=\"margin:0.35em 0\">Fig. A1. Sawtooth input (time domain)</div><img src=\"saw_signal.png\" alt=\"Fig. A1. Sawtooth input\" width=\"320\"/></div>\n",
    "  <div style=\"flex:1 1 30%\"><div class=\"caption\" style=\"margin:0.35em 0\">Fig. A2. Triangle input (time domain)</div><img src=\"triangle_signal.png\" alt=\"Fig. A2. Triangle input\" width=\"320\"/></div>\n",
    "  <div style=\"flex:1 1 30%\"><div class=\"caption\" style=\"margin:0.35em 0\">Fig. A3. Sine input (time domain)</div><img src=\"sine_signal.png\" alt=\"Fig. A3. Sine input\" width=\"320\"/></div>\n",
    "</div>\n",
    "\n",
    "### FFT spectra (Measured)\n",
    "\n",
    "<div class=\"keep-together\" style=\"display:flex; flex-wrap:wrap; gap:16px; align-items:flex-start; margin:0.3em 0 1.2em 0;\">\n",
    "  <div style=\"flex:1 1 30%\"><div class=\"caption\" style=\"margin:0.35em 0\">Fig. A4. Sawtooth input (FFT)</div><img src=\"saw_fft.png\" alt=\"Fig. A4. Sawtooth FFT\" width=\"320\"/></div>\n",
    "  <div style=\"flex:1 1 30%\"><div class=\"caption\" style=\"margin:0.35em 0\">Fig. A5. Triangle input (FFT)</div><img src=\"triangle_fft.png\" alt=\"Fig. A5. Triangle FFT\" width=\"320\"/></div>\n",
    "  <div style=\"flex:1 1 30%\"><div class=\"caption\" style=\"margin:0.35em 0\">Fig. A6. Sine input (FFT)</div><img src=\"sine_fft.png\" alt=\"Fig. A6. Sine FFT\" width=\"320\"/></div>\n",
    "</div>\n",
    "\n",
    "> Note: If an image fails to render in exported PDF, ensure the files are alongside the notebook, or rely on embedded display outputs in the main RC section.\n",
    "<div class=\"pagebreak\"></div>"
   ]
  },
  {
   "cell_type": "markdown",
   "id": "e2b78a2e",
   "metadata": {},
   "source": [
    "## Appendix B: Python math used\n",
    "\n",
    "The minimal Python used to compute theoretical quantities referenced in the Results is included below for completeness.\n",
    "\n",
    "```python\n",
    "# Core helpers (theory + CSV parsing + plotting) moved here for completeness\n",
    "# ---- Parameters (match main analysis) ----\n",
    "F0      = 1000.0          # [Hz] fundamental\n",
    "VPP     = 5.0             # [Vpp] generator-level for theory\n",
    "A       = VPP/2.0         # [Vpeak]\n",
    "N_HARM  = 10              # compare first N harmonics\n",
    "R_meas, C_meas = 8140.0, 9.853e-9\n",
    "FC      = 1.0/(2*np.pi*R_meas*C_meas)\n",
    "\n",
    "def vrms_to_dBVrms(vrms, floor=1e-12):\n",
    "    v = np.maximum(np.asarray(vrms, float), floor)\n",
    "    return 20.0*np.log10(v)\n",
    "\n",
    "\n",
    "def rc_mag(f, fc=FC):\n",
    "    f = np.asarray(f, float)\n",
    "    return 1.0/np.sqrt(1.0 + (f/fc)**2)\n",
    "\n",
    "\n",
    "def sawtooth_dBVrms(n, A=A):\n",
    "    n = np.asarray(n, int)\n",
    "    vpk = 2.0*A/(np.pi*np.maximum(n,1))\n",
    "    vrms = vpk/np.sqrt(2.0)\n",
    "    return vrms_to_dBVrms(vrms)\n",
    "\n",
    "\n",
    "def triangle_dBVrms(n, A=A):\n",
    "    n = np.asarray(n, int)\n",
    "    vrms = np.zeros_like(n, float)\n",
    "    odd = (n % 2 == 1)\n",
    "    vpk_odd = 8.0*A/(np.pi**2 * np.maximum(n[odd],1)**2)\n",
    "    vrms[odd] = vpk_odd/np.sqrt(2.0)\n",
    "    dB = vrms_to_dBVrms(vrms)\n",
    "    dB[~odd] = np.nan\n",
    "    return dB\n",
    "\n",
    "\n",
    "def sine_dBVrms(n, A=A):\n",
    "    n = np.asarray(n, int)\n",
    "    vrms = np.zeros_like(n, float)\n",
    "    vrms[n == 1] = A/np.sqrt(2.0)\n",
    "    dB = vrms_to_dBVrms(vrms)\n",
    "    dB[n != 1] = np.nan\n",
    "    return dB\n",
    "```"
   ]
  }
 ],
 "metadata": {
  "kernelspec": {
   "display_name": ".venv",
   "language": "python",
   "name": "python3"
  },
  "language_info": {
   "codemirror_mode": {
    "name": "ipython",
    "version": 3
   },
   "file_extension": ".py",
   "mimetype": "text/x-python",
   "name": "python",
   "nbconvert_exporter": "python",
   "pygments_lexer": "ipython3",
   "version": "3.11.9"
  }
 },
 "nbformat": 4,
 "nbformat_minor": 5
}
