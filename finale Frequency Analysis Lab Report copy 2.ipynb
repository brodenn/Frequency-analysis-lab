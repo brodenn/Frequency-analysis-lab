{
 "cells": [
  {
   "cell_type": "markdown",
   "id": "072d9b58",
   "metadata": {},
   "source": [
    "<style>\n",
    "/***** Global layout + Header/Footer (enhanced clearance) *****/\n",
    ":root { --header-height: 72px; --header-bg:#ffffff; --footer-height:30px; }\n",
    ":root { --header-gap: 20px; } /* Extra gap so no heading crowds header */\n",
    "body { margin:0; padding-top: calc(var(--header-height) + var(--header-gap)); margin-bottom: var(--footer-height); }\n",
    ".jp-Notebook, .notebook-app, .lab-app { padding-top: calc(var(--header-height) + var(--header-gap)); }\n",
    ".print-header { position: fixed; top:0; left:0; right:0; height: var(--header-height); display:flex; align-items:center; justify-content:space-between; padding:10px 18px 8px 16px; box-sizing:border-box; background:var(--header-bg); font-size:0.85em; z-index:999; }\n",
    ".print-header .logo-wrap { display:flex; align-items:center; gap:12px; }\n",
    ".print-header img.logo { height:34px; width:auto; object-fit:contain; display:block; }\n",
    ".print-header .report-title { font-weight:600; letter-spacing:0.4px; font-size:1.0em; line-height:1.15; }\n",
    ".print-footer { position: fixed; left:0; right:0; bottom:0; height: var(--footer-height); display:flex; align-items:center; justify-content:center; font-size:0.7em; color:#444; background:#fff; z-index:998; }\n",
    ".first-page .print-header, .first-page .print-footer { display:none; }\n",
    "@media print {\n",
    "  body { margin:0; padding-top: calc(var(--header-height) + var(--header-gap)); margin-bottom: var(--footer-height); }\n",
    "  .jp-Notebook, .notebook-app, .lab-app { padding-top: calc(var(--header-height) + var(--header-gap)); }\n",
    "  .print-header, .print-footer { position: fixed; }\n",
    "  .first-page .print-header, .first-page .print-footer { display:none !important; }\n",
    "  .print-footer:after { content: \"Page \" counter(page) \" of \" counter(pages); }\n",
    "}\n",
    "\n",
    "/***** Headings visibility & protection *****/\n",
    "h1, h2, h3, h4 { position:relative; z-index:1; margin-top:0.2em; }\n",
    "@media print { h1, h2, h3, h4 { page-break-after: avoid; break-after: avoid; } }\n",
    "/* Keep heading with first block (paragraph/table/figure) */\n",
    ".keep-with-next, h1 + p, h2 + p, h3 + p, h4 + p, h2 + .keep-together, h3 + .keep-together { page-break-after: avoid; }\n",
    ".nobreak, .keep-together { break-inside: avoid; page-break-inside: avoid; }\n",
    "\n",
    "/***** Page break helper (manual control) *****/\n",
    "@media print { .pagebreak { page-break-before: always; break-before: page; } }\n",
    ".pagebreak { margin:0; border:0; height:0; }\n",
    "\n",
    "/***** Output spacing after breaks *****/\n",
    "@media print {\n",
    "  .pagebreak + h1, .pagebreak + h2, .pagebreak + h3, .pagebreak + h4 { margin-top:0; }\n",
    "  .pagebreak + .jp-CodeCell, .pagebreak + .jp-Cell, .pagebreak + .output_wrapper { margin-top:0.25em; }\n",
    "}\n",
    "\n",
    "/***** Captions & notes *****/\n",
    ".caption { font-weight:600; font-size:0.85em; }\n",
    ".figure-note { font-size:0.85em; }\n",
    ".small { font-size:0.85em; }\n",
    "\n",
    "/***** Hide ONLY code inputs (not headings) in print *****/\n",
    "@media print {\n",
    "  .jp-CodeCell .jp-Cell-inputWrapper,\n",
    "  .cell.code_cell .input,\n",
    "  .jp-InputPrompt, .prompt { display:none !important; }\n",
    "  figure, table, img, .figure-block, .table-block, .caption, .figure-note { break-inside: avoid; page-break-inside: avoid; }\n",
    "  img { max-width:100% !important; height:auto !important; }\n",
    "}\n",
    "</style>"
   ]
  },
  {
   "cell_type": "code",
   "execution_count": 71,
   "id": "bb3ca220",
   "metadata": {},
   "outputs": [],
   "source": [
    "# Hide warnings globally (keep output clean)\n",
    "import warnings\n",
    "warnings.filterwarnings(\"ignore\")\n",
    "warnings.filterwarnings(\"ignore\", category=FutureWarning)\n"
   ]
  },
  {
   "cell_type": "markdown",
   "id": "0f1b0cae",
   "metadata": {},
   "source": [
    "# Laboration – Frekvensanalys\n",
    "\n",
    "Author: Your Name  \n",
    "Supervisor: Erik Jagre  \n",
    "Lab date: YYYY-MM-DD  \n",
    "Report date: YYYY-MM-DD  \n",
    "\n",
    "<div class=\"pagebreak\"></div>"
   ]
  },
  {
   "cell_type": "markdown",
   "id": "a24398bd",
   "metadata": {},
   "source": [
    "## Abstract\n",
    "\n",
    "This lab investigated Fourier analysis of periodic waveforms and the effect of a first-order RC low-pass filter. Sawtooth, triangle, and sine signals were generated, analyzed with the oscilloscope FFT, and compared against theoretical Fourier coefficients. The measurements confirmed the expected harmonic patterns: \\(1/n\\) decay for sawtooth, \\(1/n^2\\) decay for triangle, and only the fundamental for sine. The RC filter introduced the predicted ≈ −20 dB/decade attenuation, reducing higher harmonics and producing smoother time-domain signals.  \n",
    "\n",
    "Minor deviations of a few dB were attributed to FFT windowing, limited frequency resolution, generator characteristics, and component tolerances. The combined use of oscilloscope FFT and Python post-processing proved effective for quantitative harmonic extraction and for validating theoretical predictions under real measurement conditions.  \n",
    "\n",
    "<div class=\"pagebreak\"></div>\n"
   ]
  },
  {
   "cell_type": "markdown",
   "id": "b76d4af3",
   "metadata": {},
   "source": [
    "## Table of Contents\n",
    "\n",
    "This report is structured as follows (page numbers refer to the exported PDF):\n",
    "\n",
    "1. Introduction  \n",
    "2. Theory  \n",
    "3. Experiment  \n",
    "4. Results  \n",
    "   4.1 Sawtooth  \n",
    "   4.2 Triangle  \n",
    "   4.3 Sine  \n",
    "   4.4 RC filter  \n",
    "5. Discussion  \n",
    "6. Conclusions  \n",
    "7. References  \n",
    "8. Appendix A — Figures  \n",
    "9. Appendix B — Code  \n",
    "\n",
    "**Numbering note:** Figures are numbered sequentially in the main text (Fig. 1–10).  \n",
    "Tables are numbered in order of appearance:  \n",
    "- Table 1 — Method validation  \n",
    "- Table 2a–2b — Sawtooth results  \n",
    "- Table 3a–3b — Triangle results  \n",
    "- Table 4a–4b — Sine results  \n",
    "- Table 5 — RC filter results  \n",
    "\n",
    "<div class=\"pagebreak\"></div>\n"
   ]
  },
  {
   "cell_type": "markdown",
   "id": "intro",
   "metadata": {},
   "source": [
    "## Introduction\n",
    "\n",
    "The Fourier series is a fundamental tool in electronics, allowing periodic signals to be represented as sums of sinusoids. This makes it possible to analyze signal behavior in the frequency domain, where effects such as bandwidth limitations, distortion, and noise become clearer.  \n",
    "\n",
    "Fourier analysis is central to many practical systems, including filters and communication links, where accurate frequency-domain models are necessary to predict performance.  \n",
    "\n",
    "The purpose of this lab is to compare theoretical Fourier spectra of basic waveforms with experimental measurements and to investigate how a first-order RC low-pass filter shapes the harmonic content of signals.  \n"
   ]
  },
  {
   "cell_type": "markdown",
   "id": "4a579535",
   "metadata": {},
   "source": [
    "<div class=\"pagebreak\"></div>\n",
    "\n",
    "## Theory\n",
    "\n",
    "The Fourier series coefficients used later in the results are listed below. Each equation includes a short label and one-sentence interpretation.\n",
    "\n",
    "- Eq. (1): Sawtooth harmonics (all harmonics)\n",
    "\n",
    "  $$A_n = \\dfrac{2A}{\\pi n},\\; n\\ge 1$$\n",
    "\n",
    "  Sawtooth contains all harmonics with amplitudes decreasing approximately as 1/n.\n",
    "\n",
    "- Eq. (2): Triangle harmonics (odd only)\n",
    "\n",
    "  $$A_n = \\dfrac{8A}{\\pi^2 n^2},\\; n=1,3,5,\\dots$$\n",
    "\n",
    "  Triangle contains only odd harmonics with amplitudes decreasing approximately as 1/n^2.\n",
    "\n",
    "- Eq. (3): Sine harmonic content\n",
    "\n",
    "  $$A_1 = A,\\; A_{n>1}=0$$\n",
    "\n",
    "  An ideal sine contains only the fundamental.\n",
    "\n",
    "- Eq. (4): RMS and dBV conversion\n",
    "\n",
    "  $$V_{\\mathrm{rms}} = \\dfrac{V_{\\mathrm{peak}}}{\\sqrt{2}},\\qquad \\mathrm{dBV} = 20\\log_{10}\\!\\left(\\dfrac{V_{\\mathrm{rms}}}{1\\,\\mathrm{V}}\\right)$$\n",
    "\n",
    "  These relations convert peak values to RMS and express amplitudes on a dBVrms scale.\n",
    "\n",
    "- Eq. (5): RC low-pass transfer function and cutoff\n",
    "\n",
    "  $$|H(f)| = \\dfrac{1}{\\sqrt{1 + (f/f_c)^2}},\\qquad \\angle H(f) = -\\arctan(f/f_c),\\qquad f_c = \\dfrac{1}{2\\pi RC}$$\n",
    "\n",
    "  The RC filter attenuates higher frequencies; above the cutoff, magnitude falls with roughly −20 dB/decade.\n",
    "\n",
    "<div class=\"keep-with-next nobreak\">Sources for formulas and lab guidance: [1]–[3].</div>\n",
    "<div class=\"pagebreak\"></div>"
   ]
  },
  {
   "cell_type": "code",
   "execution_count": 72,
   "id": "78aa2f4a",
   "metadata": {},
   "outputs": [],
   "source": [
    "# === CORE MATH: Fourier + RC (single source of truth) ===\n",
    "import numpy as np\n",
    "import pandas as pd\n",
    "\n",
    "# ----- Lab constants (edit once here) -----\n",
    "F0 = 1000.0              # fundamental [Hz]\n",
    "# Drive level: either set VPP directly OR infer it from a measured fundamental in dBVrms\n",
    "VPP_SCOPE = 5.0          # Vpp seen on scope time trace (set to your actual)\n",
    "A_PEAK    = VPP_SCOPE/2  # Vpeak used in Fourier formulas\n",
    "\n",
    "# Measured RC (use measured everywhere for consistency)\n",
    "R_MEAS = 8140.0          # Ohm\n",
    "C_MEAS = 9.853e-9        # F\n",
    "FC_MEAS = 1.0/(2*np.pi*R_MEAS*C_MEAS)\n",
    "\n",
    "# ---------- Helpers ----------\n",
    "def vrms_to_dBVrms(vrms, floor=1e-12):\n",
    "    v = np.maximum(np.asarray(vrms, float), floor)\n",
    "    return 20*np.log10(v)\n",
    "\n",
    "def rc_mag(f, fc=FC_MEAS):\n",
    "    f = np.asarray(f, float)\n",
    "    return 1.0/np.sqrt(1.0 + (f/fc)**2)\n",
    "\n",
    "# ---------- Fourier peak -> Vrms -> dBVrms ----------\n",
    "def saw_vpk(n, A=A_PEAK):\n",
    "    n = np.asarray(n, int)\n",
    "    return 2.0*A/(np.pi*np.maximum(n, 1))                 # all n\n",
    "\n",
    "def tri_vpk(n, A=A_PEAK):\n",
    "    n = np.asarray(n, int)\n",
    "    out = np.zeros_like(n, float)\n",
    "    odd = (n % 2 == 1)\n",
    "    out[odd] = 8.0*A/(np.pi**2 * np.maximum(n[odd], 1)**2) # odd only\n",
    "    return out                                             # even -> 0\n",
    "\n",
    "def sin_vpk(n, A=A_PEAK):\n",
    "    n = np.asarray(n, int)\n",
    "    return (n == 1).astype(float)*A                        # only n=1\n",
    "\n",
    "def vpk_to_dBVrms(vpk):\n",
    "    vrms = np.asarray(vpk, float)/np.sqrt(2.0)\n",
    "    return vrms_to_dBVrms(vrms)\n",
    "\n",
    "def saw_dBVrms(n, A=A_PEAK): return vpk_to_dBVrms(saw_vpk(n, A))\n",
    "def tri_dBVrms(n, A=A_PEAK): return vpk_to_dBVrms(tri_vpk(n, A))\n",
    "def sin_dBVrms(n, A=A_PEAK): return vpk_to_dBVrms(sin_vpk(n, A))\n",
    "\n",
    "def fourier_dBVrms(waveform, n, A=A_PEAK):\n",
    "    wf = waveform.lower()\n",
    "    if wf == 'saw': return saw_dBVrms(n, A)\n",
    "    if wf == 'tri': return tri_dBVrms(n, A)\n",
    "    if wf == 'sin': return sin_dBVrms(n, A)\n",
    "    raise ValueError(\"waveform must be 'saw'|'tri'|'sin'\")\n",
    "\n",
    "def fourier_times_rc_dBVrms(waveform, n, A=A_PEAK, f0=F0):\n",
    "    # 20*log10( |Fourier| * |H| ) = dBV_fourier + 20*log10|H|\n",
    "    return fourier_dBVrms(waveform, n, A) + vrms_to_dBVrms(rc_mag(np.asarray(n)*f0))\n",
    "\n",
    "# ---------- Utility: harmonics picker from spectrum ----------\n",
    "def pick_harmonics_from_spectrum(spec_df, f0=F0, n_max=10, col='dBVrms'):\n",
    "    f = spec_df['freq'].values\n",
    "    y = spec_df[col].values\n",
    "    n_all = np.arange(1, n_max+1); targets = n_all*f0\n",
    "    ok = (targets >= f.min()) & (targets <= f.max())\n",
    "    n = n_all[ok]; t = targets[ok]\n",
    "    idx = np.searchsorted(f, t); idx = np.clip(idx, 1, len(f)-1)\n",
    "    choose = np.where(np.abs(f[idx]-t) < np.abs(f[idx-1]-t), idx, idx-1)\n",
    "    return pd.DataFrame({'n': n, 'freq_bin': f[choose], col: y[choose]})\n",
    "\n",
    "# ---------- Optional: infer Vpp from a measured fundamental in dBVrms ----------\n",
    "def infer_vpp_from_dBV_fund(dBV_fund):\n",
    "    Vrms = 10**(dBV_fund/20.0)\n",
    "    Vpk  = Vrms*np.sqrt(2.0)\n",
    "    return 2.0*Vpk  # Vpp\n"
   ]
  },
  {
   "cell_type": "markdown",
   "id": "setup",
   "metadata": {},
   "source": [
    "## Experiment\n",
    "\n",
    "### Equipment\n",
    "- Keysight DSOX1204G oscilloscope (FFT function and built-in AWG)  \n",
    "- RND Lab Function Generator, model RND 360-00002 (500 MSa/s, 14-bit resolution, 35 MHz bandwidth) [8][9]  \n",
    "- Resistor: nominal 8.2 kΩ, measured 8.140 kΩ (Fluke 155)  \n",
    "- Capacitor: nominal 10 nF, measured 9.853 nF (Agilent U1731C)  \n",
    "- Multimeter: Fluke 155  \n",
    "- LCR meter: Agilent U1731C  \n",
    "- Software: Python (NumPy, Pandas, Matplotlib)\n",
    "\n",
    "### Procedure\n",
    "1. Configure the signal sources for 1 kHz, 5 Vpp. Select sawtooth, triangle, and sine waveforms.  \n",
    "   - Signals were generated both with the Keysight oscilloscope’s built-in AWG and with the external RND Lab function generator for comparison.  \n",
    "2. Record FFT spectra with approximately 20,000 points per trace to achieve fine frequency resolution.  \n",
    "3. Export FFT data using Keysight BenchVue [7]. The oscilloscope FFT reports amplitudes in **Vrms** (with a Hann window applied by default [6]); these values were converted to **dBVrms** in Python for analysis and comparison.  \n",
    "4. Extract harmonics \\(n = 1 \\dots 10\\) at integer multiples of 1 kHz.  \n",
    "5. Compare measured spectra against theoretical Fourier coefficients. For the RC case, apply the transfer function \\(|H(f)|\\).  \n",
    "6. Capture time-domain screenshots of both input and RC-filtered signals for reference.  \n",
    "\n",
    "*Note:* Results are presented in both **dBVrms** (absolute amplitude, referenced to 1 Vrms) and **dBc** (relative to the fundamental). Using dBc removes differences in absolute scaling between sources and highlights the expected harmonic decay patterns, making it easier to compare with Fourier theory.  \n",
    "\n",
    "### Calculations and Validation\n",
    "\n",
    "Before analyzing the measured spectra, two preliminary calculations were carried out to establish a baseline:\n",
    "\n",
    "1. **RC cutoff frequency:**  \n",
    "   Using the measured component values, the cutoff frequency was calculated as  \n",
    "\n",
    "   $$\n",
    "   f_c = \\frac{1}{2\\pi RC} \\approx 1984~\\text{Hz}, \n",
    "   \\quad R = 8140~\\Omega,\\; C = 9.853~\\text{nF}.\n",
    "   $$\n",
    "\n",
    "2. **Fourier coefficients:**  \n",
    "   Harmonic amplitudes for sawtooth and triangle signals were computed both manually and with Python.  \n",
    "   The two approaches gave identical results within rounding error, confirming the correctness of the implementation.  \n",
    "\n",
    "Table 1 summarizes the Fourier coefficient validation and shows agreement between manual and Python calculations.  \n"
   ]
  },
  {
   "cell_type": "code",
   "execution_count": 73,
   "id": "fd9357b3",
   "metadata": {},
   "outputs": [
    {
     "data": {
      "text/html": [
       "<div><b>Calculated cutoff frequency (measured R,C)</b>: f<sub>c</sub> ≈ 1984.39 Hz (R=8140 Ω, C=9.853 nF)</div>"
      ],
      "text/plain": [
       "<IPython.core.display.HTML object>"
      ]
     },
     "metadata": {},
     "output_type": "display_data"
    }
   ],
   "source": [
    "# Compute cutoff using measured R and C values (for reference)\n",
    "import numpy as np\n",
    "R_meas = 8140.0        # ohms (Fluke 155)\n",
    "C_meas = 9.853e-9      # farads (Agilent U1731C)\n",
    "fc_meas = 1.0/(2*np.pi*R_meas*C_meas)\n",
    "from IPython.display import display, HTML\n",
    "\n",
    "# Display only a concise numeric result suitable for the report\n",
    "display(HTML(f\"<div><b>Calculated cutoff frequency (measured R,C)</b>: f<sub>c</sub> ≈ {fc_meas:.2f} Hz (R={R_meas:.0f} Ω, C={C_meas*1e9:.3f} nF)</div>\"))"
   ]
  },
  {
   "cell_type": "markdown",
   "id": "b7f38b2d",
   "metadata": {},
   "source": [
    "<!-- Moved to Appendix B: Manual calculations vs Python (cross-check) -->"
   ]
  },
  {
   "cell_type": "code",
   "execution_count": 74,
   "id": "aa2d3a18",
   "metadata": {},
   "outputs": [
    {
     "data": {
      "text/html": [
       "<div class='figure-note keep-with-next nobreak'>Table 1 shows good agreement between manual Fourier calculations and Python, confirming the method.</div>"
      ],
      "text/plain": [
       "<IPython.core.display.HTML object>"
      ]
     },
     "metadata": {},
     "output_type": "display_data"
    },
    {
     "data": {
      "text/html": [
       "<div style='font-weight:600' class='caption'>Table 1. Manual calculations vs Python theory (rounded to 2 decimals)</div>"
      ],
      "text/plain": [
       "<IPython.core.display.HTML object>"
      ]
     },
     "metadata": {},
     "output_type": "display_data"
    },
    {
     "data": {
      "text/html": [
       "<div>\n",
       "<style scoped>\n",
       "    .dataframe tbody tr th:only-of-type {\n",
       "        vertical-align: middle;\n",
       "    }\n",
       "\n",
       "    .dataframe tbody tr th {\n",
       "        vertical-align: top;\n",
       "    }\n",
       "\n",
       "    .dataframe thead th {\n",
       "        text-align: right;\n",
       "    }\n",
       "</style>\n",
       "<table border=\"1\" class=\"dataframe\">\n",
       "  <thead>\n",
       "    <tr style=\"text-align: right;\">\n",
       "      <th></th>\n",
       "      <th>n</th>\n",
       "      <th>saw_dBV_manual</th>\n",
       "      <th>saw_dBV_python</th>\n",
       "      <th>Δ_saw_dB</th>\n",
       "      <th>tri_dBV_manual</th>\n",
       "      <th>tri_dBV_python</th>\n",
       "      <th>Δ_tri_dB</th>\n",
       "      <th>rc_mag_manual</th>\n",
       "      <th>rc_mag_python</th>\n",
       "      <th>Δ_rc_mag</th>\n",
       "      <th>rc_dB_manual</th>\n",
       "      <th>rc_dB_python</th>\n",
       "      <th>Δ_rc_dB</th>\n",
       "    </tr>\n",
       "  </thead>\n",
       "  <tbody>\n",
       "    <tr>\n",
       "      <th>0</th>\n",
       "      <td>1</td>\n",
       "      <td>1.02</td>\n",
       "      <td>1.03</td>\n",
       "      <td>0.01</td>\n",
       "      <td>3.12</td>\n",
       "      <td>3.12</td>\n",
       "      <td>0.00</td>\n",
       "      <td>0.89</td>\n",
       "      <td>0.89</td>\n",
       "      <td>0.00</td>\n",
       "      <td>-1.01</td>\n",
       "      <td>-0.98</td>\n",
       "      <td>0.03</td>\n",
       "    </tr>\n",
       "    <tr>\n",
       "      <th>1</th>\n",
       "      <td>2</td>\n",
       "      <td>-4.95</td>\n",
       "      <td>-4.99</td>\n",
       "      <td>-0.05</td>\n",
       "      <td>0.00</td>\n",
       "      <td>-240.00</td>\n",
       "      <td>-240.00</td>\n",
       "      <td>0.70</td>\n",
       "      <td>0.70</td>\n",
       "      <td>0.00</td>\n",
       "      <td>-3.10</td>\n",
       "      <td>-3.04</td>\n",
       "      <td>0.06</td>\n",
       "    </tr>\n",
       "    <tr>\n",
       "      <th>2</th>\n",
       "      <td>3</td>\n",
       "      <td>-8.52</td>\n",
       "      <td>-8.52</td>\n",
       "      <td>0.01</td>\n",
       "      <td>-16.00</td>\n",
       "      <td>-15.96</td>\n",
       "      <td>0.04</td>\n",
       "      <td>0.54</td>\n",
       "      <td>0.55</td>\n",
       "      <td>0.01</td>\n",
       "      <td>-5.35</td>\n",
       "      <td>-5.17</td>\n",
       "      <td>0.18</td>\n",
       "    </tr>\n",
       "    <tr>\n",
       "      <th>3</th>\n",
       "      <td>4</td>\n",
       "      <td>-10.97</td>\n",
       "      <td>-11.02</td>\n",
       "      <td>-0.05</td>\n",
       "      <td>0.00</td>\n",
       "      <td>-240.00</td>\n",
       "      <td>-240.00</td>\n",
       "      <td>0.44</td>\n",
       "      <td>0.44</td>\n",
       "      <td>0.00</td>\n",
       "      <td>-7.13</td>\n",
       "      <td>-7.04</td>\n",
       "      <td>0.09</td>\n",
       "    </tr>\n",
       "    <tr>\n",
       "      <th>4</th>\n",
       "      <td>5</td>\n",
       "      <td>-12.91</td>\n",
       "      <td>-12.95</td>\n",
       "      <td>-0.05</td>\n",
       "      <td>-24.84</td>\n",
       "      <td>-24.83</td>\n",
       "      <td>0.01</td>\n",
       "      <td>0.36</td>\n",
       "      <td>0.37</td>\n",
       "      <td>0.01</td>\n",
       "      <td>-8.83</td>\n",
       "      <td>-8.66</td>\n",
       "      <td>0.17</td>\n",
       "    </tr>\n",
       "    <tr>\n",
       "      <th>5</th>\n",
       "      <td>6</td>\n",
       "      <td>-13.38</td>\n",
       "      <td>-14.54</td>\n",
       "      <td>-1.15</td>\n",
       "      <td>0.00</td>\n",
       "      <td>-240.00</td>\n",
       "      <td>-240.00</td>\n",
       "      <td>0.31</td>\n",
       "      <td>0.31</td>\n",
       "      <td>0.00</td>\n",
       "      <td>-10.17</td>\n",
       "      <td>-10.06</td>\n",
       "      <td>0.11</td>\n",
       "    </tr>\n",
       "    <tr>\n",
       "      <th>6</th>\n",
       "      <td>7</td>\n",
       "      <td>-15.78</td>\n",
       "      <td>-15.88</td>\n",
       "      <td>-0.10</td>\n",
       "      <td>-30.76</td>\n",
       "      <td>-30.68</td>\n",
       "      <td>0.08</td>\n",
       "      <td>0.27</td>\n",
       "      <td>0.27</td>\n",
       "      <td>0.00</td>\n",
       "      <td>-11.37</td>\n",
       "      <td>-11.29</td>\n",
       "      <td>0.08</td>\n",
       "    </tr>\n",
       "    <tr>\n",
       "      <th>7</th>\n",
       "      <td>8</td>\n",
       "      <td>-17.00</td>\n",
       "      <td>-17.04</td>\n",
       "      <td>-0.04</td>\n",
       "      <td>0.00</td>\n",
       "      <td>-240.00</td>\n",
       "      <td>-240.00</td>\n",
       "      <td>0.24</td>\n",
       "      <td>0.24</td>\n",
       "      <td>0.00</td>\n",
       "      <td>-12.40</td>\n",
       "      <td>-12.37</td>\n",
       "      <td>0.03</td>\n",
       "    </tr>\n",
       "    <tr>\n",
       "      <th>8</th>\n",
       "      <td>9</td>\n",
       "      <td>-18.00</td>\n",
       "      <td>-18.06</td>\n",
       "      <td>-0.06</td>\n",
       "      <td>-35.05</td>\n",
       "      <td>-35.05</td>\n",
       "      <td>0.01</td>\n",
       "      <td>0.21</td>\n",
       "      <td>0.22</td>\n",
       "      <td>0.01</td>\n",
       "      <td>-13.55</td>\n",
       "      <td>-13.34</td>\n",
       "      <td>0.21</td>\n",
       "    </tr>\n",
       "    <tr>\n",
       "      <th>9</th>\n",
       "      <td>10</td>\n",
       "      <td>-18.93</td>\n",
       "      <td>-18.97</td>\n",
       "      <td>-0.05</td>\n",
       "      <td>0.00</td>\n",
       "      <td>-240.00</td>\n",
       "      <td>-240.00</td>\n",
       "      <td>0.19</td>\n",
       "      <td>0.19</td>\n",
       "      <td>0.00</td>\n",
       "      <td>-14.42</td>\n",
       "      <td>-14.22</td>\n",
       "      <td>0.20</td>\n",
       "    </tr>\n",
       "  </tbody>\n",
       "</table>\n",
       "</div>"
      ],
      "text/plain": [
       "    n  saw_dBV_manual  saw_dBV_python  Δ_saw_dB  tri_dBV_manual  \\\n",
       "0   1            1.02            1.03      0.01            3.12   \n",
       "1   2           -4.95           -4.99     -0.05            0.00   \n",
       "2   3           -8.52           -8.52      0.01          -16.00   \n",
       "3   4          -10.97          -11.02     -0.05            0.00   \n",
       "4   5          -12.91          -12.95     -0.05          -24.84   \n",
       "5   6          -13.38          -14.54     -1.15            0.00   \n",
       "6   7          -15.78          -15.88     -0.10          -30.76   \n",
       "7   8          -17.00          -17.04     -0.04            0.00   \n",
       "8   9          -18.00          -18.06     -0.06          -35.05   \n",
       "9  10          -18.93          -18.97     -0.05            0.00   \n",
       "\n",
       "   tri_dBV_python  Δ_tri_dB  rc_mag_manual  rc_mag_python  Δ_rc_mag  \\\n",
       "0            3.12      0.00           0.89           0.89      0.00   \n",
       "1         -240.00   -240.00           0.70           0.70      0.00   \n",
       "2          -15.96      0.04           0.54           0.55      0.01   \n",
       "3         -240.00   -240.00           0.44           0.44      0.00   \n",
       "4          -24.83      0.01           0.36           0.37      0.01   \n",
       "5         -240.00   -240.00           0.31           0.31      0.00   \n",
       "6          -30.68      0.08           0.27           0.27      0.00   \n",
       "7         -240.00   -240.00           0.24           0.24      0.00   \n",
       "8          -35.05      0.01           0.21           0.22      0.01   \n",
       "9         -240.00   -240.00           0.19           0.19      0.00   \n",
       "\n",
       "   rc_dB_manual  rc_dB_python  Δ_rc_dB  \n",
       "0         -1.01         -0.98     0.03  \n",
       "1         -3.10         -3.04     0.06  \n",
       "2         -5.35         -5.17     0.18  \n",
       "3         -7.13         -7.04     0.09  \n",
       "4         -8.83         -8.66     0.17  \n",
       "5        -10.17        -10.06     0.11  \n",
       "6        -11.37        -11.29     0.08  \n",
       "7        -12.40        -12.37     0.03  \n",
       "8        -13.55        -13.34     0.21  \n",
       "9        -14.42        -14.22     0.20  "
      ]
     },
     "metadata": {},
     "output_type": "display_data"
    },
    {
     "data": {
      "text/html": [
       "<div class='figure-note keep-with-next nobreak'>Agreement within rounding confirms correct implementation.</div>"
      ],
      "text/plain": [
       "<IPython.core.display.HTML object>"
      ]
     },
     "metadata": {},
     "output_type": "display_data"
    }
   ],
   "source": [
    "# Read manual calculations CSV (Swedish locale) and compare with Python theory — uses TOP MATH CELL\n",
    "import pandas as pd, numpy as np\n",
    "from IPython.display import display, HTML\n",
    "\n",
    "# ---- Input file ----\n",
    "manual_csv = 'Handberäkningar Frekvensanalys - Blad3.csv'\n",
    "\n",
    "# ---- Robust CSV read: handles decimal comma, stray spaces, unicode minus ----\n",
    "raw = pd.read_csv(manual_csv, sep=',', header=0, dtype=str, engine='python')\n",
    "raw = raw.applymap(lambda s: s.strip() if isinstance(s, str) else s)\n",
    "raw = raw.replace({'−': '-'}, regex=True)               # normalize unicode minus\n",
    "for col in raw.columns:                                 # decimal comma -> dot\n",
    "    raw[col] = raw[col].str.replace(',', '.', regex=False)\n",
    "\n",
    "# ---- Header mapping (tolerant to trailing spaces/variants) ----\n",
    "cols_map = {\n",
    "    'n (n kHz)': 'n',\n",
    "    'Sågtandsvåg (dBVrms, teoretiska)': 'saw_dBV_manual',\n",
    "    'Triangelvåg (dBVrms, teoretiska)': 'tri_dBV_manual',\n",
    "    'Sågtandsvåg i RC-filter (Dämpning absolutbelopp)': 'rc_mag_manual',\n",
    "    'Sågtandsvåg i RC-filter (dämpning i dB jämfört med magnitud, teoretiska)': 'rc_dB_manual',\n",
    "}\n",
    "rename = {}\n",
    "for c in raw.columns:\n",
    "    for k, v in cols_map.items():\n",
    "        if c and c.strip().startswith(k.strip()):\n",
    "            rename[c] = v\n",
    "            break\n",
    "\n",
    "need = list(cols_map.values())\n",
    "manual = raw.rename(columns=rename)\n",
    "missing = [c for c in need if c not in manual.columns]\n",
    "if missing:\n",
    "    raise ValueError(f\"Missing expected columns in CSV: {missing}\\nFound: {list(manual.columns)}\")\n",
    "\n",
    "manual = manual[need].copy()\n",
    "for c in manual.columns:\n",
    "    manual[c] = pd.to_numeric(manual[c], errors='coerce')\n",
    "manual = manual.dropna(subset=['n']).astype({'n': int}).reset_index(drop=True)\n",
    "\n",
    "# ---- Python theory using the SHARED MATH CELL (no redefinition here) ----\n",
    "# Assumes the following are already defined in the top math cell:\n",
    "#   F0, vrms_to_dBVrms(), rc_mag(), fourier_dBVrms()\n",
    "calc = manual[['n']].copy()\n",
    "\n",
    "# Fourier series (dBVrms) with your shared fourier_dBVrms()\n",
    "calc['saw_dBV_python'] = fourier_dBVrms('saw', calc['n'].values)\n",
    "calc['tri_dBV_python'] = fourier_dBVrms('tri', calc['n'].values)\n",
    "\n",
    "# RC magnitude using measured RC from the math cell (rc_mag) at n·F0\n",
    "calc['rc_mag_python']  = rc_mag(calc['n'].values * F0)\n",
    "calc['rc_dB_python']   = vrms_to_dBVrms(calc['rc_mag_python'].values)\n",
    "\n",
    "# ---- Merge & deltas ----\n",
    "cmp = manual.merge(calc, on='n', how='left')\n",
    "cmp['Δ_saw_dB'] = cmp['saw_dBV_python'] - cmp['saw_dBV_manual']\n",
    "cmp['Δ_tri_dB'] = cmp['tri_dBV_python'] - cmp['tri_dBV_manual']\n",
    "cmp['Δ_rc_mag'] = cmp['rc_mag_python']  - cmp['rc_mag_manual']\n",
    "cmp['Δ_rc_dB']  = cmp['rc_dB_python']   - cmp['rc_dB_manual']\n",
    "\n",
    "# ---- Display (rounded to 2 decimals) ----\n",
    "cols = [\n",
    "    'n',\n",
    "    'saw_dBV_manual','saw_dBV_python','Δ_saw_dB',\n",
    "    'tri_dBV_manual','tri_dBV_python','Δ_tri_dB',\n",
    "    'rc_mag_manual','rc_mag_python','Δ_rc_mag',\n",
    "    'rc_dB_manual','rc_dB_python','Δ_rc_dB',\n",
    "]\n",
    "fmt = {\n",
    "    'saw_dBV_manual': '{:.2f}', 'saw_dBV_python': '{:.2f}', 'Δ_saw_dB': '{:+.2f}',\n",
    "    'tri_dBV_manual': '{:.2f}', 'tri_dBV_python': '{:.2f}', 'Δ_tri_dB': '{:+.2f}',\n",
    "    'rc_mag_manual': '{:.2f}',  'rc_mag_python': '{:.2f}',  'Δ_rc_mag': '{:+.2f}',\n",
    "    'rc_dB_manual': '{:.2f}',   'rc_dB_python': '{:.2f}',   'Δ_rc_dB': '{:+.2f}',\n",
    "}\n",
    "\n",
    "display(HTML(\"<div class='figure-note keep-with-next nobreak'>Table 1 shows good agreement between manual Fourier calculations and Python, confirming the method.</div>\"))\n",
    "display(HTML(\"<div style='font-weight:600' class='caption'>Table 1. Manual calculations vs Python theory (rounded to 2 decimals)</div>\"))\n",
    "try:\n",
    "    display(cmp[cols].round(2))\n",
    "except Exception:\n",
    "    display(cmp[cols].style.format(fmt))\n",
    "display(HTML(\"<div class='figure-note keep-with-next nobreak'>Agreement within rounding confirms correct implementation.</div>\"))\n"
   ]
  },
  {
   "cell_type": "markdown",
   "id": "9ccc3c8a",
   "metadata": {},
   "source": [
    "<div class=\"pagebreak\"></div>\n",
    "\n",
    "## Results  \n",
    "\n",
    "The results are presented in four subsections. Each includes harmonic tables, plots, and a short interpretation linked to the theoretical formulas. Figures and tables are numbered in order of appearance.  \n",
    "\n",
    "### 4.1 Sawtooth — Theory vs Keysight vs RND Lab  \n",
    "\n",
    "The first ten harmonics (n = 1…10) of the sawtooth waveform were measured and compared with theory.  \n",
    "\n",
    "- **Tables 2a–2b:** Absolute amplitudes (dBVrms) and normalized spectra (dBc).  \n",
    "- **Fig. 1:** Overlay of theory, Keysight, and RND spectra.  \n",
    "- **Interpretation:** All harmonics were present, decaying close to the theoretical \\(1/n\\) slope. The RND source preserved stronger upper harmonics, while Keysight showed earlier roll-off.  \n",
    "\n",
    "### 4.2 Triangle — Theory vs Keysight vs RND Lab  \n",
    "\n",
    "Theoretically, only odd harmonics appear, decaying as \\(1/n^2\\).  \n",
    "\n",
    "- **Tables 3a–3b:** Odd harmonics in both absolute (dBVrms) and normalized (dBc) form.  \n",
    "- **Fig. 2:** Overlay of theory, Keysight, and RND spectra.  \n",
    "- **Interpretation:** Odd harmonics followed the predicted \\(1/n^2\\) slope. Even harmonics stayed near the noise floor, consistent with theory. RND followed the theoretical decay closely, while Keysight showed slightly stronger suppression of higher orders.  \n",
    "\n",
    "### 4.3 Sine — Theory vs Keysight vs RND Lab  \n",
    "\n",
    "For an ideal sine wave, only the fundamental should remain.  \n",
    "\n",
    "- **Tables 4a–4b:** Fundamental amplitude compared with theory; higher orders remained near the noise floor.  \n",
    "- **Fig. 3:** Overlay of spectra from both sources.  \n",
    "- **Interpretation:** Both generators reproduced the fundamental accurately. Harmonics above n = 1 were below −50 dBc, attributed to FFT leakage and small non-idealities.  \n",
    "\n",
    "### 4.4 RC Filter  \n",
    "\n",
    "The RC low-pass filter results are gathered in this section.  \n",
    "\n",
    "- **Tables 5a–5b:** Input vs output spectra for Keysight and RND, with theoretical attenuation for comparison.  \n",
    "- **Figs. 4a–4b:** Four-trace overlays (absolute dBVrms and normalized dBc) showing Keysight and RND before/after RC, with theoretical markers.  \n",
    "- **Figs. 5–7:** FFT spectra at 1 kHz, 10 kHz, and 100 kHz, confirming frequency-dependent roll-off.  \n",
    "- **Figs. 8–10:** Time-domain views at the same frequencies, showing progressively smoother outputs as higher harmonics were suppressed.  \n",
    "- **Interpretation:** The measured cutoff around 2 kHz agreed with the calculated value. Harmonic attenuation followed the expected −20 dB/decade trend, and time-domain waveforms confirmed the smoothing effect. Small deviations are explained by component tolerances, parasitic capacitances, FFT resolution, and the Hann window.  \n",
    "\n",
    "*Note: Differences between Keysight AWG and RND Lab FG are already visible in Sections 4.1–4.3 and are therefore not repeated here.*  \n"
   ]
  },
  {
   "cell_type": "code",
   "execution_count": 75,
   "id": "03f396d3",
   "metadata": {},
   "outputs": [],
   "source": [
    "# === ELA24: Comparisons in dBVrms (no files written) — uses TOP MATH CELL ===\n",
    "# Uses the shared helpers defined earlier:\n",
    "#   F0, A_PEAK, vrms_to_dBVrms(), rc_mag(), fourier_dBVrms(),\n",
    "#   fourier_times_rc_dBVrms(), pick_harmonics_from_spectrum()\n",
    "\n",
    "import numpy as np, pandas as pd, matplotlib.pyplot as plt\n",
    "from pathlib import Path\n",
    "from IPython.display import HTML, display, Image\n",
    "\n",
    "plt.rcParams['figure.dpi'] = 120\n",
    "plt.rcParams['figure.figsize'] = (5.2, 3.2)\n",
    "\n",
    "# ----- Local params -----\n",
    "N_HARM = 10  # compare first N harmonics\n",
    "\n",
    "# =============================== I/O + HARMONIC PICKER ===============================\n",
    "\n",
    "# CSV reader: ALWAYS interpret last numeric column as Vrms and convert to dBVrms\n",
    "def read_scope_fft_vrms(csv_path, floor_vrms=1e-12):\n",
    "    \"\"\"\n",
    "    Read semicolon + decimal-comma CSV.\n",
    "    Always treat the last numeric column as Vrms and convert to dBVrms.\n",
    "    Returns DataFrame with columns: ['freq','dBVrms'].\n",
    "    \"\"\"\n",
    "    raw = pd.read_csv(Path(csv_path), sep=';', header=None, engine='python', dtype=str, on_bad_lines='skip')\n",
    "    freqs, vrms_vals = [], []\n",
    "    for _, row in raw.iterrows():\n",
    "        nums = []\n",
    "        for cell in row.dropna():\n",
    "            s = cell.strip().replace(',', '.')\n",
    "            if not s:\n",
    "                continue\n",
    "            try:\n",
    "                nums.append(float(s))\n",
    "            except ValueError:\n",
    "                pass\n",
    "        if len(nums) >= 2:\n",
    "            f, v_vrms = nums[-2], nums[-1]\n",
    "            if f >= 0:\n",
    "                freqs.append(f); vrms_vals.append(v_vrms)\n",
    "    if not freqs:\n",
    "        raise ValueError(f\"No FFT data found in {csv_path}\")\n",
    "\n",
    "    df = (pd.DataFrame({'freq': freqs, 'Vrms': vrms_vals})\n",
    "            .astype({'freq': float, 'Vrms': float})\n",
    "            .sort_values('freq')\n",
    "            .drop_duplicates('freq')\n",
    "            .reset_index(drop=True))\n",
    "\n",
    "    df['dBVrms'] = vrms_to_dBVrms(np.maximum(df['Vrms'].values, floor_vrms))\n",
    "    return df[['freq','dBVrms']]\n",
    "\n",
    "def pick_harmonics(spec_df, n_max=N_HARM, col='dBVrms'):\n",
    "    # Reuse the top-level helper that snaps to bins at n*F0\n",
    "    return pick_harmonics_from_spectrum(spec_df, f0=F0, n_max=n_max, col=col)\n",
    "\n",
    "# =============================== UTILITIES (NOTES, dBc, CAPTION) ===============================\n",
    "\n",
    "def to_dBc(n_series, dBV_series):\n",
    "    n = np.asarray(n_series)\n",
    "    y = np.asarray(dBV_series, float)\n",
    "    # Reference = amplitude at n=1 if present, else the max component\n",
    "    ref = y[n.tolist().index(1)] if 1 in n else np.nanmax(y)\n",
    "    return y - ref\n",
    "\n",
    "def note_theory_vs_meas(waveform, apply_rc=False):\n",
    "    wf = waveform.lower()\n",
    "    if wf == 'saw':\n",
    "        trend = \"All harmonics present; amplitudes decay ≈ \\\\(1/n\\\\).\"\n",
    "    elif wf == 'tri':\n",
    "        trend = \"Odd harmonics only; amplitudes decay ≈ \\\\(1/n^2\\\\).\"\n",
    "    elif wf == 'sin':\n",
    "        trend = \"Only the fundamental ideally; higher orders near noise/leakage.\"\n",
    "    else:\n",
    "        trend = \"\"\n",
    "    rc = \" The filter reduces higher harmonics more strongly.\" if apply_rc else \"\"\n",
    "    display(HTML(f\"<div class='figure-note'>Interpretation: {trend}{rc}</div>\"))\n",
    "\n",
    "def caption(text):\n",
    "    display(HTML(f\"<div class='caption'>{text}</div>\"))\n",
    "\n",
    "# =============================== TABLE RENDERERS (AUTO-DETECT VARIANT) ===============================\n",
    "\n",
    "def show_case_table_abs(df, caption_text, preface_text=None, closing_text=None):\n",
    "    \"\"\"\n",
    "    Auto-detects columns:\n",
    "      Single-measurement variant: ['n','theory_dBVrms','meas_dBVrms','err_dB']\n",
    "      Dual-measurement variant:   ['n','theory_dBVrms','k_dBVrms','r_dBVrms','k_err_dB','r_err_dB']\n",
    "    \"\"\"\n",
    "    if {'k_dBVrms','r_dBVrms','k_err_dB','r_err_dB'}.issubset(df.columns):\n",
    "        cols = ['n','theory_dBVrms','k_dBVrms','r_dBVrms','k_err_dB','r_err_dB']\n",
    "    else:\n",
    "        cols = ['n','theory_dBVrms','meas_dBVrms','err_dB']\n",
    "\n",
    "    if preface_text: display(HTML(f\"<div>{preface_text}</div>\"))\n",
    "    caption(caption_text)\n",
    "    display(df[cols].round(2).sort_values('n').reset_index(drop=True))\n",
    "    if closing_text: display(HTML(f\"<div class='figure-note'>{closing_text}</div>\"))\n",
    "\n",
    "def show_case_table_rel(df, caption_text, preface_text=None, closing_text=None):\n",
    "    \"\"\"\n",
    "    Auto-detects columns:\n",
    "      Single-measurement variant: ['n','theory_dBc','meas_dBc','err_dBc']\n",
    "      Dual-measurement variant:   ['n','theory_dBc','k_dBc','r_dBc','k_err_dBc','r_err_dBc']\n",
    "    \"\"\"\n",
    "    if {'k_dBc','r_dBc','k_err_dBc','r_err_dBc'}.issubset(df.columns):\n",
    "        cols = ['n','theory_dBc','k_dBc','r_dBc','k_err_dBc','r_err_dBc']\n",
    "    else:\n",
    "        cols = ['n','theory_dBc','meas_dBc','err_dBc']\n",
    "\n",
    "    if preface_text: display(HTML(f\"<div>{preface_text}</div>\"))\n",
    "    caption(caption_text)\n",
    "    display(df[cols].round(2).sort_values('n').reset_index(drop=True))\n",
    "    if closing_text: display(HTML(f\"<div class='figure-note'>{closing_text}</div>\"))\n",
    "\n",
    "# =============================== THEORY SERIES ===============================\n",
    "\n",
    "def theory_df(waveform, apply_rc=False, n_max=N_HARM):\n",
    "    n = np.arange(1, n_max+1)\n",
    "    if apply_rc:\n",
    "        dB = fourier_times_rc_dBVrms(waveform, n, A=A_PEAK, f0=F0)  # |Fourier| × |H|\n",
    "    else:\n",
    "        dB = fourier_dBVrms(waveform, n, A=A_PEAK)\n",
    "    out = pd.DataFrame({'n': n, 'f_Hz': n*F0, 'theory_dBVrms': dB})\n",
    "    out['theory_dBc'] = to_dBc(out['n'], out['theory_dBVrms'])\n",
    "    return out\n",
    "\n",
    "# =============================== TWO-PANEL (Theory + ONE measurement) ===============================\n",
    "\n",
    "def compare_two_panel(csv_path, waveform, apply_rc_to_theory=False, title_prefix=None):\n",
    "    \"\"\"\n",
    "    Legacy single-measurement figure: Theory vs Measurement.\n",
    "    Used elsewhere in the notebook; API preserved.\n",
    "    \"\"\"\n",
    "    spec = read_scope_fft_vrms(csv_path)  # FORCE Vrms -> dBVrms\n",
    "    meas = pick_harmonics(spec, n_max=N_HARM, col='dBVrms').rename(columns={'dBVrms':'meas_dBVrms'})\n",
    "    theo = theory_df(waveform, apply_rc=apply_rc_to_theory, n_max=N_HARM)\n",
    "\n",
    "    df = meas.merge(theo[['n','theory_dBVrms','theory_dBc']], on='n', how='left')\n",
    "    df['err_dB']   = df['meas_dBVrms'] - df['theory_dBVrms']\n",
    "    df['meas_dBc'] = to_dBc(df['n'], df['meas_dBVrms'])\n",
    "    df['err_dBc']  = df['meas_dBc']   - df['theory_dBc']\n",
    "\n",
    "    # Plot (two panels)\n",
    "    fig, axes = plt.subplots(1, 2, figsize=(9.8, 3.4))\n",
    "\n",
    "    # Absolute\n",
    "    ax = axes[0]\n",
    "    ax.stem(df['n'], df['theory_dBVrms'], linefmt='C0-', markerfmt='C0o', basefmt=' ', label='Theory (dBVrms)')\n",
    "    ax.stem(df['n']+0.08, df['meas_dBVrms'], linefmt='C1-', markerfmt='C1s', basefmt=' ', label='Measurement (dBVrms)')\n",
    "    ax.set_xlabel('Harmonic n'); ax.set_ylabel('dBVrms'); ax.set_title('Absolute (dBVrms)'); ax.grid(alpha=0.35)\n",
    "    ax.legend(fontsize=8)\n",
    "\n",
    "    # Normalized\n",
    "    ax2 = axes[1]\n",
    "    ax2.stem(df['n'], df['theory_dBc'], linefmt='C0-', markerfmt='C0o', basefmt=' ', label='Theory (dBc)')\n",
    "    ax2.stem(df['n']+0.08, df['meas_dBc'], linefmt='C1-', markerfmt='C1s', basefmt=' ', label='Measurement (dBc)')\n",
    "    ax2.set_xlabel('Harmonic n'); ax2.set_ylabel('dBc (rel. to n=1)'); ax2.set_title('Normalized (dBc)'); ax2.grid(alpha=0.35)\n",
    "\n",
    "    fig.tight_layout()\n",
    "    ttl = (title_prefix or \"FFT\") + (\" — after RC\" if apply_rc_to_theory else \" — input\")\n",
    "    plt.show()\n",
    "    caption(f\"{ttl}. Measured with Keysight oscilloscope FFT; CSV amplitudes exported as Vrms and converted to dBVrms here.\")\n",
    "\n",
    "    return df\n",
    "\n",
    "# =============================== THREE-PANEL (Theory + Keysight + RND) ===============================\n",
    "\n",
    "def compare_three_panel(csv_keysight, csv_rnd, waveform, apply_rc_to_theory=False, title_prefix=None):\n",
    "    \"\"\"\n",
    "    New multi-trace figure: Theory + Keysight + RND Lab in the SAME two-panel plot (dBVrms & dBc).\n",
    "    \"\"\"\n",
    "    # Read/convert both spectra\n",
    "    spec_k = read_scope_fft_vrms(csv_keysight)\n",
    "    spec_r = read_scope_fft_vrms(csv_rnd)\n",
    "\n",
    "    meas_k = pick_harmonics(spec_k, n_max=N_HARM, col='dBVrms').rename(columns={'dBVrms':'k_dBVrms'})\n",
    "    meas_r = pick_harmonics(spec_r, n_max=N_HARM, col='dBVrms').rename(columns={'dBVrms':'r_dBVrms'})\n",
    "    theo   = theory_df(waveform, apply_rc=apply_rc_to_theory, n_max=N_HARM)[['n','theory_dBVrms','theory_dBc']]\n",
    "\n",
    "    # Merge & compute errors + dBc\n",
    "    df = theo.merge(meas_k, on='n', how='left').merge(meas_r, on='n', how='left')\n",
    "    df['k_err_dB'] = df['k_dBVrms'] - df['theory_dBVrms']\n",
    "    df['r_err_dB'] = df['r_dBVrms'] - df['theory_dBVrms']\n",
    "\n",
    "    df['k_dBc'] = to_dBc(df['n'], df['k_dBVrms'])\n",
    "    df['r_dBc'] = to_dBc(df['n'], df['r_dBVrms'])\n",
    "    df['k_err_dBc'] = df['k_dBc'] - df['theory_dBc']\n",
    "    df['r_err_dBc'] = df['r_dBc'] - df['theory_dBc']\n",
    "\n",
    "    # Plot (two panels): Absolute dBVrms + Normalized dBc\n",
    "    fig, axes = plt.subplots(1, 2, figsize=(9.8, 3.4))\n",
    "\n",
    "    # Absolute\n",
    "    ax = axes[0]\n",
    "    ax.stem(df['n'],        df['theory_dBVrms'], linefmt='C0-', markerfmt='C0o', basefmt=' ', label='Theory (dBVrms)')\n",
    "    ax.stem(df['n']+0.08,   df['k_dBVrms'],      linefmt='C1-', markerfmt='C1s', basefmt=' ', label='Keysight (dBVrms)')\n",
    "    ax.stem(df['n']+0.16,   df['r_dBVrms'],      linefmt='C2-', markerfmt='C2^', basefmt=' ', label='RND Lab (dBVrms)')\n",
    "    ax.set_xlabel('Harmonic n'); ax.set_ylabel('dBVrms'); ax.set_title('Absolute (dBVrms)'); ax.grid(alpha=0.35)\n",
    "    ax.legend(fontsize=8)\n",
    "\n",
    "    # Normalized\n",
    "    ax2 = axes[1]\n",
    "    ax2.stem(df['n'],       df['theory_dBc'], linefmt='C0-', markerfmt='C0o', basefmt=' ', label='Theory (dBc)')\n",
    "    ax2.stem(df['n']+0.08,  df['k_dBc'],      linefmt='C1-', markerfmt='C1s', basefmt=' ', label='Keysight (dBc)')\n",
    "    ax2.stem(df['n']+0.16,  df['r_dBc'],      linefmt='C2-', markerfmt='C2^', basefmt=' ', label='RND Lab (dBc)')\n",
    "    ax2.set_xlabel('Harmonic n'); ax2.set_ylabel('dBc (rel. to n=1)'); ax2.set_title('Normalized (dBc)'); ax2.grid(alpha=0.35)\n",
    "    ax2.legend(fontsize=8)\n",
    "\n",
    "    fig.tight_layout()\n",
    "    ttl = (title_prefix or \"FFT\") + (\" — after RC\" if apply_rc_to_theory else \" — input\")\n",
    "    plt.show()\n",
    "    caption(f\"{ttl}. Theory vs Keysight vs RND Lab; CSV amplitudes are Vrms converted to dBVrms here.\")\n",
    "\n",
    "    return df\n"
   ]
  },
  {
   "cell_type": "code",
   "execution_count": 76,
   "id": "3700ad71",
   "metadata": {},
   "outputs": [
    {
     "data": {
      "text/html": [
       "<div class='pagebreak'></div>"
      ],
      "text/plain": [
       "<IPython.core.display.HTML object>"
      ]
     },
     "metadata": {},
     "output_type": "display_data"
    },
    {
     "data": {
      "text/html": [
       "<h3>4.1 Sawtooth — theory vs Keysight vs RND Lab</h3>"
      ],
      "text/plain": [
       "<IPython.core.display.HTML object>"
      ]
     },
     "metadata": {},
     "output_type": "display_data"
    },
    {
     "data": {
      "text/html": [
       "<div>Two-panel figure (absolute dBVrms and normalized dBc) and corresponding tables.</div>"
      ],
      "text/plain": [
       "<IPython.core.display.HTML object>"
      ]
     },
     "metadata": {},
     "output_type": "display_data"
    },
    {
     "data": {
      "image/png": "[encoded data removed]",
      "text/plain": [
       "<Figure size 1176x408 with 2 Axes>"
      ]
     },
     "metadata": {},
     "output_type": "display_data"
    },
    {
     "data": {
      "text/html": [
       "<div class='caption'>Fig. 1. Sawtooth — input. Theory vs Keysight vs RND Lab; CSV amplitudes are Vrms converted to dBVrms here.</div>"
      ],
      "text/plain": [
       "<IPython.core.display.HTML object>"
      ]
     },
     "metadata": {},
     "output_type": "display_data"
    },
    {
     "data": {
      "text/html": [
       "<div class='figure-note'>Interpretation: All harmonics present; amplitudes decay ≈ \\(1/n\\).</div>"
      ],
      "text/plain": [
       "<IPython.core.display.HTML object>"
      ]
     },
     "metadata": {},
     "output_type": "display_data"
    },
    {
     "data": {
      "text/html": [
       "<div>First ten harmonics at multiples of 1 kHz.</div>"
      ],
      "text/plain": [
       "<IPython.core.display.HTML object>"
      ]
     },
     "metadata": {},
     "output_type": "display_data"
    },
    {
     "data": {
      "text/html": [
       "<div class='caption'>Table 2a. Sawtooth — theory vs Keysight vs RND Lab (absolute dBVrms)</div>"
      ],
      "text/plain": [
       "<IPython.core.display.HTML object>"
      ]
     },
     "metadata": {},
     "output_type": "display_data"
    },
    {
     "data": {
      "text/html": [
       "<div>\n",
       "<style scoped>\n",
       "    .dataframe tbody tr th:only-of-type {\n",
       "        vertical-align: middle;\n",
       "    }\n",
       "\n",
       "    .dataframe tbody tr th {\n",
       "        vertical-align: top;\n",
       "    }\n",
       "\n",
       "    .dataframe thead th {\n",
       "        text-align: right;\n",
       "    }\n",
       "</style>\n",
       "<table border=\"1\" class=\"dataframe\">\n",
       "  <thead>\n",
       "    <tr style=\"text-align: right;\">\n",
       "      <th></th>\n",
       "      <th>n</th>\n",
       "      <th>theory_dBVrms</th>\n",
       "      <th>k_dBVrms</th>\n",
       "      <th>r_dBVrms</th>\n",
       "      <th>k_err_dB</th>\n",
       "      <th>r_err_dB</th>\n",
       "    </tr>\n",
       "  </thead>\n",
       "  <tbody>\n",
       "    <tr>\n",
       "      <th>0</th>\n",
       "      <td>1</td>\n",
       "      <td>1.03</td>\n",
       "      <td>-4.48</td>\n",
       "      <td>20.89</td>\n",
       "      <td>-5.51</td>\n",
       "      <td>19.87</td>\n",
       "    </tr>\n",
       "    <tr>\n",
       "      <th>1</th>\n",
       "      <td>2</td>\n",
       "      <td>-4.99</td>\n",
       "      <td>-5.12</td>\n",
       "      <td>14.59</td>\n",
       "      <td>-0.13</td>\n",
       "      <td>19.58</td>\n",
       "    </tr>\n",
       "    <tr>\n",
       "      <th>2</th>\n",
       "      <td>3</td>\n",
       "      <td>-8.52</td>\n",
       "      <td>-8.85</td>\n",
       "      <td>10.47</td>\n",
       "      <td>-0.33</td>\n",
       "      <td>18.99</td>\n",
       "    </tr>\n",
       "    <tr>\n",
       "      <th>3</th>\n",
       "      <td>4</td>\n",
       "      <td>-11.02</td>\n",
       "      <td>-11.71</td>\n",
       "      <td>7.96</td>\n",
       "      <td>-0.69</td>\n",
       "      <td>18.97</td>\n",
       "    </tr>\n",
       "    <tr>\n",
       "      <th>4</th>\n",
       "      <td>5</td>\n",
       "      <td>-12.95</td>\n",
       "      <td>-12.99</td>\n",
       "      <td>6.48</td>\n",
       "      <td>-0.03</td>\n",
       "      <td>19.44</td>\n",
       "    </tr>\n",
       "    <tr>\n",
       "      <th>5</th>\n",
       "      <td>6</td>\n",
       "      <td>-14.54</td>\n",
       "      <td>-16.04</td>\n",
       "      <td>5.23</td>\n",
       "      <td>-1.50</td>\n",
       "      <td>19.77</td>\n",
       "    </tr>\n",
       "    <tr>\n",
       "      <th>6</th>\n",
       "      <td>7</td>\n",
       "      <td>-15.88</td>\n",
       "      <td>-16.07</td>\n",
       "      <td>3.93</td>\n",
       "      <td>-0.19</td>\n",
       "      <td>19.81</td>\n",
       "    </tr>\n",
       "    <tr>\n",
       "      <th>7</th>\n",
       "      <td>8</td>\n",
       "      <td>-17.04</td>\n",
       "      <td>-17.51</td>\n",
       "      <td>2.72</td>\n",
       "      <td>-0.47</td>\n",
       "      <td>19.75</td>\n",
       "    </tr>\n",
       "    <tr>\n",
       "      <th>8</th>\n",
       "      <td>9</td>\n",
       "      <td>-18.06</td>\n",
       "      <td>-18.61</td>\n",
       "      <td>1.30</td>\n",
       "      <td>-0.55</td>\n",
       "      <td>19.36</td>\n",
       "    </tr>\n",
       "    <tr>\n",
       "      <th>9</th>\n",
       "      <td>10</td>\n",
       "      <td>-18.97</td>\n",
       "      <td>-18.93</td>\n",
       "      <td>-0.12</td>\n",
       "      <td>0.04</td>\n",
       "      <td>18.85</td>\n",
       "    </tr>\n",
       "  </tbody>\n",
       "</table>\n",
       "</div>"
      ],
      "text/plain": [
       "    n  theory_dBVrms  k_dBVrms  r_dBVrms  k_err_dB  r_err_dB\n",
       "0   1           1.03     -4.48     20.89     -5.51     19.87\n",
       "1   2          -4.99     -5.12     14.59     -0.13     19.58\n",
       "2   3          -8.52     -8.85     10.47     -0.33     18.99\n",
       "3   4         -11.02    -11.71      7.96     -0.69     18.97\n",
       "4   5         -12.95    -12.99      6.48     -0.03     19.44\n",
       "5   6         -14.54    -16.04      5.23     -1.50     19.77\n",
       "6   7         -15.88    -16.07      3.93     -0.19     19.81\n",
       "7   8         -17.04    -17.51      2.72     -0.47     19.75\n",
       "8   9         -18.06    -18.61      1.30     -0.55     19.36\n",
       "9  10         -18.97    -18.93     -0.12      0.04     18.85"
      ]
     },
     "metadata": {},
     "output_type": "display_data"
    },
    {
     "data": {
      "text/html": [
       "<div class='figure-note'>Amplitudes decay ~1/n.</div>"
      ],
      "text/plain": [
       "<IPython.core.display.HTML object>"
      ]
     },
     "metadata": {},
     "output_type": "display_data"
    },
    {
     "data": {
      "text/html": [
       "<div>Per-trace normalization to n=1 removes absolute scaling.</div>"
      ],
      "text/plain": [
       "<IPython.core.display.HTML object>"
      ]
     },
     "metadata": {},
     "output_type": "display_data"
    },
    {
     "data": {
      "text/html": [
       "<div class='caption'>Table 2b. Sawtooth — theory vs Keysight vs RND Lab (normalized dBc)</div>"
      ],
      "text/plain": [
       "<IPython.core.display.HTML object>"
      ]
     },
     "metadata": {},
     "output_type": "display_data"
    },
    {
     "data": {
      "text/html": [
       "<div>\n",
       "<style scoped>\n",
       "    .dataframe tbody tr th:only-of-type {\n",
       "        vertical-align: middle;\n",
       "    }\n",
       "\n",
       "    .dataframe tbody tr th {\n",
       "        vertical-align: top;\n",
       "    }\n",
       "\n",
       "    .dataframe thead th {\n",
       "        text-align: right;\n",
       "    }\n",
       "</style>\n",
       "<table border=\"1\" class=\"dataframe\">\n",
       "  <thead>\n",
       "    <tr style=\"text-align: right;\">\n",
       "      <th></th>\n",
       "      <th>n</th>\n",
       "      <th>theory_dBc</th>\n",
       "      <th>k_dBc</th>\n",
       "      <th>r_dBc</th>\n",
       "      <th>k_err_dBc</th>\n",
       "      <th>r_err_dBc</th>\n",
       "    </tr>\n",
       "  </thead>\n",
       "  <tbody>\n",
       "    <tr>\n",
       "      <th>0</th>\n",
       "      <td>1</td>\n",
       "      <td>0.00</td>\n",
       "      <td>0.00</td>\n",
       "      <td>0.00</td>\n",
       "      <td>0.00</td>\n",
       "      <td>0.00</td>\n",
       "    </tr>\n",
       "    <tr>\n",
       "      <th>1</th>\n",
       "      <td>2</td>\n",
       "      <td>-6.02</td>\n",
       "      <td>-0.64</td>\n",
       "      <td>-6.31</td>\n",
       "      <td>5.38</td>\n",
       "      <td>-0.29</td>\n",
       "    </tr>\n",
       "    <tr>\n",
       "      <th>2</th>\n",
       "      <td>3</td>\n",
       "      <td>-9.54</td>\n",
       "      <td>-4.36</td>\n",
       "      <td>-10.42</td>\n",
       "      <td>5.18</td>\n",
       "      <td>-0.88</td>\n",
       "    </tr>\n",
       "    <tr>\n",
       "      <th>3</th>\n",
       "      <td>4</td>\n",
       "      <td>-12.04</td>\n",
       "      <td>-7.23</td>\n",
       "      <td>-12.94</td>\n",
       "      <td>4.82</td>\n",
       "      <td>-0.89</td>\n",
       "    </tr>\n",
       "    <tr>\n",
       "      <th>4</th>\n",
       "      <td>5</td>\n",
       "      <td>-13.98</td>\n",
       "      <td>-8.50</td>\n",
       "      <td>-14.41</td>\n",
       "      <td>5.48</td>\n",
       "      <td>-0.43</td>\n",
       "    </tr>\n",
       "    <tr>\n",
       "      <th>5</th>\n",
       "      <td>6</td>\n",
       "      <td>-15.56</td>\n",
       "      <td>-11.55</td>\n",
       "      <td>-15.66</td>\n",
       "      <td>4.01</td>\n",
       "      <td>-0.10</td>\n",
       "    </tr>\n",
       "    <tr>\n",
       "      <th>6</th>\n",
       "      <td>7</td>\n",
       "      <td>-16.90</td>\n",
       "      <td>-11.59</td>\n",
       "      <td>-16.96</td>\n",
       "      <td>5.31</td>\n",
       "      <td>-0.06</td>\n",
       "    </tr>\n",
       "    <tr>\n",
       "      <th>7</th>\n",
       "      <td>8</td>\n",
       "      <td>-18.06</td>\n",
       "      <td>-13.03</td>\n",
       "      <td>-18.18</td>\n",
       "      <td>5.03</td>\n",
       "      <td>-0.12</td>\n",
       "    </tr>\n",
       "    <tr>\n",
       "      <th>8</th>\n",
       "      <td>9</td>\n",
       "      <td>-19.08</td>\n",
       "      <td>-14.13</td>\n",
       "      <td>-19.59</td>\n",
       "      <td>4.96</td>\n",
       "      <td>-0.50</td>\n",
       "    </tr>\n",
       "    <tr>\n",
       "      <th>9</th>\n",
       "      <td>10</td>\n",
       "      <td>-20.00</td>\n",
       "      <td>-14.45</td>\n",
       "      <td>-21.01</td>\n",
       "      <td>5.55</td>\n",
       "      <td>-1.01</td>\n",
       "    </tr>\n",
       "  </tbody>\n",
       "</table>\n",
       "</div>"
      ],
      "text/plain": [
       "    n  theory_dBc  k_dBc  r_dBc  k_err_dBc  r_err_dBc\n",
       "0   1        0.00   0.00   0.00       0.00       0.00\n",
       "1   2       -6.02  -0.64  -6.31       5.38      -0.29\n",
       "2   3       -9.54  -4.36 -10.42       5.18      -0.88\n",
       "3   4      -12.04  -7.23 -12.94       4.82      -0.89\n",
       "4   5      -13.98  -8.50 -14.41       5.48      -0.43\n",
       "5   6      -15.56 -11.55 -15.66       4.01      -0.10\n",
       "6   7      -16.90 -11.59 -16.96       5.31      -0.06\n",
       "7   8      -18.06 -13.03 -18.18       5.03      -0.12\n",
       "8   9      -19.08 -14.13 -19.59       4.96      -0.50\n",
       "9  10      -20.00 -14.45 -21.01       5.55      -1.01"
      ]
     },
     "metadata": {},
     "output_type": "display_data"
    },
    {
     "data": {
      "text/html": [
       "<div class='figure-note'>Shape agreement highlights spectral slope independent of amplitude offset.</div>"
      ],
      "text/plain": [
       "<IPython.core.display.HTML object>"
      ]
     },
     "metadata": {},
     "output_type": "display_data"
    },
    {
     "data": {
      "text/html": [
       "<div class='pagebreak'></div>"
      ],
      "text/plain": [
       "<IPython.core.display.HTML object>"
      ]
     },
     "metadata": {},
     "output_type": "display_data"
    },
    {
     "data": {
      "text/html": [
       "<h3>4.2 Triangle — theory vs Keysight vs RND Lab</h3>"
      ],
      "text/plain": [
       "<IPython.core.display.HTML object>"
      ]
     },
     "metadata": {},
     "output_type": "display_data"
    },
    {
     "data": {
      "text/html": [
       "<div>Two-panel figure (absolute dBVrms and normalized dBc) and corresponding tables.</div>"
      ],
      "text/plain": [
       "<IPython.core.display.HTML object>"
      ]
     },
     "metadata": {},
     "output_type": "display_data"
    },
    {
     "data": {
      "image/png": "[encoded data removed]",
      "text/plain": [
       "<Figure size 1176x408 with 2 Axes>"
      ]
     },
     "metadata": {},
     "output_type": "display_data"
    },
    {
     "data": {
      "text/html": [
       "<div class='caption'>Fig. 2. Triangle — input. Theory vs Keysight vs RND Lab; CSV amplitudes are Vrms converted to dBVrms here.</div>"
      ],
      "text/plain": [
       "<IPython.core.display.HTML object>"
      ]
     },
     "metadata": {},
     "output_type": "display_data"
    },
    {
     "data": {
      "text/html": [
       "<div class='figure-note'>Interpretation: Odd harmonics only; amplitudes decay ≈ \\(1/n^2\\).</div>"
      ],
      "text/plain": [
       "<IPython.core.display.HTML object>"
      ]
     },
     "metadata": {},
     "output_type": "display_data"
    },
    {
     "data": {
      "text/html": [
       "<div>Only odd harmonics expected by theory; even n may sit near noise floor.</div>"
      ],
      "text/plain": [
       "<IPython.core.display.HTML object>"
      ]
     },
     "metadata": {},
     "output_type": "display_data"
    },
    {
     "data": {
      "text/html": [
       "<div class='caption'>Table 3a. Triangle — theory vs Keysight vs RND Lab (absolute dBVrms)</div>"
      ],
      "text/plain": [
       "<IPython.core.display.HTML object>"
      ]
     },
     "metadata": {},
     "output_type": "display_data"
    },
    {
     "data": {
      "text/html": [
       "<div>\n",
       "<style scoped>\n",
       "    .dataframe tbody tr th:only-of-type {\n",
       "        vertical-align: middle;\n",
       "    }\n",
       "\n",
       "    .dataframe tbody tr th {\n",
       "        vertical-align: top;\n",
       "    }\n",
       "\n",
       "    .dataframe thead th {\n",
       "        text-align: right;\n",
       "    }\n",
       "</style>\n",
       "<table border=\"1\" class=\"dataframe\">\n",
       "  <thead>\n",
       "    <tr style=\"text-align: right;\">\n",
       "      <th></th>\n",
       "      <th>n</th>\n",
       "      <th>theory_dBVrms</th>\n",
       "      <th>k_dBVrms</th>\n",
       "      <th>r_dBVrms</th>\n",
       "      <th>k_err_dB</th>\n",
       "      <th>r_err_dB</th>\n",
       "    </tr>\n",
       "  </thead>\n",
       "  <tbody>\n",
       "    <tr>\n",
       "      <th>0</th>\n",
       "      <td>1</td>\n",
       "      <td>3.12</td>\n",
       "      <td>2.64</td>\n",
       "      <td>22.99</td>\n",
       "      <td>-0.48</td>\n",
       "      <td>19.86</td>\n",
       "    </tr>\n",
       "    <tr>\n",
       "      <th>1</th>\n",
       "      <td>2</td>\n",
       "      <td>-240.00</td>\n",
       "      <td>-50.66</td>\n",
       "      <td>-240.00</td>\n",
       "      <td>189.34</td>\n",
       "      <td>0.00</td>\n",
       "    </tr>\n",
       "    <tr>\n",
       "      <th>2</th>\n",
       "      <td>3</td>\n",
       "      <td>-15.96</td>\n",
       "      <td>-20.03</td>\n",
       "      <td>3.14</td>\n",
       "      <td>-4.07</td>\n",
       "      <td>19.10</td>\n",
       "    </tr>\n",
       "    <tr>\n",
       "      <th>3</th>\n",
       "      <td>4</td>\n",
       "      <td>-240.00</td>\n",
       "      <td>-240.00</td>\n",
       "      <td>-240.00</td>\n",
       "      <td>0.00</td>\n",
       "      <td>0.00</td>\n",
       "    </tr>\n",
       "    <tr>\n",
       "      <th>4</th>\n",
       "      <td>5</td>\n",
       "      <td>-24.83</td>\n",
       "      <td>-26.95</td>\n",
       "      <td>-5.72</td>\n",
       "      <td>-2.12</td>\n",
       "      <td>19.11</td>\n",
       "    </tr>\n",
       "    <tr>\n",
       "      <th>5</th>\n",
       "      <td>6</td>\n",
       "      <td>-240.00</td>\n",
       "      <td>-240.00</td>\n",
       "      <td>-240.00</td>\n",
       "      <td>0.00</td>\n",
       "      <td>0.00</td>\n",
       "    </tr>\n",
       "    <tr>\n",
       "      <th>6</th>\n",
       "      <td>7</td>\n",
       "      <td>-30.68</td>\n",
       "      <td>-30.66</td>\n",
       "      <td>-10.96</td>\n",
       "      <td>0.02</td>\n",
       "      <td>19.72</td>\n",
       "    </tr>\n",
       "    <tr>\n",
       "      <th>7</th>\n",
       "      <td>8</td>\n",
       "      <td>-240.00</td>\n",
       "      <td>-240.00</td>\n",
       "      <td>-240.00</td>\n",
       "      <td>0.00</td>\n",
       "      <td>0.00</td>\n",
       "    </tr>\n",
       "    <tr>\n",
       "      <th>8</th>\n",
       "      <td>9</td>\n",
       "      <td>-35.05</td>\n",
       "      <td>-37.93</td>\n",
       "      <td>-16.12</td>\n",
       "      <td>-2.88</td>\n",
       "      <td>18.92</td>\n",
       "    </tr>\n",
       "    <tr>\n",
       "      <th>9</th>\n",
       "      <td>10</td>\n",
       "      <td>-240.00</td>\n",
       "      <td>-240.00</td>\n",
       "      <td>-240.00</td>\n",
       "      <td>0.00</td>\n",
       "      <td>0.00</td>\n",
       "    </tr>\n",
       "  </tbody>\n",
       "</table>\n",
       "</div>"
      ],
      "text/plain": [
       "    n  theory_dBVrms  k_dBVrms  r_dBVrms  k_err_dB  r_err_dB\n",
       "0   1           3.12      2.64     22.99     -0.48     19.86\n",
       "1   2        -240.00    -50.66   -240.00    189.34      0.00\n",
       "2   3         -15.96    -20.03      3.14     -4.07     19.10\n",
       "3   4        -240.00   -240.00   -240.00      0.00      0.00\n",
       "4   5         -24.83    -26.95     -5.72     -2.12     19.11\n",
       "5   6        -240.00   -240.00   -240.00      0.00      0.00\n",
       "6   7         -30.68    -30.66    -10.96      0.02     19.72\n",
       "7   8        -240.00   -240.00   -240.00      0.00      0.00\n",
       "8   9         -35.05    -37.93    -16.12     -2.88     18.92\n",
       "9  10        -240.00   -240.00   -240.00      0.00      0.00"
      ]
     },
     "metadata": {},
     "output_type": "display_data"
    },
    {
     "data": {
      "text/html": [
       "<div class='figure-note'>Odd harmonics decay ~1/n².</div>"
      ],
      "text/plain": [
       "<IPython.core.display.HTML object>"
      ]
     },
     "metadata": {},
     "output_type": "display_data"
    },
    {
     "data": {
      "text/html": [
       "<div>Even n omitted by theory → dBc values may be undefined or very low by measurement.</div>"
      ],
      "text/plain": [
       "<IPython.core.display.HTML object>"
      ]
     },
     "metadata": {},
     "output_type": "display_data"
    },
    {
     "data": {
      "text/html": [
       "<div class='caption'>Table 3b. Triangle — theory vs Keysight vs RND Lab (normalized dBc)</div>"
      ],
      "text/plain": [
       "<IPython.core.display.HTML object>"
      ]
     },
     "metadata": {},
     "output_type": "display_data"
    },
    {
     "data": {
      "text/html": [
       "<div>\n",
       "<style scoped>\n",
       "    .dataframe tbody tr th:only-of-type {\n",
       "        vertical-align: middle;\n",
       "    }\n",
       "\n",
       "    .dataframe tbody tr th {\n",
       "        vertical-align: top;\n",
       "    }\n",
       "\n",
       "    .dataframe thead th {\n",
       "        text-align: right;\n",
       "    }\n",
       "</style>\n",
       "<table border=\"1\" class=\"dataframe\">\n",
       "  <thead>\n",
       "    <tr style=\"text-align: right;\">\n",
       "      <th></th>\n",
       "      <th>n</th>\n",
       "      <th>theory_dBc</th>\n",
       "      <th>k_dBc</th>\n",
       "      <th>r_dBc</th>\n",
       "      <th>k_err_dBc</th>\n",
       "      <th>r_err_dBc</th>\n",
       "    </tr>\n",
       "  </thead>\n",
       "  <tbody>\n",
       "    <tr>\n",
       "      <th>0</th>\n",
       "      <td>1</td>\n",
       "      <td>0.00</td>\n",
       "      <td>0.00</td>\n",
       "      <td>0.00</td>\n",
       "      <td>0.00</td>\n",
       "      <td>0.00</td>\n",
       "    </tr>\n",
       "    <tr>\n",
       "      <th>1</th>\n",
       "      <td>2</td>\n",
       "      <td>-243.12</td>\n",
       "      <td>-53.31</td>\n",
       "      <td>-262.99</td>\n",
       "      <td>189.82</td>\n",
       "      <td>-19.86</td>\n",
       "    </tr>\n",
       "    <tr>\n",
       "      <th>2</th>\n",
       "      <td>3</td>\n",
       "      <td>-19.08</td>\n",
       "      <td>-22.68</td>\n",
       "      <td>-19.85</td>\n",
       "      <td>-3.59</td>\n",
       "      <td>-0.76</td>\n",
       "    </tr>\n",
       "    <tr>\n",
       "      <th>3</th>\n",
       "      <td>4</td>\n",
       "      <td>-243.12</td>\n",
       "      <td>-242.64</td>\n",
       "      <td>-262.99</td>\n",
       "      <td>0.48</td>\n",
       "      <td>-19.86</td>\n",
       "    </tr>\n",
       "    <tr>\n",
       "      <th>4</th>\n",
       "      <td>5</td>\n",
       "      <td>-27.96</td>\n",
       "      <td>-29.59</td>\n",
       "      <td>-28.71</td>\n",
       "      <td>-1.63</td>\n",
       "      <td>-0.75</td>\n",
       "    </tr>\n",
       "    <tr>\n",
       "      <th>5</th>\n",
       "      <td>6</td>\n",
       "      <td>-243.12</td>\n",
       "      <td>-242.64</td>\n",
       "      <td>-262.99</td>\n",
       "      <td>0.48</td>\n",
       "      <td>-19.86</td>\n",
       "    </tr>\n",
       "    <tr>\n",
       "      <th>6</th>\n",
       "      <td>7</td>\n",
       "      <td>-33.80</td>\n",
       "      <td>-33.31</td>\n",
       "      <td>-33.94</td>\n",
       "      <td>0.50</td>\n",
       "      <td>-0.14</td>\n",
       "    </tr>\n",
       "    <tr>\n",
       "      <th>7</th>\n",
       "      <td>8</td>\n",
       "      <td>-243.12</td>\n",
       "      <td>-242.64</td>\n",
       "      <td>-262.99</td>\n",
       "      <td>0.48</td>\n",
       "      <td>-19.86</td>\n",
       "    </tr>\n",
       "    <tr>\n",
       "      <th>8</th>\n",
       "      <td>9</td>\n",
       "      <td>-38.17</td>\n",
       "      <td>-40.57</td>\n",
       "      <td>-39.11</td>\n",
       "      <td>-2.40</td>\n",
       "      <td>-0.94</td>\n",
       "    </tr>\n",
       "    <tr>\n",
       "      <th>9</th>\n",
       "      <td>10</td>\n",
       "      <td>-243.12</td>\n",
       "      <td>-242.64</td>\n",
       "      <td>-262.99</td>\n",
       "      <td>0.48</td>\n",
       "      <td>-19.86</td>\n",
       "    </tr>\n",
       "  </tbody>\n",
       "</table>\n",
       "</div>"
      ],
      "text/plain": [
       "    n  theory_dBc   k_dBc   r_dBc  k_err_dBc  r_err_dBc\n",
       "0   1        0.00    0.00    0.00       0.00       0.00\n",
       "1   2     -243.12  -53.31 -262.99     189.82     -19.86\n",
       "2   3      -19.08  -22.68  -19.85      -3.59      -0.76\n",
       "3   4     -243.12 -242.64 -262.99       0.48     -19.86\n",
       "4   5      -27.96  -29.59  -28.71      -1.63      -0.75\n",
       "5   6     -243.12 -242.64 -262.99       0.48     -19.86\n",
       "6   7      -33.80  -33.31  -33.94       0.50      -0.14\n",
       "7   8     -243.12 -242.64 -262.99       0.48     -19.86\n",
       "8   9      -38.17  -40.57  -39.11      -2.40      -0.94\n",
       "9  10     -243.12 -242.64 -262.99       0.48     -19.86"
      ]
     },
     "metadata": {},
     "output_type": "display_data"
    },
    {
     "data": {
      "text/html": [
       "<div class='figure-note'>Normalized comparison emphasizes the odd-harmonic envelope.</div>"
      ],
      "text/plain": [
       "<IPython.core.display.HTML object>"
      ]
     },
     "metadata": {},
     "output_type": "display_data"
    },
    {
     "data": {
      "text/html": [
       "<div class='pagebreak'></div>"
      ],
      "text/plain": [
       "<IPython.core.display.HTML object>"
      ]
     },
     "metadata": {},
     "output_type": "display_data"
    },
    {
     "data": {
      "text/html": [
       "<h3>4.3 Sine — fundamental only (theory vs Keysight vs RND Lab)</h3>"
      ],
      "text/plain": [
       "<IPython.core.display.HTML object>"
      ]
     },
     "metadata": {},
     "output_type": "display_data"
    },
    {
     "data": {
      "text/html": [
       "<div>Two-panel figure (absolute dBVrms and normalized dBc) and corresponding tables.</div>"
      ],
      "text/plain": [
       "<IPython.core.display.HTML object>"
      ]
     },
     "metadata": {},
     "output_type": "display_data"
    },
    {
     "data": {
      "image/png": "[encoded data removed]",
      "text/plain": [
       "<Figure size 1176x408 with 2 Axes>"
      ]
     },
     "metadata": {},
     "output_type": "display_data"
    },
    {
     "data": {
      "text/html": [
       "<div class='caption'>Fig. 3. Sine — input. Theory vs Keysight vs RND Lab; CSV amplitudes are Vrms converted to dBVrms here.</div>"
      ],
      "text/plain": [
       "<IPython.core.display.HTML object>"
      ]
     },
     "metadata": {},
     "output_type": "display_data"
    },
    {
     "data": {
      "text/html": [
       "<div class='figure-note'>Interpretation: Only the fundamental ideally; higher orders near noise/leakage.</div>"
      ],
      "text/plain": [
       "<IPython.core.display.HTML object>"
      ]
     },
     "metadata": {},
     "output_type": "display_data"
    },
    {
     "data": {
      "text/html": [
       "<div>Only the fundamental ideally; higher orders reflect distortion/leakage.</div>"
      ],
      "text/plain": [
       "<IPython.core.display.HTML object>"
      ]
     },
     "metadata": {},
     "output_type": "display_data"
    },
    {
     "data": {
      "text/html": [
       "<div class='caption'>Table 4a. Sine — theory vs Keysight vs RND Lab (absolute dBVrms)</div>"
      ],
      "text/plain": [
       "<IPython.core.display.HTML object>"
      ]
     },
     "metadata": {},
     "output_type": "display_data"
    },
    {
     "data": {
      "text/html": [
       "<div>\n",
       "<style scoped>\n",
       "    .dataframe tbody tr th:only-of-type {\n",
       "        vertical-align: middle;\n",
       "    }\n",
       "\n",
       "    .dataframe tbody tr th {\n",
       "        vertical-align: top;\n",
       "    }\n",
       "\n",
       "    .dataframe thead th {\n",
       "        text-align: right;\n",
       "    }\n",
       "</style>\n",
       "<table border=\"1\" class=\"dataframe\">\n",
       "  <thead>\n",
       "    <tr style=\"text-align: right;\">\n",
       "      <th></th>\n",
       "      <th>n</th>\n",
       "      <th>theory_dBVrms</th>\n",
       "      <th>k_dBVrms</th>\n",
       "      <th>r_dBVrms</th>\n",
       "      <th>k_err_dB</th>\n",
       "      <th>r_err_dB</th>\n",
       "    </tr>\n",
       "  </thead>\n",
       "  <tbody>\n",
       "    <tr>\n",
       "      <th>0</th>\n",
       "      <td>1</td>\n",
       "      <td>4.95</td>\n",
       "      <td>-2.10</td>\n",
       "      <td>4.53</td>\n",
       "      <td>-7.05</td>\n",
       "      <td>-0.41</td>\n",
       "    </tr>\n",
       "    <tr>\n",
       "      <th>1</th>\n",
       "      <td>2</td>\n",
       "      <td>-240.00</td>\n",
       "      <td>-49.49</td>\n",
       "      <td>-48.16</td>\n",
       "      <td>190.51</td>\n",
       "      <td>191.84</td>\n",
       "    </tr>\n",
       "    <tr>\n",
       "      <th>2</th>\n",
       "      <td>3</td>\n",
       "      <td>-240.00</td>\n",
       "      <td>-54.04</td>\n",
       "      <td>-128.93</td>\n",
       "      <td>185.96</td>\n",
       "      <td>111.07</td>\n",
       "    </tr>\n",
       "    <tr>\n",
       "      <th>3</th>\n",
       "      <td>4</td>\n",
       "      <td>-240.00</td>\n",
       "      <td>-58.37</td>\n",
       "      <td>-128.93</td>\n",
       "      <td>181.63</td>\n",
       "      <td>111.07</td>\n",
       "    </tr>\n",
       "    <tr>\n",
       "      <th>4</th>\n",
       "      <td>5</td>\n",
       "      <td>-240.00</td>\n",
       "      <td>-54.04</td>\n",
       "      <td>-128.93</td>\n",
       "      <td>185.96</td>\n",
       "      <td>111.07</td>\n",
       "    </tr>\n",
       "    <tr>\n",
       "      <th>5</th>\n",
       "      <td>6</td>\n",
       "      <td>-240.00</td>\n",
       "      <td>-89.34</td>\n",
       "      <td>-128.93</td>\n",
       "      <td>150.66</td>\n",
       "      <td>111.07</td>\n",
       "    </tr>\n",
       "    <tr>\n",
       "      <th>6</th>\n",
       "      <td>7</td>\n",
       "      <td>-240.00</td>\n",
       "      <td>-54.04</td>\n",
       "      <td>-54.18</td>\n",
       "      <td>185.96</td>\n",
       "      <td>185.82</td>\n",
       "    </tr>\n",
       "    <tr>\n",
       "      <th>7</th>\n",
       "      <td>8</td>\n",
       "      <td>-240.00</td>\n",
       "      <td>-61.77</td>\n",
       "      <td>-128.93</td>\n",
       "      <td>178.23</td>\n",
       "      <td>111.07</td>\n",
       "    </tr>\n",
       "    <tr>\n",
       "      <th>8</th>\n",
       "      <td>9</td>\n",
       "      <td>-240.00</td>\n",
       "      <td>-64.15</td>\n",
       "      <td>-128.93</td>\n",
       "      <td>175.85</td>\n",
       "      <td>111.07</td>\n",
       "    </tr>\n",
       "    <tr>\n",
       "      <th>9</th>\n",
       "      <td>10</td>\n",
       "      <td>-240.00</td>\n",
       "      <td>-72.79</td>\n",
       "      <td>-128.93</td>\n",
       "      <td>167.21</td>\n",
       "      <td>111.07</td>\n",
       "    </tr>\n",
       "  </tbody>\n",
       "</table>\n",
       "</div>"
      ],
      "text/plain": [
       "    n  theory_dBVrms  k_dBVrms  r_dBVrms  k_err_dB  r_err_dB\n",
       "0   1           4.95     -2.10      4.53     -7.05     -0.41\n",
       "1   2        -240.00    -49.49    -48.16    190.51    191.84\n",
       "2   3        -240.00    -54.04   -128.93    185.96    111.07\n",
       "3   4        -240.00    -58.37   -128.93    181.63    111.07\n",
       "4   5        -240.00    -54.04   -128.93    185.96    111.07\n",
       "5   6        -240.00    -89.34   -128.93    150.66    111.07\n",
       "6   7        -240.00    -54.04    -54.18    185.96    185.82\n",
       "7   8        -240.00    -61.77   -128.93    178.23    111.07\n",
       "8   9        -240.00    -64.15   -128.93    175.85    111.07\n",
       "9  10        -240.00    -72.79   -128.93    167.21    111.07"
      ]
     },
     "metadata": {},
     "output_type": "display_data"
    },
    {
     "data": {
      "text/html": [
       "<div class='figure-note'>Small high-order components are expected from non-idealities.</div>"
      ],
      "text/plain": [
       "<IPython.core.display.HTML object>"
      ]
     },
     "metadata": {},
     "output_type": "display_data"
    },
    {
     "data": {
      "text/html": [
       "<div>Normalization to n=1 highlights relative distortion products.</div>"
      ],
      "text/plain": [
       "<IPython.core.display.HTML object>"
      ]
     },
     "metadata": {},
     "output_type": "display_data"
    },
    {
     "data": {
      "text/html": [
       "<div class='caption'>Table 4b. Sine — theory vs Keysight vs RND Lab (normalized dBc)</div>"
      ],
      "text/plain": [
       "<IPython.core.display.HTML object>"
      ]
     },
     "metadata": {},
     "output_type": "display_data"
    },
    {
     "data": {
      "text/html": [
       "<div>\n",
       "<style scoped>\n",
       "    .dataframe tbody tr th:only-of-type {\n",
       "        vertical-align: middle;\n",
       "    }\n",
       "\n",
       "    .dataframe tbody tr th {\n",
       "        vertical-align: top;\n",
       "    }\n",
       "\n",
       "    .dataframe thead th {\n",
       "        text-align: right;\n",
       "    }\n",
       "</style>\n",
       "<table border=\"1\" class=\"dataframe\">\n",
       "  <thead>\n",
       "    <tr style=\"text-align: right;\">\n",
       "      <th></th>\n",
       "      <th>n</th>\n",
       "      <th>theory_dBc</th>\n",
       "      <th>k_dBc</th>\n",
       "      <th>r_dBc</th>\n",
       "      <th>k_err_dBc</th>\n",
       "      <th>r_err_dBc</th>\n",
       "    </tr>\n",
       "  </thead>\n",
       "  <tbody>\n",
       "    <tr>\n",
       "      <th>0</th>\n",
       "      <td>1</td>\n",
       "      <td>0.00</td>\n",
       "      <td>0.00</td>\n",
       "      <td>0.00</td>\n",
       "      <td>0.00</td>\n",
       "      <td>0.00</td>\n",
       "    </tr>\n",
       "    <tr>\n",
       "      <th>1</th>\n",
       "      <td>2</td>\n",
       "      <td>-244.95</td>\n",
       "      <td>-47.38</td>\n",
       "      <td>-52.70</td>\n",
       "      <td>197.56</td>\n",
       "      <td>192.25</td>\n",
       "    </tr>\n",
       "    <tr>\n",
       "      <th>2</th>\n",
       "      <td>3</td>\n",
       "      <td>-244.95</td>\n",
       "      <td>-51.93</td>\n",
       "      <td>-133.47</td>\n",
       "      <td>193.02</td>\n",
       "      <td>111.48</td>\n",
       "    </tr>\n",
       "    <tr>\n",
       "      <th>3</th>\n",
       "      <td>4</td>\n",
       "      <td>-244.95</td>\n",
       "      <td>-56.27</td>\n",
       "      <td>-133.47</td>\n",
       "      <td>188.68</td>\n",
       "      <td>111.48</td>\n",
       "    </tr>\n",
       "    <tr>\n",
       "      <th>4</th>\n",
       "      <td>5</td>\n",
       "      <td>-244.95</td>\n",
       "      <td>-51.93</td>\n",
       "      <td>-133.47</td>\n",
       "      <td>193.02</td>\n",
       "      <td>111.48</td>\n",
       "    </tr>\n",
       "    <tr>\n",
       "      <th>5</th>\n",
       "      <td>6</td>\n",
       "      <td>-244.95</td>\n",
       "      <td>-87.24</td>\n",
       "      <td>-133.47</td>\n",
       "      <td>157.71</td>\n",
       "      <td>111.48</td>\n",
       "    </tr>\n",
       "    <tr>\n",
       "      <th>6</th>\n",
       "      <td>7</td>\n",
       "      <td>-244.95</td>\n",
       "      <td>-51.93</td>\n",
       "      <td>-58.72</td>\n",
       "      <td>193.02</td>\n",
       "      <td>186.23</td>\n",
       "    </tr>\n",
       "    <tr>\n",
       "      <th>7</th>\n",
       "      <td>8</td>\n",
       "      <td>-244.95</td>\n",
       "      <td>-59.67</td>\n",
       "      <td>-133.47</td>\n",
       "      <td>185.28</td>\n",
       "      <td>111.48</td>\n",
       "    </tr>\n",
       "    <tr>\n",
       "      <th>8</th>\n",
       "      <td>9</td>\n",
       "      <td>-244.95</td>\n",
       "      <td>-62.05</td>\n",
       "      <td>-133.47</td>\n",
       "      <td>182.90</td>\n",
       "      <td>111.48</td>\n",
       "    </tr>\n",
       "    <tr>\n",
       "      <th>9</th>\n",
       "      <td>10</td>\n",
       "      <td>-244.95</td>\n",
       "      <td>-70.68</td>\n",
       "      <td>-133.47</td>\n",
       "      <td>174.26</td>\n",
       "      <td>111.48</td>\n",
       "    </tr>\n",
       "  </tbody>\n",
       "</table>\n",
       "</div>"
      ],
      "text/plain": [
       "    n  theory_dBc  k_dBc   r_dBc  k_err_dBc  r_err_dBc\n",
       "0   1        0.00   0.00    0.00       0.00       0.00\n",
       "1   2     -244.95 -47.38  -52.70     197.56     192.25\n",
       "2   3     -244.95 -51.93 -133.47     193.02     111.48\n",
       "3   4     -244.95 -56.27 -133.47     188.68     111.48\n",
       "4   5     -244.95 -51.93 -133.47     193.02     111.48\n",
       "5   6     -244.95 -87.24 -133.47     157.71     111.48\n",
       "6   7     -244.95 -51.93  -58.72     193.02     186.23\n",
       "7   8     -244.95 -59.67 -133.47     185.28     111.48\n",
       "8   9     -244.95 -62.05 -133.47     182.90     111.48\n",
       "9  10     -244.95 -70.68 -133.47     174.26     111.48"
      ]
     },
     "metadata": {},
     "output_type": "display_data"
    },
    {
     "data": {
      "text/html": [
       "<div class='figure-note'>Good setups keep higher orders far below 0 dBc.</div>"
      ],
      "text/plain": [
       "<IPython.core.display.HTML object>"
      ]
     },
     "metadata": {},
     "output_type": "display_data"
    }
   ],
   "source": [
    "# ---------- Begin section ----------\n",
    "display(HTML(\"<div class='pagebreak'></div>\"))\n",
    "\n",
    "# Optional: map your CSV filenames for both sources (edit if needed)\n",
    "CSV_KEYSIGHT = {\n",
    "    'saw': \"trace_saw_fft.csv\",\n",
    "    'tri': \"trace_triangle_fft.csv\",\n",
    "    'sin': \"trace_sine_fft.csv\",\n",
    "}\n",
    "CSV_RND = {\n",
    "    'saw': \"RND_lab_saw_fft.csv\",        # <-- change to your actual RND sawtooth CSV\n",
    "    'tri': \"RND_lab_triangle_fft.csv\",   # <-- change to your actual RND triangle CSV\n",
    "    'sin': \"RND_lab_sine_1khz_fft.csv\",  # <-- change to your actual RND sine CSV\n",
    "}\n",
    "\n",
    "# ===== 4.1 Sawtooth =====\n",
    "display(HTML(\"<h3>4.1 Sawtooth — theory vs Keysight vs RND Lab</h3>\"))\n",
    "display(HTML(\"<div>Two-panel figure (absolute dBVrms and normalized dBc) and corresponding tables.</div>\"))\n",
    "\n",
    "df_saw = compare_three_panel(\n",
    "    CSV_KEYSIGHT['saw'],\n",
    "    CSV_RND['saw'],\n",
    "    waveform='saw',\n",
    "    apply_rc_to_theory=False,\n",
    "    title_prefix=\"Fig. 1. Sawtooth\"\n",
    ")\n",
    "note_theory_vs_meas('saw', apply_rc=False)\n",
    "\n",
    "show_case_table_abs(\n",
    "    df_saw,\n",
    "    \"Table 2a. Sawtooth — theory vs Keysight vs RND Lab (absolute dBVrms)\",\n",
    "    preface_text=\"First ten harmonics at multiples of 1 kHz.\",\n",
    "    closing_text=\"Amplitudes decay ~1/n.\"\n",
    ")\n",
    "show_case_table_rel(\n",
    "    df_saw,\n",
    "    \"Table 2b. Sawtooth — theory vs Keysight vs RND Lab (normalized dBc)\",\n",
    "    preface_text=\"Per-trace normalization to n=1 removes absolute scaling.\",\n",
    "    closing_text=\"Shape agreement highlights spectral slope independent of amplitude offset.\"\n",
    ")\n",
    "\n",
    "# ===== 4.2 Triangle =====\n",
    "display(HTML(\"<div class='pagebreak'></div>\"))\n",
    "display(HTML(\"<h3>4.2 Triangle — theory vs Keysight vs RND Lab</h3>\"))\n",
    "display(HTML(\"<div>Two-panel figure (absolute dBVrms and normalized dBc) and corresponding tables.</div>\"))\n",
    "\n",
    "df_tri = compare_three_panel(\n",
    "    CSV_KEYSIGHT['tri'],\n",
    "    CSV_RND['tri'],\n",
    "    waveform='tri',\n",
    "    apply_rc_to_theory=False,\n",
    "    title_prefix=\"Fig. 2. Triangle\"\n",
    ")\n",
    "note_theory_vs_meas('tri', apply_rc=False)\n",
    "\n",
    "show_case_table_abs(\n",
    "    df_tri,\n",
    "    \"Table 3a. Triangle — theory vs Keysight vs RND Lab (absolute dBVrms)\",\n",
    "    preface_text=\"Only odd harmonics expected by theory; even n may sit near noise floor.\",\n",
    "    closing_text=\"Odd harmonics decay ~1/n².\"\n",
    ")\n",
    "show_case_table_rel(\n",
    "    df_tri,\n",
    "    \"Table 3b. Triangle — theory vs Keysight vs RND Lab (normalized dBc)\",\n",
    "    preface_text=\"Even n omitted by theory → dBc values may be undefined or very low by measurement.\",\n",
    "    closing_text=\"Normalized comparison emphasizes the odd-harmonic envelope.\"\n",
    ")\n",
    "\n",
    "# ===== 4.3 Sine =====\n",
    "display(HTML(\"<div class='pagebreak'></div>\"))\n",
    "display(HTML(\"<h3>4.3 Sine — fundamental only (theory vs Keysight vs RND Lab)</h3>\"))\n",
    "display(HTML(\"<div>Two-panel figure (absolute dBVrms and normalized dBc) and corresponding tables.</div>\"))\n",
    "\n",
    "df_sin = compare_three_panel(\n",
    "    CSV_KEYSIGHT['sin'],\n",
    "    CSV_RND['sin'],\n",
    "    waveform='sin',\n",
    "    apply_rc_to_theory=False,\n",
    "    title_prefix=\"Fig. 3. Sine\"\n",
    ")\n",
    "note_theory_vs_meas('sin', apply_rc=False)\n",
    "\n",
    "show_case_table_abs(\n",
    "    df_sin,\n",
    "    \"Table 4a. Sine — theory vs Keysight vs RND Lab (absolute dBVrms)\",\n",
    "    preface_text=\"Only the fundamental ideally; higher orders reflect distortion/leakage.\",\n",
    "    closing_text=\"Small high-order components are expected from non-idealities.\"\n",
    ")\n",
    "show_case_table_rel(\n",
    "    df_sin,\n",
    "    \"Table 4b. Sine — theory vs Keysight vs RND Lab (normalized dBc)\",\n",
    "    preface_text=\"Normalization to n=1 highlights relative distortion products.\",\n",
    "    closing_text=\"Good setups keep higher orders far below 0 dBc.\"\n",
    ")"
   ]
  },
  {
   "cell_type": "code",
   "execution_count": 77,
   "id": "8ddb172a",
   "metadata": {},
   "outputs": [
    {
     "data": {
      "text/html": [
       "<div class='pagebreak'></div>"
      ],
      "text/plain": [
       "<IPython.core.display.HTML object>"
      ]
     },
     "metadata": {},
     "output_type": "display_data"
    },
    {
     "data": {
      "text/html": [
       "<h3>4.4 RC filter</h3>"
      ],
      "text/plain": [
       "<IPython.core.display.HTML object>"
      ]
     },
     "metadata": {},
     "output_type": "display_data"
    },
    {
     "data": {
      "text/html": [
       "<div>Integrated comparison: four-trace overlays for input vs after RC (dBVrms & dBc) for both sources, with theory markers in dBc. Numeric attenuation tables included.</div>"
      ],
      "text/plain": [
       "<IPython.core.display.HTML object>"
      ]
     },
     "metadata": {},
     "output_type": "display_data"
    },
    {
     "data": {
      "image/png": "[encoded data removed]",
      "text/plain": [
       "<Figure size 936x408 with 1 Axes>"
      ]
     },
     "metadata": {},
     "output_type": "display_data"
    },
    {
     "data": {
      "text/html": [
       "<div class='caption'>Fig. 4a. Four-trace overlay (input/after for both sources). Vrms from CSV converted to dBVrms here.</div>"
      ],
      "text/plain": [
       "<IPython.core.display.HTML object>"
      ]
     },
     "metadata": {},
     "output_type": "display_data"
    },
    {
     "data": {
      "image/png": "[encoded data removed]",
      "text/plain": [
       "<Figure size 936x408 with 1 Axes>"
      ]
     },
     "metadata": {},
     "output_type": "display_data"
    },
    {
     "data": {
      "text/html": [
       "<div class='caption'>Fig. 4b. Normalized spectra (Keysight & RND, input/after). Vertical dashed ticks = theoretical unfiltered harmonics; dash-dot ticks = theoretical harmonics after RC (|Fourier|·|H|, both normalized to n=1).</div>"
      ],
      "text/plain": [
       "<IPython.core.display.HTML object>"
      ]
     },
     "metadata": {},
     "output_type": "display_data"
    },
    {
     "data": {
      "text/html": [
       "<div style='font-weight:600' class='caption'>Table 5a. Sawtooth @ 1 kHz — Keysight before vs after RC (dBVrms & ΔdB)</div>"
      ],
      "text/plain": [
       "<IPython.core.display.HTML object>"
      ]
     },
     "metadata": {},
     "output_type": "display_data"
    },
    {
     "data": {
      "text/html": [
       "<div class='figure-note'>Includes measured input/after/Δ for Keysight, plus theoretical before/after and theoretical Δ.</div>"
      ],
      "text/plain": [
       "<IPython.core.display.HTML object>"
      ]
     },
     "metadata": {},
     "output_type": "display_data"
    },
    {
     "data": {
      "text/html": [
       "<div>\n",
       "<style scoped>\n",
       "    .dataframe tbody tr th:only-of-type {\n",
       "        vertical-align: middle;\n",
       "    }\n",
       "\n",
       "    .dataframe tbody tr th {\n",
       "        vertical-align: top;\n",
       "    }\n",
       "\n",
       "    .dataframe thead th {\n",
       "        text-align: right;\n",
       "    }\n",
       "</style>\n",
       "<table border=\"1\" class=\"dataframe\">\n",
       "  <thead>\n",
       "    <tr style=\"text-align: right;\">\n",
       "      <th></th>\n",
       "      <th>n</th>\n",
       "      <th>K_in_dBV</th>\n",
       "      <th>K_out_dBV</th>\n",
       "      <th>K_atten_dB</th>\n",
       "      <th>T_pre_dBV</th>\n",
       "      <th>T_post_dBV</th>\n",
       "      <th>T_atten_dB</th>\n",
       "    </tr>\n",
       "  </thead>\n",
       "  <tbody>\n",
       "    <tr>\n",
       "      <th>0</th>\n",
       "      <td>1</td>\n",
       "      <td>-4.48</td>\n",
       "      <td>-0.42</td>\n",
       "      <td>4.07</td>\n",
       "      <td>1.03</td>\n",
       "      <td>0.04</td>\n",
       "      <td>-0.98</td>\n",
       "    </tr>\n",
       "    <tr>\n",
       "      <th>1</th>\n",
       "      <td>2</td>\n",
       "      <td>-5.12</td>\n",
       "      <td>-9.06</td>\n",
       "      <td>-3.93</td>\n",
       "      <td>-4.99</td>\n",
       "      <td>-8.04</td>\n",
       "      <td>-3.04</td>\n",
       "    </tr>\n",
       "    <tr>\n",
       "      <th>2</th>\n",
       "      <td>3</td>\n",
       "      <td>-8.85</td>\n",
       "      <td>-13.89</td>\n",
       "      <td>-5.04</td>\n",
       "      <td>-8.52</td>\n",
       "      <td>-13.68</td>\n",
       "      <td>-5.17</td>\n",
       "    </tr>\n",
       "    <tr>\n",
       "      <th>3</th>\n",
       "      <td>4</td>\n",
       "      <td>-11.71</td>\n",
       "      <td>-18.20</td>\n",
       "      <td>-6.49</td>\n",
       "      <td>-11.02</td>\n",
       "      <td>-18.06</td>\n",
       "      <td>-7.04</td>\n",
       "    </tr>\n",
       "    <tr>\n",
       "      <th>4</th>\n",
       "      <td>5</td>\n",
       "      <td>-12.99</td>\n",
       "      <td>-22.48</td>\n",
       "      <td>-9.49</td>\n",
       "      <td>-12.95</td>\n",
       "      <td>-21.62</td>\n",
       "      <td>-8.66</td>\n",
       "    </tr>\n",
       "    <tr>\n",
       "      <th>5</th>\n",
       "      <td>6</td>\n",
       "      <td>-16.04</td>\n",
       "      <td>-25.09</td>\n",
       "      <td>-9.05</td>\n",
       "      <td>-14.54</td>\n",
       "      <td>-24.60</td>\n",
       "      <td>-10.06</td>\n",
       "    </tr>\n",
       "    <tr>\n",
       "      <th>6</th>\n",
       "      <td>7</td>\n",
       "      <td>-16.07</td>\n",
       "      <td>-27.34</td>\n",
       "      <td>-11.27</td>\n",
       "      <td>-15.88</td>\n",
       "      <td>-27.16</td>\n",
       "      <td>-11.29</td>\n",
       "    </tr>\n",
       "    <tr>\n",
       "      <th>7</th>\n",
       "      <td>8</td>\n",
       "      <td>-17.51</td>\n",
       "      <td>-29.84</td>\n",
       "      <td>-12.33</td>\n",
       "      <td>-17.04</td>\n",
       "      <td>-29.40</td>\n",
       "      <td>-12.37</td>\n",
       "    </tr>\n",
       "    <tr>\n",
       "      <th>8</th>\n",
       "      <td>9</td>\n",
       "      <td>-18.61</td>\n",
       "      <td>-32.60</td>\n",
       "      <td>-13.99</td>\n",
       "      <td>-18.06</td>\n",
       "      <td>-31.40</td>\n",
       "      <td>-13.34</td>\n",
       "    </tr>\n",
       "    <tr>\n",
       "      <th>9</th>\n",
       "      <td>10</td>\n",
       "      <td>-18.93</td>\n",
       "      <td>-33.76</td>\n",
       "      <td>-14.83</td>\n",
       "      <td>-18.97</td>\n",
       "      <td>-33.19</td>\n",
       "      <td>-14.22</td>\n",
       "    </tr>\n",
       "  </tbody>\n",
       "</table>\n",
       "</div>"
      ],
      "text/plain": [
       "    n  K_in_dBV  K_out_dBV  K_atten_dB  T_pre_dBV  T_post_dBV  T_atten_dB\n",
       "0   1     -4.48      -0.42        4.07       1.03        0.04       -0.98\n",
       "1   2     -5.12      -9.06       -3.93      -4.99       -8.04       -3.04\n",
       "2   3     -8.85     -13.89       -5.04      -8.52      -13.68       -5.17\n",
       "3   4    -11.71     -18.20       -6.49     -11.02      -18.06       -7.04\n",
       "4   5    -12.99     -22.48       -9.49     -12.95      -21.62       -8.66\n",
       "5   6    -16.04     -25.09       -9.05     -14.54      -24.60      -10.06\n",
       "6   7    -16.07     -27.34      -11.27     -15.88      -27.16      -11.29\n",
       "7   8    -17.51     -29.84      -12.33     -17.04      -29.40      -12.37\n",
       "8   9    -18.61     -32.60      -13.99     -18.06      -31.40      -13.34\n",
       "9  10    -18.93     -33.76      -14.83     -18.97      -33.19      -14.22"
      ]
     },
     "metadata": {},
     "output_type": "display_data"
    },
    {
     "data": {
      "text/html": [
       "<div style='font-weight:600' class='caption'>Table 5b. Sawtooth @ 1 kHz — RND Lab before vs after RC (dBVrms & ΔdB)</div>"
      ],
      "text/plain": [
       "<IPython.core.display.HTML object>"
      ]
     },
     "metadata": {},
     "output_type": "display_data"
    },
    {
     "data": {
      "text/html": [
       "<div class='figure-note'>Includes measured input/after/Δ for RND Lab, plus theoretical before/after and theoretical Δ.</div>"
      ],
      "text/plain": [
       "<IPython.core.display.HTML object>"
      ]
     },
     "metadata": {},
     "output_type": "display_data"
    },
    {
     "data": {
      "text/html": [
       "<div>\n",
       "<style scoped>\n",
       "    .dataframe tbody tr th:only-of-type {\n",
       "        vertical-align: middle;\n",
       "    }\n",
       "\n",
       "    .dataframe tbody tr th {\n",
       "        vertical-align: top;\n",
       "    }\n",
       "\n",
       "    .dataframe thead th {\n",
       "        text-align: right;\n",
       "    }\n",
       "</style>\n",
       "<table border=\"1\" class=\"dataframe\">\n",
       "  <thead>\n",
       "    <tr style=\"text-align: right;\">\n",
       "      <th></th>\n",
       "      <th>n</th>\n",
       "      <th>R_in_dBV</th>\n",
       "      <th>R_out_dBV</th>\n",
       "      <th>R_atten_dB</th>\n",
       "      <th>T_pre_dBV</th>\n",
       "      <th>T_post_dBV</th>\n",
       "      <th>T_atten_dB</th>\n",
       "    </tr>\n",
       "  </thead>\n",
       "  <tbody>\n",
       "    <tr>\n",
       "      <th>0</th>\n",
       "      <td>1</td>\n",
       "      <td>20.89</td>\n",
       "      <td>-0.35</td>\n",
       "      <td>-21.24</td>\n",
       "      <td>1.03</td>\n",
       "      <td>0.04</td>\n",
       "      <td>-0.98</td>\n",
       "    </tr>\n",
       "    <tr>\n",
       "      <th>1</th>\n",
       "      <td>2</td>\n",
       "      <td>14.59</td>\n",
       "      <td>-9.65</td>\n",
       "      <td>-24.24</td>\n",
       "      <td>-4.99</td>\n",
       "      <td>-8.04</td>\n",
       "      <td>-3.04</td>\n",
       "    </tr>\n",
       "    <tr>\n",
       "      <th>2</th>\n",
       "      <td>3</td>\n",
       "      <td>10.47</td>\n",
       "      <td>-17.54</td>\n",
       "      <td>-28.01</td>\n",
       "      <td>-8.52</td>\n",
       "      <td>-13.68</td>\n",
       "      <td>-5.17</td>\n",
       "    </tr>\n",
       "    <tr>\n",
       "      <th>3</th>\n",
       "      <td>4</td>\n",
       "      <td>7.96</td>\n",
       "      <td>-22.04</td>\n",
       "      <td>-30.00</td>\n",
       "      <td>-11.02</td>\n",
       "      <td>-18.06</td>\n",
       "      <td>-7.04</td>\n",
       "    </tr>\n",
       "    <tr>\n",
       "      <th>4</th>\n",
       "      <td>5</td>\n",
       "      <td>6.48</td>\n",
       "      <td>-23.43</td>\n",
       "      <td>-29.91</td>\n",
       "      <td>-12.95</td>\n",
       "      <td>-21.62</td>\n",
       "      <td>-8.66</td>\n",
       "    </tr>\n",
       "    <tr>\n",
       "      <th>5</th>\n",
       "      <td>6</td>\n",
       "      <td>5.23</td>\n",
       "      <td>-25.09</td>\n",
       "      <td>-30.32</td>\n",
       "      <td>-14.54</td>\n",
       "      <td>-24.60</td>\n",
       "      <td>-10.06</td>\n",
       "    </tr>\n",
       "    <tr>\n",
       "      <th>6</th>\n",
       "      <td>7</td>\n",
       "      <td>3.93</td>\n",
       "      <td>-27.34</td>\n",
       "      <td>-31.27</td>\n",
       "      <td>-15.88</td>\n",
       "      <td>-27.16</td>\n",
       "      <td>-11.29</td>\n",
       "    </tr>\n",
       "    <tr>\n",
       "      <th>7</th>\n",
       "      <td>8</td>\n",
       "      <td>2.72</td>\n",
       "      <td>-30.10</td>\n",
       "      <td>-32.82</td>\n",
       "      <td>-17.04</td>\n",
       "      <td>-29.40</td>\n",
       "      <td>-12.37</td>\n",
       "    </tr>\n",
       "    <tr>\n",
       "      <th>8</th>\n",
       "      <td>9</td>\n",
       "      <td>1.30</td>\n",
       "      <td>-32.97</td>\n",
       "      <td>-34.28</td>\n",
       "      <td>-18.06</td>\n",
       "      <td>-31.40</td>\n",
       "      <td>-13.34</td>\n",
       "    </tr>\n",
       "    <tr>\n",
       "      <th>9</th>\n",
       "      <td>10</td>\n",
       "      <td>-0.12</td>\n",
       "      <td>-37.28</td>\n",
       "      <td>-37.16</td>\n",
       "      <td>-18.97</td>\n",
       "      <td>-33.19</td>\n",
       "      <td>-14.22</td>\n",
       "    </tr>\n",
       "  </tbody>\n",
       "</table>\n",
       "</div>"
      ],
      "text/plain": [
       "    n  R_in_dBV  R_out_dBV  R_atten_dB  T_pre_dBV  T_post_dBV  T_atten_dB\n",
       "0   1     20.89      -0.35      -21.24       1.03        0.04       -0.98\n",
       "1   2     14.59      -9.65      -24.24      -4.99       -8.04       -3.04\n",
       "2   3     10.47     -17.54      -28.01      -8.52      -13.68       -5.17\n",
       "3   4      7.96     -22.04      -30.00     -11.02      -18.06       -7.04\n",
       "4   5      6.48     -23.43      -29.91     -12.95      -21.62       -8.66\n",
       "5   6      5.23     -25.09      -30.32     -14.54      -24.60      -10.06\n",
       "6   7      3.93     -27.34      -31.27     -15.88      -27.16      -11.29\n",
       "7   8      2.72     -30.10      -32.82     -17.04      -29.40      -12.37\n",
       "8   9      1.30     -32.97      -34.28     -18.06      -31.40      -13.34\n",
       "9  10     -0.12     -37.28      -37.16     -18.97      -33.19      -14.22"
      ]
     },
     "metadata": {},
     "output_type": "display_data"
    },
    {
     "data": {
      "text/html": [
       "<div class='figure-note'>Measured attenuation increases with harmonic order (~−20 dB/dec). The theoretical Δ equals 20·log10|H(j·2π·n·F0)| and aligns closely with measurements.</div>"
      ],
      "text/plain": [
       "<IPython.core.display.HTML object>"
      ]
     },
     "metadata": {},
     "output_type": "display_data"
    },
    {
     "data": {
      "text/html": [
       "<div class='pagebreak'></div>"
      ],
      "text/plain": [
       "<IPython.core.display.HTML object>"
      ]
     },
     "metadata": {},
     "output_type": "display_data"
    },
    {
     "data": {
      "text/html": [
       "<div class='keep-with-next nobreak'>The following FFT views at 1 kHz, 10 kHz, and 100 kHz show how higher frequencies are attenuated more strongly by the RC filter.</div>"
      ],
      "text/plain": [
       "<IPython.core.display.HTML object>"
      ]
     },
     "metadata": {},
     "output_type": "display_data"
    },
    {
     "data": {
      "image/png": "[encoded data removed]",
      "text/plain": [
       "<IPython.core.display.Image object>"
      ]
     },
     "metadata": {
      "image/png": {
       "width": 360
      }
     },
     "output_type": "display_data"
    },
    {
     "data": {
      "text/html": [
       "<div class='caption'>Fig. 5. RC near 1 kHz (FFT) — measured with Keysight oscilloscope FFT</div>"
      ],
      "text/plain": [
       "<IPython.core.display.HTML object>"
      ]
     },
     "metadata": {},
     "output_type": "display_data"
    },
    {
     "data": {
      "image/png": "[encoded data removed]",
      "text/plain": [
       "<IPython.core.display.Image object>"
      ]
     },
     "metadata": {
      "image/png": {
       "width": 360
      }
     },
     "output_type": "display_data"
    },
    {
     "data": {
      "text/html": [
       "<div class='caption'>Fig. 6. RC near 10 kHz (FFT) — measured with Keysight oscilloscope FFT</div>"
      ],
      "text/plain": [
       "<IPython.core.display.HTML object>"
      ]
     },
     "metadata": {},
     "output_type": "display_data"
    },
    {
     "data": {
      "image/png": "[encoded data removed]",
      "text/plain": [
       "<IPython.core.display.Image object>"
      ]
     },
     "metadata": {
      "image/png": {
       "width": 360
      }
     },
     "output_type": "display_data"
    },
    {
     "data": {
      "text/html": [
       "<div class='caption'>Fig. 7. RC near 100 kHz (FFT) — measured with Keysight oscilloscope FFT</div>"
      ],
      "text/plain": [
       "<IPython.core.display.HTML object>"
      ]
     },
     "metadata": {},
     "output_type": "display_data"
    },
    {
     "data": {
      "text/html": [
       "<div class='pagebreak'></div>"
      ],
      "text/plain": [
       "<IPython.core.display.HTML object>"
      ]
     },
     "metadata": {},
     "output_type": "display_data"
    },
    {
     "data": {
      "text/html": [
       "<div class='keep-with-next nobreak'>Time-domain snapshots of the RC output at 1 kHz, 10 kHz, and 100 kHz confirm that the waveform becomes progressively smoother.</div>"
      ],
      "text/plain": [
       "<IPython.core.display.HTML object>"
      ]
     },
     "metadata": {},
     "output_type": "display_data"
    },
    {
     "data": {
      "image/png": "[encoded data removed]",
      "text/plain": [
       "<IPython.core.display.Image object>"
      ]
     },
     "metadata": {
      "image/png": {
       "width": 360
      }
     },
     "output_type": "display_data"
    },
    {
     "data": {
      "text/html": [
       "<div class='caption'>Fig. 8. 1 kHz time-domain (RC output)</div>"
      ],
      "text/plain": [
       "<IPython.core.display.HTML object>"
      ]
     },
     "metadata": {},
     "output_type": "display_data"
    },
    {
     "data": {
      "image/png": "[encoded data removed]",
      "text/plain": [
       "<IPython.core.display.Image object>"
      ]
     },
     "metadata": {
      "image/png": {
       "width": 360
      }
     },
     "output_type": "display_data"
    },
    {
     "data": {
      "text/html": [
       "<div class='caption'>Fig. 9. 10 kHz time-domain (RC output)</div>"
      ],
      "text/plain": [
       "<IPython.core.display.HTML object>"
      ]
     },
     "metadata": {},
     "output_type": "display_data"
    },
    {
     "data": {
      "image/png": "[encoded data removed]",
      "text/plain": [
       "<IPython.core.display.Image object>"
      ]
     },
     "metadata": {
      "image/png": {
       "width": 360
      }
     },
     "output_type": "display_data"
    },
    {
     "data": {
      "text/html": [
       "<div class='caption'>Fig. 10. 100 kHz time-domain (RC output)</div>"
      ],
      "text/plain": [
       "<IPython.core.display.HTML object>"
      ]
     },
     "metadata": {},
     "output_type": "display_data"
    },
    {
     "data": {
      "text/html": [
       "<div class='figure-note keep-with-next nobreak'>These observations agree with the FFT analysis and confirm the expected low-pass behavior.</div>"
      ],
      "text/plain": [
       "<IPython.core.display.HTML object>"
      ]
     },
     "metadata": {},
     "output_type": "display_data"
    }
   ],
   "source": [
    "# ===== 4.4 RC unified =====\n",
    "display(HTML(\"<div class='pagebreak'></div>\"))\n",
    "display(HTML(\"<h3>4.4 RC filter</h3>\"))\n",
    "display(HTML(\"<div>Integrated comparison: four-trace overlays for input vs after RC (dBVrms & dBc) for both sources, with theory markers in dBc. Numeric attenuation tables included.</div>\"))\n",
    "\n",
    "# --- 4.4.2 BEFORE vs AFTER RC (both sources in SAME plots) + THEORY overlays ---\n",
    "\n",
    "def build_cmp_df(in_csv, out_csv):\n",
    "    \"\"\"Load spectra (Vrms->dBVrms), pick harmonics, compute per-trace dBc and attenuation (after - before).\"\"\"\n",
    "    spec_in  = read_scope_fft_vrms(in_csv)\n",
    "    spec_out = read_scope_fft_vrms(out_csv)\n",
    "\n",
    "    meas_in  = pick_harmonics(spec_in,  n_max=N_HARM, col='dBVrms').rename(columns={'dBVrms':'in_dBV'})\n",
    "    meas_out = pick_harmonics(spec_out, n_max=N_HARM, col='dBVrms').rename(columns={'dBVrms':'out_dBV'})\n",
    "    df = pd.merge(meas_in[['n','in_dBV']], meas_out[['n','out_dBV']], on='n', how='inner')\n",
    "\n",
    "    # Per-trace normalization (relative to n=1) → dBc\n",
    "    df['in_dBc']  = to_dBc(df['n'], df['in_dBV'])\n",
    "    df['out_dBc'] = to_dBc(df['n'], df['out_dBV'])\n",
    "\n",
    "    # Attenuation (after - before) in dB\n",
    "    df['atten_dB'] = df['out_dBV'] - df['in_dBV']\n",
    "    return df\n",
    "\n",
    "# Build per-source before/after comparisons\n",
    "ks = build_cmp_df(\"trace_saw_fft.csv\",            \"rc_fft_1khz.csv\")                 # Keysight\n",
    "rn = build_cmp_df(\"RND_lab_saw_fft.csv\",          \"RND_lab_saw_1khz_fft_RC.csv\")     # RND Lab\n",
    "\n",
    "# Theory dBc (vertical markers): BEFORE RC and AFTER RC\n",
    "theo_pre  = theory_df(\"saw\", apply_rc=False, n_max=N_HARM)[['n','theory_dBVrms','theory_dBc']].rename(\n",
    "    columns={'theory_dBVrms':'T_pre_dBV',  'theory_dBc':'theory_pre_dBc'}\n",
    ")\n",
    "theo_post = theory_df(\"saw\", apply_rc=True,  n_max=N_HARM)[['n','theory_dBVrms','theory_dBc']].rename(\n",
    "    columns={'theory_dBVrms':'T_post_dBV', 'theory_dBc':'theory_post_dBc'}\n",
    ")\n",
    "\n",
    "# Merge theory grids\n",
    "theo = theo_pre.merge(theo_post, on='n', how='inner')\n",
    "n = theo['n'].values\n",
    "\n",
    "# -------------------- PLOTS --------------------\n",
    "\n",
    "# (A) Absolute dBVrms overlay\n",
    "fig, ax = plt.subplots(figsize=(7.8, 3.4))\n",
    "ax.stem(n-0.18, ks['in_dBV'],  linefmt='C0-', markerfmt='C0o', basefmt=' ', label='Keysight input (dBVrms)')\n",
    "ax.stem(n-0.06, ks['out_dBV'], linefmt='C1-', markerfmt='C1s', basefmt=' ', label='Keysight after RC (dBVrms)')\n",
    "ax.stem(n+0.06, rn['in_dBV'],  linefmt='C2-', markerfmt='C2^', basefmt=' ', label='RND input (dBVrms)')\n",
    "ax.stem(n+0.18, rn['out_dBV'], linefmt='C3-', markerfmt='C3D', basefmt=' ', label='RND after RC (dBVrms)')\n",
    "ax.set_xlabel('Harmonic order n'); ax.set_ylabel('Amplitude [dBVrms]')\n",
    "ax.set_title('Fig. 4a. Sawtooth @ 1 kHz — Input vs After RC (Keysight & RND, dBVrms)')\n",
    "ax.grid(alpha=0.35); ax.legend(fontsize=8)\n",
    "fig.tight_layout(); plt.show()\n",
    "caption(\"Fig. 4a. Four-trace overlay (input/after for both sources). Vrms from CSV converted to dBVrms here.\")\n",
    "\n",
    "# (B) Normalized dBc overlay + THEORY markers\n",
    "fig, ax = plt.subplots(figsize=(7.8, 3.4))\n",
    "K_in_dBc, K_out_dBc = to_dBc(n, ks['in_dBV']), to_dBc(n, ks['out_dBV'])\n",
    "R_in_dBc, R_out_dBc = to_dBc(n, rn['in_dBV']), to_dBc(n, rn['out_dBV'])\n",
    "\n",
    "ax.stem(n-0.18, K_in_dBc,  linefmt='C0-', markerfmt='C0o', basefmt=' ', label='Keysight input (dBc)')\n",
    "ax.stem(n-0.06, K_out_dBc, linefmt='C1-', markerfmt='C1s', basefmt=' ', label='Keysight after RC (dBc)')\n",
    "ax.stem(n+0.06, R_in_dBc,  linefmt='C2-', markerfmt='C2^', basefmt=' ', label='RND input (dBc)')\n",
    "ax.stem(n+0.18, R_out_dBc, linefmt='C3-', markerfmt='C3D', basefmt=' ', label='RND after RC (dBc)')\n",
    "\n",
    "def theory_ticks(xn, yvals, height=0.6, **kwargs):\n",
    "    ax.vlines(xn, ymin=yvals-height/2, ymax=yvals+height/2, **kwargs)\n",
    "\n",
    "theory_ticks(n, theo['theory_pre_dBc'].values, 0.6, colors='k', linestyles='dashed',  label='Theory before RC (dBc)')\n",
    "theory_ticks(n, theo['theory_post_dBc'].values,0.6, colors='k', linestyles='dashdot', label='Theory after RC (dBc)')\n",
    "\n",
    "ax.set_xlabel('Harmonic order n'); ax.set_ylabel('Amplitude [dBc]')\n",
    "ax.set_title('Fig. 4b. Sawtooth @ 1 kHz — Spectral shape vs Theory (vertical markers)')\n",
    "ax.grid(alpha=0.35); ax.legend(fontsize=8, ncol=2)\n",
    "fig.tight_layout(); plt.show()\n",
    "caption(\"Fig. 4b. Normalized spectra (Keysight & RND, input/after). Vertical dashed ticks = theoretical unfiltered harmonics; dash-dot ticks = theoretical harmonics after RC (|Fourier|·|H|, both normalized to n=1).\")\n",
    "\n",
    "# -------------------- TABLES --------------------\n",
    "\n",
    "# Build combined attenuation DataFrame\n",
    "T_atten_dB = theo['T_post_dBV'] - theo['T_pre_dBV']\n",
    "att = (pd.DataFrame({'n': n})\n",
    "       .merge(ks[['n','in_dBV','out_dBV','atten_dB']].rename(columns={\n",
    "           'in_dBV':'K_in_dBV','out_dBV':'K_out_dBV','atten_dB':'K_atten_dB'\n",
    "       }), on='n', how='left')\n",
    "       .merge(rn[['n','in_dBV','out_dBV','atten_dB']].rename(columns={\n",
    "           'in_dBV':'R_in_dBV','out_dBV':'R_out_dBV','atten_dB':'R_atten_dB'\n",
    "       }), on='n', how='left')\n",
    "       .merge(theo[['n','T_pre_dBV','T_post_dBV']], on='n', how='left'))\n",
    "att['T_atten_dB'] = T_atten_dB.values\n",
    "\n",
    "# Keysight table\n",
    "keysight_tbl = att[['n','K_in_dBV','K_out_dBV','K_atten_dB','T_pre_dBV','T_post_dBV','T_atten_dB']]\n",
    "display(HTML(\"<div style='font-weight:600' class='caption'>Table 5a. Sawtooth @ 1 kHz — Keysight before vs after RC (dBVrms & ΔdB)</div>\"))\n",
    "display(HTML(\"<div class='figure-note'>Includes measured input/after/Δ for Keysight, plus theoretical before/after and theoretical Δ.</div>\"))\n",
    "display(keysight_tbl.round(2))\n",
    "\n",
    "# RND table\n",
    "rnd_tbl = att[['n','R_in_dBV','R_out_dBV','R_atten_dB','T_pre_dBV','T_post_dBV','T_atten_dB']]\n",
    "display(HTML(\"<div style='font-weight:600' class='caption'>Table 5b. Sawtooth @ 1 kHz — RND Lab before vs after RC (dBVrms & ΔdB)</div>\"))\n",
    "display(HTML(\"<div class='figure-note'>Includes measured input/after/Δ for RND Lab, plus theoretical before/after and theoretical Δ.</div>\"))\n",
    "display(rnd_tbl.round(2))\n",
    "\n",
    "display(HTML(\"<div class='figure-note'>Measured attenuation increases with harmonic order (~−20 dB/dec). The theoretical Δ equals 20·log10|H(j·2π·n·F0)| and aligns closely with measurements.</div>\"))\n",
    "\n",
    "# --- 4.4.3 Frequency response (FFT) ---\n",
    "display(HTML(\"<div class='pagebreak'></div>\"))\n",
    "display(HTML(\"<div class='keep-with-next nobreak'>The following FFT views at 1 kHz, 10 kHz, and 100 kHz show how higher frequencies are attenuated more strongly by the RC filter.</div>\"))\n",
    "\n",
    "IMG_WIDTH = 360\n",
    "for cap, path in [\n",
    "    (\"Fig. 5. RC near 1 kHz (FFT) — measured with Keysight oscilloscope FFT\",   \"rc_fft_1khz.png\"),\n",
    "    (\"Fig. 6. RC near 10 kHz (FFT) — measured with Keysight oscilloscope FFT\",  \"rc_fft_10khz.png\"),\n",
    "    (\"Fig. 7. RC near 100 kHz (FFT) — measured with Keysight oscilloscope FFT\", \"rc_fft_100khz.png\"),\n",
    "]:\n",
    "    try:\n",
    "        display(Image(filename=path, embed=True, width=IMG_WIDTH))\n",
    "        caption(cap)\n",
    "    except Exception as e:\n",
    "        display(HTML(f\"<div style='color:#c00'>Missing image: {path} ({e})</div>\"))\n",
    "\n",
    "# --- 4.4.4 Time-domain snapshots ---\n",
    "display(HTML(\"<div class='pagebreak'></div>\"))\n",
    "display(HTML(\"<div class='keep-with-next nobreak'>Time-domain snapshots of the RC output at 1 kHz, 10 kHz, and 100 kHz confirm that the waveform becomes progressively smoother.</div>\"))\n",
    "\n",
    "for cap, path in [\n",
    "    (\"Fig. 8. 1 kHz time-domain (RC output)\",   \"rc_signal.png\"),\n",
    "    (\"Fig. 9. 10 kHz time-domain (RC output)\", \"rc_10khz.png\"),\n",
    "    (\"Fig. 10. 100 kHz time-domain (RC output)\",\"rc_100khz.png\"),\n",
    "]:\n",
    "    try:\n",
    "        display(Image(filename=path, embed=True, width=IMG_WIDTH))\n",
    "        caption(cap)\n",
    "    except Exception as e:\n",
    "        display(HTML(f\"<div style='color:#c00'>Missing image: {path} ({e})</div>\"))\n",
    "\n",
    "display(HTML(\"<div class='figure-note keep-with-next nobreak'>These observations agree with the FFT analysis and confirm the expected low-pass behavior.</div>\"))\n"
   ]
  },
  {
   "cell_type": "markdown",
   "id": "discussion",
   "metadata": {},
   "source": [
    "<div class=\"pagebreak\"></div>\n",
    "\n",
    "## Discussion\n",
    "\n",
    "### Sawtooth, Triangle, and Sine (Sections 4.1–4.3)  \n",
    "The measured waveforms confirmed the main predictions from Fourier theory:\n",
    "\n",
    "- **Sawtooth:** All harmonics were visible, with amplitudes decaying approximately as \\(1/n\\). Both Keysight and RND followed the theoretical envelope, although higher orders were slightly weaker due to FFT resolution and generator non-idealities. The normalized dBc spectra made the expected harmonic slope clearer.  \n",
    "\n",
    "- **Triangle:** Only odd harmonics appeared, decaying near \\(1/n^2\\). Even harmonics stayed close to the noise floor, in agreement with theory. Both sources reproduced the slope, though high orders fell somewhat faster than predicted, suggesting extra attenuation.  \n",
    "\n",
    "- **Sine:** Only the fundamental remained. Higher harmonics stayed at the noise floor, with occasional spurious peaks from FFT leakage and quantization. This demonstrated low distortion for both sources when generating pure sine waves.  \n",
    "\n",
    "### RC Filter (Section 4.4)  \n",
    "The RC stage behaved as a first-order low-pass filter:\n",
    "\n",
    "- The measured cutoff frequency of ≈2 kHz matched the calculated value using the measured R and C.  \n",
    "- Harmonics rolled off at about −20 dB/decade, consistent with theory.  \n",
    "- Time-domain plots confirmed the expected smoothing of waveform edges.  \n",
    "- Small deviations arose from component tolerances, parasitic capacitances, FFT resolution, and the use of a Hann window.  \n",
    "\n",
    "### Source Comparison (Sections 4.1–4.4)  \n",
    "The two generators showed different alignment with theory:\n",
    "\n",
    "- **Before RC:** RND matched the theoretical Fourier series more closely, while Keysight deviated.  \n",
    "- **After RC:** Keysight moved closer to theory, while RND appeared to fall below it at higher harmonics.  \n",
    "\n",
    "This is explained by the raw spectra. Keysight produced extra high-order content that the RC filter removed, resulting in a spectrum closer to the ideal. RND already generated a “clean” sawtooth, so the combination of its internal filtering and the external RC stage led to stronger than expected suppression of higher harmonics when expressed in dBc. Frequency offsets, FFT bin alignment, and small cutoff shifts from cables and scope input capacitance also contributed.  \n",
    "\n",
    "### Summary  \n",
    "Overall, theory and measurement agreed within a few dB. Each waveform showed its predicted harmonic structure, and the RC filter followed the −20 dB/decade model. The differences between Keysight and RND explained most of the deviations. The lab thus confirmed that Fourier series and simple RC filter theory accurately describe the observed spectra under real measurement conditions.  \n"
   ]
  },
  {
   "cell_type": "markdown",
   "id": "conclusion",
   "metadata": {},
   "source": [
    "<div class=\"pagebreak\"></div>\n",
    "\n",
    "## Conclusions\n",
    "\n",
    "This lab verified the theoretical Fourier amplitudes for sawtooth, triangle, and sine waves, as well as the expected attenuation from a first-order RC filter. The results demonstrated that Fourier analysis provides a reliable framework for predicting harmonic content and filtering effects.\n",
    "\n",
    "Key findings:  \n",
    "- Harmonic decay followed theory: \\(1/n\\) for sawtooth, \\(1/n^2\\) for triangle, and only the fundamental for sine.  \n",
    "- The RC filter introduced the expected ≈ −20 dB/decade roll-off, producing smoother time-domain signals at higher frequencies.  \n",
    "- Source comparison showed that both Keysight AWG and RND Lab FG produced similar fundamentals; RND preserved stronger upper harmonics due to higher resolution and bandwidth, while Keysight output appeared smoother from stronger internal filtering.  \n",
    "- Deviations of only a few dB were explained by FFT windowing, finite frequency resolution, generator characteristics, and component tolerances.  \n",
    "- The oscilloscope FFT combined with Python post-processing proved effective for extracting harmonics and comparing results to theory.\n",
    "\n",
    "**Conclusion:**  \n",
    "Fourier series together with simple RC filter theory accurately predicted the measured spectral shaping. The lab confirmed that theoretical models remain valid under practical conditions, with observed differences explained by known limitations in instruments and components.  \n",
    "\n",
    "<div class=\"pagebreak\"></div>\n"
   ]
  },
  {
   "cell_type": "markdown",
   "id": "references",
   "metadata": {},
   "source": [
    "## References\n",
    "\n",
    "[1] H. Hallenberg, Signalbehandling och kommunikationssystem, Yrgo, 2021.  \n",
    "[2] ELA24 – Laboration: Frekvensanalys (Lab PM).  \n",
    "[3] ELA24 – Ledning Fourierlabben.  \n",
    "[4] Keysight Oscilloscope User Guide (FFT in dBVrms).  \n",
    "[5] Wikipedia, “Low‑pass filter – RC filter.”  \n",
    "[6] Keysight Technologies, 1000‑X Series Oscilloscope User Guide (FFT scaling, window functions).  \n",
    "[7] Keysight Technologies, BenchVue Software (BV0000A) User Guide, 2019.  \n",
    "[8] RND Lab Function Generator Datasheet, RND_360-00002_eng_tds.pdf.  \n",
    "[9] RND Lab Function Generator Quick Guide, RND_360-00002_Quick_Guide_eng_man.pdf.  \n",
    "<div class=\"pagebreak\"></div>"
   ]
  },
  {
   "cell_type": "markdown",
   "id": "3a382cdd",
   "metadata": {},
   "source": [
    "## Appendix A: Figures\n",
    "\n",
    "Appendix A contains oscilloscope screenshots of input and RC‑filtered signals.\n",
    "\n",
    "### Time-domain waveforms (Input signals)\n",
    "\n",
    "<div class=\"keep-together\" style=\"display:flex; flex-wrap:wrap; gap:16px; align-items:flex-start; margin:0.3em 0 1.2em 0;\">\n",
    "  <div style=\"flex:1 1 30%\"><div class=\"caption\" style=\"margin:0.35em 0\">Fig. A1. Sawtooth input (time domain)</div><img src=\"saw_signal.png\" alt=\"Fig. A1. Sawtooth input\" width=\"320\"/></div>\n",
    "  <div style=\"flex:1 1 30%\"><div class=\"caption\" style=\"margin:0.35em 0\">Fig. A2. Triangle input (time domain)</div><img src=\"triangle_signal.png\" alt=\"Fig. A2. Triangle input\" width=\"320\"/></div>\n",
    "  <div style=\"flex:1 1 30%\"><div class=\"caption\" style=\"margin:0.35em 0\">Fig. A3. Sine input (time domain)</div><img src=\"sine_signal.png\" alt=\"Fig. A3. Sine input\" width=\"320\"/></div>\n",
    "</div>\n",
    "\n",
    "### FFT spectra (Measured)\n",
    "\n",
    "<div class=\"keep-together\" style=\"display:flex; flex-wrap:wrap; gap:16px; align-items:flex-start; margin:0.3em 0 1.2em 0;\">\n",
    "  <div style=\"flex:1 1 30%\"><div class=\"caption\" style=\"margin:0.35em 0\">Fig. A4. Sawtooth input (FFT)</div><img src=\"saw_fft.png\" alt=\"Fig. A4. Sawtooth FFT\" width=\"320\"/></div>\n",
    "  <div style=\"flex:1 1 30%\"><div class=\"caption\" style=\"margin:0.35em 0\">Fig. A5. Triangle input (FFT)</div><img src=\"triangle_fft.png\" alt=\"Fig. A5. Triangle FFT\" width=\"320\"/></div>\n",
    "  <div style=\"flex:1 1 30%\"><div class=\"caption\" style=\"margin:0.35em 0\">Fig. A6. Sine input (FFT)</div><img src=\"sine_fft.png\" alt=\"Fig. A6. Sine FFT\" width=\"320\"/></div>\n",
    "</div>\n",
    "\n",
    "> Note: If an image fails to render in exported PDF, ensure the files are alongside the notebook, or rely on embedded display outputs in the main RC section.\n",
    "<div class=\"pagebreak\"></div>"
   ]
  },
  {
   "cell_type": "markdown",
   "id": "e2b78a2e",
   "metadata": {},
   "source": [
    "## Appendix B: Python math used\n",
    "\n",
    "The minimal Python used to compute theoretical quantities referenced in the Results is included below for completeness.\n",
    "\n",
    "```python\n",
    "# Core helpers (theory + CSV parsing + plotting) moved here for completeness\n",
    "# ---- Parameters (match main analysis) ----\n",
    "F0      = 1000.0          # [Hz] fundamental\n",
    "VPP     = 5.0             # [Vpp] generator-level for theory\n",
    "A       = VPP/2.0         # [Vpeak]\n",
    "N_HARM  = 10              # compare first N harmonics\n",
    "R_meas, C_meas = 8140.0, 9.853e-9\n",
    "FC      = 1.0/(2*np.pi*R_meas*C_meas)\n",
    "\n",
    "def vrms_to_dBVrms(vrms, floor=1e-12):\n",
    "    v = np.maximum(np.asarray(vrms, float), floor)\n",
    "    return 20.0*np.log10(v)\n",
    "\n",
    "\n",
    "def rc_mag(f, fc=FC):\n",
    "    f = np.asarray(f, float)\n",
    "    return 1.0/np.sqrt(1.0 + (f/fc)**2)\n",
    "\n",
    "\n",
    "def sawtooth_dBVrms(n, A=A):\n",
    "    n = np.asarray(n, int)\n",
    "    vpk = 2.0*A/(np.pi*np.maximum(n,1))\n",
    "    vrms = vpk/np.sqrt(2.0)\n",
    "    return vrms_to_dBVrms(vrms)\n",
    "\n",
    "\n",
    "def triangle_dBVrms(n, A=A):\n",
    "    n = np.asarray(n, int)\n",
    "    vrms = np.zeros_like(n, float)\n",
    "    odd = (n % 2 == 1)\n",
    "    vpk_odd = 8.0*A/(np.pi**2 * np.maximum(n[odd],1)**2)\n",
    "    vrms[odd] = vpk_odd/np.sqrt(2.0)\n",
    "    dB = vrms_to_dBVrms(vrms)\n",
    "    dB[~odd] = np.nan\n",
    "    return dB\n",
    "\n",
    "\n",
    "def sine_dBVrms(n, A=A):\n",
    "    n = np.asarray(n, int)\n",
    "    vrms = np.zeros_like(n, float)\n",
    "    vrms[n == 1] = A/np.sqrt(2.0)\n",
    "    dB = vrms_to_dBVrms(vrms)\n",
    "    dB[n != 1] = np.nan\n",
    "    return dB\n",
    "```"
   ]
  }
 ],
 "metadata": {
  "kernelspec": {
   "display_name": ".venv",
   "language": "python",
   "name": "python3"
  },
  "language_info": {
   "codemirror_mode": {
    "name": "ipython",
    "version": 3
   },
   "file_extension": ".py",
   "mimetype": "text/x-python",
   "name": "python",
   "nbconvert_exporter": "python",
   "pygments_lexer": "ipython3",
   "version": "3.11.9"
  }
 },
 "nbformat": 4,
 "nbformat_minor": 5
}
